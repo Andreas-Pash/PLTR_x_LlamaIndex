{
 "cells": [
  {
   "cell_type": "code",
   "execution_count": 0,
   "metadata": {
    "application/vnd.databricks.v1+cell": {
     "cellMetadata": {
      "byteLimit": 2048000,
      "rowLimit": 10000
     },
     "inputWidgets": {},
     "nuid": "17e1bcda-21f2-4d37-80c7-2b0401525a78",
     "showTitle": false,
     "tableResultSettingsMap": {},
     "title": ""
    }
   },
   "outputs": [],
   "source": [
    "%load_ext autoreload\n",
    "%autoreload 2\n",
    "# Enables autoreload; learn more at https://docs.databricks.com/en/files/workspace-modules.html#autoreload-for-python-modules\n",
    "# To disable autoreload; run %autoreload 0"
   ]
  },
  {
   "cell_type": "code",
   "execution_count": 0,
   "metadata": {
    "application/vnd.databricks.v1+cell": {
     "cellMetadata": {
      "byteLimit": 2048000,
      "rowLimit": 10000
     },
     "inputWidgets": {},
     "nuid": "edbf8386-571c-48a9-b08c-549918e9d5b3",
     "showTitle": true,
     "tableResultSettingsMap": {},
     "title": "Install dependancies"
    }
   },
   "outputs": [
    {
     "name": "stdout",
     "output_type": "stream",
     "text": [
      "Requirement already satisfied: pydantic<3,>=2.7 in /databricks/python3/lib/python3.12/site-packages (from -r requirements.txt (line 1)) (2.8.2)\n",
      "Collecting openai>=1.80 (from -r requirements.txt (line 2))\n",
      "  Downloading openai-1.92.2-py3-none-any.whl.metadata (29 kB)\n",
      "Collecting aiolimiter>=1.2 (from -r requirements.txt (line 3))\n",
      "  Downloading aiolimiter-1.2.1-py3-none-any.whl.metadata (4.5 kB)\n",
      "Collecting langchain-core>=0.3.1 (from -r requirements.txt (line 5))\n",
      "  Downloading langchain_core-0.3.66-py3-none-any.whl.metadata (5.8 kB)\n",
      "Collecting langchain-community>=0.3.1 (from -r requirements.txt (line 6))\n",
      "  Downloading langchain_community-0.3.26-py3-none-any.whl.metadata (2.9 kB)\n",
      "Collecting neo4j>=5.20 (from -r requirements.txt (line 8))\n",
      "  Downloading neo4j-5.28.1-py3-none-any.whl.metadata (5.9 kB)\n",
      "Collecting graspologic>=3.4 (from -r requirements.txt (line 9))\n",
      "  Downloading graspologic-3.4.1-py3-none-any.whl.metadata (5.8 kB)\n",
      "Collecting networkx>=3.3 (from -r requirements.txt (line 10))\n",
      "  Downloading networkx-3.5-py3-none-any.whl.metadata (6.3 kB)\n",
      "Collecting pyvis (from -r requirements.txt (line 11))\n",
      "  Downloading pyvis-0.3.2-py3-none-any.whl.metadata (1.7 kB)\n",
      "Collecting llama-index-core>=0.12.0 (from -r requirements.txt (line 13))\n",
      "  Downloading llama_index_core-0.12.44-py3-none-any.whl.metadata (2.5 kB)\n",
      "Collecting llama-index-graph-stores-neo4j>=0.4.0 (from -r requirements.txt (line 15))\n",
      "  Downloading llama_index_graph_stores_neo4j-0.4.6-py3-none-any.whl.metadata (694 bytes)\n",
      "Collecting llama-index-graph-stores-nebula>=0.4.0 (from -r requirements.txt (line 16))\n",
      "  Downloading llama_index_graph_stores_nebula-0.4.2-py3-none-any.whl.metadata (724 bytes)\n",
      "Collecting llama-index-llms-openai>=0.4.0 (from -r requirements.txt (line 18))\n",
      "  Downloading llama_index_llms_openai-0.4.7-py3-none-any.whl.metadata (3.0 kB)\n",
      "Collecting llama-index-llms-azure-openai>=0.3.0 (from -r requirements.txt (line 19))\n",
      "  Downloading llama_index_llms_azure_openai-0.3.4-py3-none-any.whl.metadata (3.7 kB)\n",
      "Collecting llama-index-llms-databricks>=0.3.0 (from -r requirements.txt (line 20))\n",
      "  Downloading llama_index_llms_databricks-0.3.2-py3-none-any.whl.metadata (1.5 kB)\n",
      "Collecting llama-index-embeddings-huggingface>=0.5.0 (from -r requirements.txt (line 21))\n",
      "  Downloading llama_index_embeddings_huggingface-0.5.5-py3-none-any.whl.metadata (458 bytes)\n",
      "Collecting llama-index-embeddings-openai>=0.3.0 (from -r requirements.txt (line 22))\n",
      "  Downloading llama_index_embeddings_openai-0.3.1-py3-none-any.whl.metadata (684 bytes)\n",
      "Collecting llama-index-embeddings-azure-openai>=0.3.0 (from -r requirements.txt (line 23))\n",
      "  Downloading llama_index_embeddings_azure_openai-0.3.8-py3-none-any.whl.metadata (503 bytes)\n",
      "Requirement already satisfied: annotated-types>=0.4.0 in /databricks/python3/lib/python3.12/site-packages (from pydantic<3,>=2.7->-r requirements.txt (line 1)) (0.7.0)\n",
      "Requirement already satisfied: pydantic-core==2.20.1 in /databricks/python3/lib/python3.12/site-packages (from pydantic<3,>=2.7->-r requirements.txt (line 1)) (2.20.1)\n",
      "Requirement already satisfied: typing-extensions>=4.6.1 in /databricks/python3/lib/python3.12/site-packages (from pydantic<3,>=2.7->-r requirements.txt (line 1)) (4.11.0)\n",
      "Requirement already satisfied: anyio<5,>=3.5.0 in /databricks/python3/lib/python3.12/site-packages (from openai>=1.80->-r requirements.txt (line 2)) (4.2.0)\n",
      "Requirement already satisfied: distro<2,>=1.7.0 in /usr/lib/python3/dist-packages (from openai>=1.80->-r requirements.txt (line 2)) (1.9.0)\n",
      "Requirement already satisfied: httpx<1,>=0.23.0 in /databricks/python3/lib/python3.12/site-packages (from openai>=1.80->-r requirements.txt (line 2)) (0.27.2)\n",
      "Requirement already satisfied: jiter<1,>=0.4.0 in /databricks/python3/lib/python3.12/site-packages (from openai>=1.80->-r requirements.txt (line 2)) (0.7.0)\n",
      "Requirement already satisfied: sniffio in /databricks/python3/lib/python3.12/site-packages (from openai>=1.80->-r requirements.txt (line 2)) (1.3.0)\n",
      "Requirement already satisfied: tqdm>4 in /databricks/python3/lib/python3.12/site-packages (from openai>=1.80->-r requirements.txt (line 2)) (4.66.4)\n",
      "Collecting langsmith>=0.3.45 (from langchain-core>=0.3.1->-r requirements.txt (line 5))\n",
      "  Downloading langsmith-0.4.2-py3-none-any.whl.metadata (15 kB)\n",
      "Requirement already satisfied: tenacity!=8.4.0,<10.0.0,>=8.1.0 in /databricks/python3/lib/python3.12/site-packages (from langchain-core>=0.3.1->-r requirements.txt (line 5)) (8.2.2)\n",
      "Requirement already satisfied: jsonpatch<2.0,>=1.33 in /databricks/python3/lib/python3.12/site-packages (from langchain-core>=0.3.1->-r requirements.txt (line 5)) (1.33)\n",
      "Requirement already satisfied: PyYAML>=5.3 in /databricks/python3/lib/python3.12/site-packages (from langchain-core>=0.3.1->-r requirements.txt (line 5)) (6.0.1)\n",
      "Requirement already satisfied: packaging<25,>=23.2 in /databricks/python3/lib/python3.12/site-packages (from langchain-core>=0.3.1->-r requirements.txt (line 5)) (24.2)\n",
      "Collecting langchain<1.0.0,>=0.3.26 (from langchain-community>=0.3.1->-r requirements.txt (line 6))\n",
      "  Downloading langchain-0.3.26-py3-none-any.whl.metadata (7.8 kB)\n",
      "Requirement already satisfied: SQLAlchemy<3,>=1.4 in /databricks/python3/lib/python3.12/site-packages (from langchain-community>=0.3.1->-r requirements.txt (line 6)) (2.0.30)\n",
      "Requirement already satisfied: requests<3,>=2 in /databricks/python3/lib/python3.12/site-packages (from langchain-community>=0.3.1->-r requirements.txt (line 6)) (2.32.2)\n",
      "Requirement already satisfied: aiohttp<4.0.0,>=3.8.3 in /databricks/python3/lib/python3.12/site-packages (from langchain-community>=0.3.1->-r requirements.txt (line 6)) (3.9.5)\n",
      "Collecting dataclasses-json<0.7,>=0.5.7 (from langchain-community>=0.3.1->-r requirements.txt (line 6))\n",
      "  Downloading dataclasses_json-0.6.7-py3-none-any.whl.metadata (25 kB)\n",
      "Collecting pydantic-settings<3.0.0,>=2.4.0 (from langchain-community>=0.3.1->-r requirements.txt (line 6))\n",
      "  Downloading pydantic_settings-2.10.1-py3-none-any.whl.metadata (3.4 kB)\n",
      "Collecting httpx-sse<1.0.0,>=0.4.0 (from langchain-community>=0.3.1->-r requirements.txt (line 6))\n",
      "  Downloading httpx_sse-0.4.1-py3-none-any.whl.metadata (9.4 kB)\n",
      "Requirement already satisfied: numpy>=1.26.2 in /databricks/python3/lib/python3.12/site-packages (from langchain-community>=0.3.1->-r requirements.txt (line 6)) (1.26.4)\n",
      "Requirement already satisfied: pytz in /databricks/python3/lib/python3.12/site-packages (from neo4j>=5.20->-r requirements.txt (line 8)) (2024.1)\n",
      "Collecting POT<0.10,>=0.9 (from graspologic>=3.4->-r requirements.txt (line 9))\n",
      "  Downloading POT-0.9.5-cp312-cp312-manylinux_2_17_x86_64.manylinux2014_x86_64.whl.metadata (34 kB)\n",
      "Collecting anytree<3.0.0,>=2.12.1 (from graspologic>=3.4->-r requirements.txt (line 9))\n",
      "  Downloading anytree-2.13.0-py3-none-any.whl.metadata (8.0 kB)\n",
      "Collecting beartype<0.19.0,>=0.18.5 (from graspologic>=3.4->-r requirements.txt (line 9))\n",
      "  Downloading beartype-0.18.5-py3-none-any.whl.metadata (30 kB)\n",
      "Collecting gensim<5.0.0,>=4.3.2 (from graspologic>=3.4->-r requirements.txt (line 9))\n",
      "  Downloading gensim-4.3.3-cp312-cp312-manylinux_2_17_x86_64.manylinux2014_x86_64.whl.metadata (8.1 kB)\n",
      "Collecting graspologic-native<2.0.0,>=1.2.1 (from graspologic>=3.4->-r requirements.txt (line 9))\n",
      "  Downloading graspologic_native-1.2.5-cp38-abi3-manylinux_2_17_x86_64.manylinux2014_x86_64.whl.metadata (2.6 kB)\n",
      "Collecting hyppo<0.5.0,>=0.4.0 (from graspologic>=3.4->-r requirements.txt (line 9))\n",
      "  Downloading hyppo-0.4.0-py3-none-any.whl.metadata (1.7 kB)\n",
      "Requirement already satisfied: joblib<2.0.0,>=1.4.2 in /databricks/python3/lib/python3.12/site-packages (from graspologic>=3.4->-r requirements.txt (line 9)) (1.4.2)\n",
      "Requirement already satisfied: matplotlib<4.0.0,>=3.8.4 in /databricks/python3/lib/python3.12/site-packages (from graspologic>=3.4->-r requirements.txt (line 9)) (3.8.4)\n",
      "Requirement already satisfied: scikit-learn<2.0.0,>=1.4.2 in /databricks/python3/lib/python3.12/site-packages (from graspologic>=3.4->-r requirements.txt (line 9)) (1.4.2)\n",
      "Collecting scipy==1.12.0 (from graspologic>=3.4->-r requirements.txt (line 9))\n",
      "  Downloading scipy-1.12.0-cp312-cp312-manylinux_2_17_x86_64.manylinux2014_x86_64.whl.metadata (60 kB)\n",
      "\u001b[?25l     \u001b[90m━━━━━━━━━━━━━━━━━━━━━━━━━━━━━━━━━━━━━━━━\u001b[0m \u001b[32m0.0/60.4 kB\u001b[0m \u001b[31m?\u001b[0m eta \u001b[36m-:--:--\u001b[0m\n",
      "\u001b[2K     \u001b[90m━━━━━━━━━━━━━━━━━━━━━━━━━━━━━━━━━━━━━━━━\u001b[0m \u001b[32m60.4/60.4 kB\u001b[0m \u001b[31m5.7 MB/s\u001b[0m eta \u001b[36m0:00:00\u001b[0m\n",
      "\u001b[?25hRequirement already satisfied: seaborn<0.14.0,>=0.13.2 in /databricks/python3/lib/python3.12/site-packages (from graspologic>=3.4->-r requirements.txt (line 9)) (0.13.2)\n",
      "Requirement already satisfied: statsmodels<0.15.0,>=0.14.2 in /databricks/python3/lib/python3.12/site-packages (from graspologic>=3.4->-r requirements.txt (line 9)) (0.14.2)\n",
      "Collecting umap-learn<0.6.0,>=0.5.6 (from graspologic>=3.4->-r requirements.txt (line 9))\n",
      "  Downloading umap_learn-0.5.7-py3-none-any.whl.metadata (21 kB)\n",
      "Requirement already satisfied: ipython>=5.3.0 in /databricks/python3/lib/python3.12/site-packages (from pyvis->-r requirements.txt (line 11)) (8.25.0)\n",
      "Requirement already satisfied: jinja2>=2.9.6 in /databricks/python3/lib/python3.12/site-packages (from pyvis->-r requirements.txt (line 11)) (3.1.4)\n",
      "Collecting jsonpickle>=1.4.1 (from pyvis->-r requirements.txt (line 11))\n",
      "  Downloading jsonpickle-4.1.1-py3-none-any.whl.metadata (8.1 kB)\n",
      "Collecting aiosqlite (from llama-index-core>=0.12.0->-r requirements.txt (line 13))\n",
      "  Downloading aiosqlite-0.21.0-py3-none-any.whl.metadata (4.3 kB)\n",
      "Collecting banks<3,>=2.0.0 (from llama-index-core>=0.12.0->-r requirements.txt (line 13))\n",
      "  Downloading banks-2.1.2-py3-none-any.whl.metadata (12 kB)\n",
      "Requirement already satisfied: deprecated>=1.2.9.3 in /databricks/python3/lib/python3.12/site-packages (from llama-index-core>=0.12.0->-r requirements.txt (line 13)) (1.2.14)\n",
      "Collecting dirtyjson<2,>=1.0.8 (from llama-index-core>=0.12.0->-r requirements.txt (line 13))\n",
      "  Downloading dirtyjson-1.0.8-py3-none-any.whl.metadata (11 kB)\n",
      "Collecting filetype<2,>=1.2.0 (from llama-index-core>=0.12.0->-r requirements.txt (line 13))\n",
      "  Downloading filetype-1.2.0-py2.py3-none-any.whl.metadata (6.5 kB)\n",
      "Requirement already satisfied: fsspec>=2023.5.0 in /databricks/python3/lib/python3.12/site-packages (from llama-index-core>=0.12.0->-r requirements.txt (line 13)) (2023.5.0)\n",
      "Collecting llama-index-workflows<2,>=1.0.1 (from llama-index-core>=0.12.0->-r requirements.txt (line 13))\n",
      "  Downloading llama_index_workflows-1.0.1-py3-none-any.whl.metadata (5.5 kB)\n",
      "Requirement already satisfied: nest-asyncio<2,>=1.5.8 in /databricks/python3/lib/python3.12/site-packages (from llama-index-core>=0.12.0->-r requirements.txt (line 13)) (1.6.0)\n",
      "Collecting nltk>3.8.1 (from llama-index-core>=0.12.0->-r requirements.txt (line 13))\n",
      "  Downloading nltk-3.9.1-py3-none-any.whl.metadata (2.9 kB)\n",
      "Requirement already satisfied: pillow>=9.0.0 in /databricks/python3/lib/python3.12/site-packages (from llama-index-core>=0.12.0->-r requirements.txt (line 13)) (10.3.0)\n",
      "Collecting setuptools>=80.9.0 (from llama-index-core>=0.12.0->-r requirements.txt (line 13))\n",
      "  Downloading setuptools-80.9.0-py3-none-any.whl.metadata (6.6 kB)\n",
      "Requirement already satisfied: tiktoken>=0.7.0 in /databricks/python3/lib/python3.12/site-packages (from llama-index-core>=0.12.0->-r requirements.txt (line 13)) (0.7.0)\n",
      "Collecting typing-inspect>=0.8.0 (from llama-index-core>=0.12.0->-r requirements.txt (line 13))\n",
      "  Downloading typing_inspect-0.9.0-py3-none-any.whl.metadata (1.5 kB)\n",
      "Requirement already satisfied: wrapt in /databricks/python3/lib/python3.12/site-packages (from llama-index-core>=0.12.0->-r requirements.txt (line 13)) (1.14.1)\n",
      "Collecting nebula3-python<4.0.0,>=3.8.0 (from llama-index-graph-stores-nebula>=0.4.0->-r requirements.txt (line 16))\n",
      "  Downloading nebula3_python-3.8.3-py3-none-any.whl.metadata (16 kB)\n",
      "Requirement already satisfied: azure-identity<2,>=1.15.0 in /databricks/python3/lib/python3.12/site-packages (from llama-index-llms-azure-openai>=0.3.0->-r requirements.txt (line 19)) (1.19.0)\n",
      "Collecting llama-index-llms-openai-like<0.5,>=0.4.0 (from llama-index-llms-databricks>=0.3.0->-r requirements.txt (line 20))\n",
      "  Downloading llama_index_llms_openai_like-0.4.0-py3-none-any.whl.metadata (1.1 kB)\n",
      "Requirement already satisfied: huggingface-hub>=0.19.0 in /databricks/python3/lib/python3.12/site-packages (from huggingface-hub[inference]>=0.19.0->llama-index-embeddings-huggingface>=0.5.0->-r requirements.txt (line 21)) (0.24.5)\n",
      "Requirement already satisfied: sentence-transformers>=2.6.1 in /databricks/python3/lib/python3.12/site-packages (from llama-index-embeddings-huggingface>=0.5.0->-r requirements.txt (line 21)) (3.0.1)\n",
      "Requirement already satisfied: aiosignal>=1.1.2 in /databricks/python3/lib/python3.12/site-packages (from aiohttp<4.0.0,>=3.8.3->langchain-community>=0.3.1->-r requirements.txt (line 6)) (1.2.0)\n",
      "Requirement already satisfied: attrs>=17.3.0 in /databricks/python3/lib/python3.12/site-packages (from aiohttp<4.0.0,>=3.8.3->langchain-community>=0.3.1->-r requirements.txt (line 6)) (23.1.0)\n",
      "Requirement already satisfied: frozenlist>=1.1.1 in /databricks/python3/lib/python3.12/site-packages (from aiohttp<4.0.0,>=3.8.3->langchain-community>=0.3.1->-r requirements.txt (line 6)) (1.4.0)\n",
      "Requirement already satisfied: multidict<7.0,>=4.5 in /databricks/python3/lib/python3.12/site-packages (from aiohttp<4.0.0,>=3.8.3->langchain-community>=0.3.1->-r requirements.txt (line 6)) (6.0.4)\n",
      "Requirement already satisfied: yarl<2.0,>=1.0 in /databricks/python3/lib/python3.12/site-packages (from aiohttp<4.0.0,>=3.8.3->langchain-community>=0.3.1->-r requirements.txt (line 6)) (1.9.3)\n",
      "Requirement already satisfied: idna>=2.8 in /databricks/python3/lib/python3.12/site-packages (from anyio<5,>=3.5.0->openai>=1.80->-r requirements.txt (line 2)) (3.7)\n",
      "Requirement already satisfied: azure-core>=1.31.0 in /databricks/python3/lib/python3.12/site-packages (from azure-identity<2,>=1.15.0->llama-index-llms-azure-openai>=0.3.0->-r requirements.txt (line 19)) (1.32.0)\n",
      "Requirement already satisfied: cryptography>=2.5 in /databricks/python3/lib/python3.12/site-packages (from azure-identity<2,>=1.15.0->llama-index-llms-azure-openai>=0.3.0->-r requirements.txt (line 19)) (42.0.5)\n",
      "Requirement already satisfied: msal>=1.30.0 in /databricks/python3/lib/python3.12/site-packages (from azure-identity<2,>=1.15.0->llama-index-llms-azure-openai>=0.3.0->-r requirements.txt (line 19)) (1.31.0)\n",
      "Requirement already satisfied: msal-extensions>=1.2.0 in /databricks/python3/lib/python3.12/site-packages (from azure-identity<2,>=1.15.0->llama-index-llms-azure-openai>=0.3.0->-r requirements.txt (line 19)) (1.2.0)\n",
      "Collecting griffe (from banks<3,>=2.0.0->llama-index-core>=0.12.0->-r requirements.txt (line 13))\n",
      "  Downloading griffe-1.7.3-py3-none-any.whl.metadata (5.0 kB)\n",
      "Requirement already satisfied: platformdirs in /databricks/python3/lib/python3.12/site-packages (from banks<3,>=2.0.0->llama-index-core>=0.12.0->-r requirements.txt (line 13)) (3.10.0)\n",
      "Collecting marshmallow<4.0.0,>=3.18.0 (from dataclasses-json<0.7,>=0.5.7->langchain-community>=0.3.1->-r requirements.txt (line 6))\n",
      "  Downloading marshmallow-3.26.1-py3-none-any.whl.metadata (7.3 kB)\n",
      "Requirement already satisfied: smart-open>=1.8.1 in /databricks/python3/lib/python3.12/site-packages (from gensim<5.0.0,>=4.3.2->graspologic>=3.4->-r requirements.txt (line 9)) (5.2.1)\n",
      "Requirement already satisfied: certifi in /databricks/python3/lib/python3.12/site-packages (from httpx<1,>=0.23.0->openai>=1.80->-r requirements.txt (line 2)) (2024.6.2)\n",
      "Requirement already satisfied: httpcore==1.* in /databricks/python3/lib/python3.12/site-packages (from httpx<1,>=0.23.0->openai>=1.80->-r requirements.txt (line 2)) (1.0.6)\n",
      "Requirement already satisfied: h11<0.15,>=0.13 in /databricks/python3/lib/python3.12/site-packages (from httpcore==1.*->httpx<1,>=0.23.0->openai>=1.80->-r requirements.txt (line 2)) (0.14.0)\n",
      "Requirement already satisfied: filelock in /databricks/python3/lib/python3.12/site-packages (from huggingface-hub>=0.19.0->huggingface-hub[inference]>=0.19.0->llama-index-embeddings-huggingface>=0.5.0->-r requirements.txt (line 21)) (3.13.1)\n",
      "Collecting minijinja>=1.0 (from huggingface-hub[inference]>=0.19.0->llama-index-embeddings-huggingface>=0.5.0->-r requirements.txt (line 21))\n",
      "  Downloading minijinja-2.10.2-cp38-abi3-manylinux_2_17_x86_64.manylinux2014_x86_64.whl.metadata (9.4 kB)\n",
      "Requirement already satisfied: numba>=0.46 in /databricks/python3/lib/python3.12/site-packages (from hyppo<0.5.0,>=0.4.0->graspologic>=3.4->-r requirements.txt (line 9)) (0.59.1)\n",
      "Collecting autograd>=1.3 (from hyppo<0.5.0,>=0.4.0->graspologic>=3.4->-r requirements.txt (line 9))\n",
      "  Downloading autograd-1.8.0-py3-none-any.whl.metadata (7.5 kB)\n",
      "Requirement already satisfied: decorator in /databricks/python3/lib/python3.12/site-packages (from ipython>=5.3.0->pyvis->-r requirements.txt (line 11)) (5.1.1)\n",
      "Requirement already satisfied: jedi>=0.16 in /databricks/python3/lib/python3.12/site-packages (from ipython>=5.3.0->pyvis->-r requirements.txt (line 11)) (0.19.1)\n",
      "Requirement already satisfied: matplotlib-inline in /databricks/python3/lib/python3.12/site-packages (from ipython>=5.3.0->pyvis->-r requirements.txt (line 11)) (0.1.6)\n",
      "Requirement already satisfied: prompt-toolkit<3.1.0,>=3.0.41 in /databricks/python3/lib/python3.12/site-packages (from ipython>=5.3.0->pyvis->-r requirements.txt (line 11)) (3.0.43)\n",
      "Requirement already satisfied: pygments>=2.4.0 in /databricks/python3/lib/python3.12/site-packages (from ipython>=5.3.0->pyvis->-r requirements.txt (line 11)) (2.15.1)\n",
      "Requirement already satisfied: stack-data in /databricks/python3/lib/python3.12/site-packages (from ipython>=5.3.0->pyvis->-r requirements.txt (line 11)) (0.2.0)\n",
      "Requirement already satisfied: traitlets>=5.13.0 in /databricks/python3/lib/python3.12/site-packages (from ipython>=5.3.0->pyvis->-r requirements.txt (line 11)) (5.14.3)\n",
      "Requirement already satisfied: pexpect>4.3 in /databricks/python3/lib/python3.12/site-packages (from ipython>=5.3.0->pyvis->-r requirements.txt (line 11)) (4.8.0)\n",
      "Requirement already satisfied: MarkupSafe>=2.0 in /databricks/python3/lib/python3.12/site-packages (from jinja2>=2.9.6->pyvis->-r requirements.txt (line 11)) (2.1.3)\n",
      "Requirement already satisfied: jsonpointer>=1.9 in /databricks/python3/lib/python3.12/site-packages (from jsonpatch<2.0,>=1.33->langchain-core>=0.3.1->-r requirements.txt (line 5)) (3.0.0)\n",
      "Collecting langchain-text-splitters<1.0.0,>=0.3.8 (from langchain<1.0.0,>=0.3.26->langchain-community>=0.3.1->-r requirements.txt (line 6))\n",
      "  Downloading langchain_text_splitters-0.3.8-py3-none-any.whl.metadata (1.9 kB)\n",
      "Requirement already satisfied: orjson<4.0.0,>=3.9.14 in /databricks/python3/lib/python3.12/site-packages (from langsmith>=0.3.45->langchain-core>=0.3.1->-r requirements.txt (line 5)) (3.10.11)\n",
      "Requirement already satisfied: requests-toolbelt<2.0.0,>=1.0.0 in /databricks/python3/lib/python3.12/site-packages (from langsmith>=0.3.45->langchain-core>=0.3.1->-r requirements.txt (line 5)) (1.0.0)\n",
      "Collecting zstandard<0.24.0,>=0.23.0 (from langsmith>=0.3.45->langchain-core>=0.3.1->-r requirements.txt (line 5))\n",
      "  Downloading zstandard-0.23.0-cp312-cp312-manylinux_2_17_x86_64.manylinux2014_x86_64.whl.metadata (3.0 kB)\n",
      "Requirement already satisfied: transformers<5,>=4.37.0 in /databricks/python3/lib/python3.12/site-packages (from llama-index-llms-openai-like<0.5,>=0.4.0->llama-index-llms-databricks>=0.3.0->-r requirements.txt (line 20)) (4.44.0)\n",
      "Collecting llama-index-instrumentation>=0.1.0 (from llama-index-workflows<2,>=1.0.1->llama-index-core>=0.12.0->-r requirements.txt (line 13))\n",
      "  Downloading llama_index_instrumentation-0.2.0-py3-none-any.whl.metadata (252 bytes)\n",
      "Collecting pydantic<3,>=2.7 (from -r requirements.txt (line 1))\n",
      "  Downloading pydantic-2.11.7-py3-none-any.whl.metadata (67 kB)\n",
      "\u001b[?25l     \u001b[90m━━━━━━━━━━━━━━━━━━━━━━━━━━━━━━━━━━━━━━━━\u001b[0m \u001b[32m0.0/68.0 kB\u001b[0m \u001b[31m?\u001b[0m eta \u001b[36m-:--:--\u001b[0m\n",
      "\u001b[2K     \u001b[90m━━━━━━━━━━━━━━━━━━━━━━━━━━━━━━━━━━━━━━━━\u001b[0m \u001b[32m68.0/68.0 kB\u001b[0m \u001b[31m4.8 MB/s\u001b[0m eta \u001b[36m0:00:00\u001b[0m\n",
      "\u001b[?25hCollecting pydantic-core==2.33.2 (from pydantic<3,>=2.7->-r requirements.txt (line 1))\n",
      "  Downloading pydantic_core-2.33.2-cp312-cp312-manylinux_2_17_x86_64.manylinux2014_x86_64.whl.metadata (6.8 kB)\n",
      "Collecting typing-extensions!=4.7.0,>=4.6.0 (from pydantic-core==2.20.1->pydantic<3,>=2.7->-r requirements.txt (line 1))\n",
      "  Downloading typing_extensions-4.14.0-py3-none-any.whl.metadata (3.0 kB)\n",
      "Collecting typing-inspection>=0.4.0 (from pydantic<3,>=2.7->-r requirements.txt (line 1))\n",
      "  Downloading typing_inspection-0.4.1-py3-none-any.whl.metadata (2.6 kB)\n",
      "Requirement already satisfied: contourpy>=1.0.1 in /databricks/python3/lib/python3.12/site-packages (from matplotlib<4.0.0,>=3.8.4->graspologic>=3.4->-r requirements.txt (line 9)) (1.2.0)\n",
      "Requirement already satisfied: cycler>=0.10 in /databricks/python3/lib/python3.12/site-packages (from matplotlib<4.0.0,>=3.8.4->graspologic>=3.4->-r requirements.txt (line 9)) (0.11.0)\n",
      "Requirement already satisfied: fonttools>=4.22.0 in /databricks/python3/lib/python3.12/site-packages (from matplotlib<4.0.0,>=3.8.4->graspologic>=3.4->-r requirements.txt (line 9)) (4.51.0)\n",
      "Requirement already satisfied: kiwisolver>=1.3.1 in /databricks/python3/lib/python3.12/site-packages (from matplotlib<4.0.0,>=3.8.4->graspologic>=3.4->-r requirements.txt (line 9)) (1.4.4)\n",
      "Requirement already satisfied: pyparsing>=2.3.1 in /databricks/python3/lib/python3.12/site-packages (from matplotlib<4.0.0,>=3.8.4->graspologic>=3.4->-r requirements.txt (line 9)) (3.0.9)\n",
      "Requirement already satisfied: python-dateutil>=2.7 in /databricks/python3/lib/python3.12/site-packages (from matplotlib<4.0.0,>=3.8.4->graspologic>=3.4->-r requirements.txt (line 9)) (2.9.0.post0)\n",
      "Requirement already satisfied: future>=0.18.0 in /databricks/python3/lib/python3.12/site-packages (from nebula3-python<4.0.0,>=3.8.0->llama-index-graph-stores-nebula>=0.4.0->-r requirements.txt (line 16)) (0.18.3)\n",
      "Requirement already satisfied: httplib2>=0.20.0 in /usr/lib/python3/dist-packages (from nebula3-python<4.0.0,>=3.8.0->llama-index-graph-stores-nebula>=0.4.0->-r requirements.txt (line 16)) (0.20.4)\n",
      "Requirement already satisfied: six>=1.16.0 in /usr/lib/python3/dist-packages (from nebula3-python<4.0.0,>=3.8.0->llama-index-graph-stores-nebula>=0.4.0->-r requirements.txt (line 16)) (1.16.0)\n",
      "Requirement already satisfied: click in /databricks/python3/lib/python3.12/site-packages (from nltk>3.8.1->llama-index-core>=0.12.0->-r requirements.txt (line 13)) (8.1.7)\n",
      "Requirement already satisfied: regex>=2021.8.3 in /databricks/python3/lib/python3.12/site-packages (from nltk>3.8.1->llama-index-core>=0.12.0->-r requirements.txt (line 13)) (2023.10.3)\n",
      "Collecting python-dotenv>=0.21.0 (from pydantic-settings<3.0.0,>=2.4.0->langchain-community>=0.3.1->-r requirements.txt (line 6))\n",
      "  Downloading python_dotenv-1.1.1-py3-none-any.whl.metadata (24 kB)\n",
      "Requirement already satisfied: charset-normalizer<4,>=2 in /databricks/python3/lib/python3.12/site-packages (from requests<3,>=2->langchain-community>=0.3.1->-r requirements.txt (line 6)) (2.0.4)\n",
      "Requirement already satisfied: urllib3<3,>=1.21.1 in /databricks/python3/lib/python3.12/site-packages (from requests<3,>=2->langchain-community>=0.3.1->-r requirements.txt (line 6)) (1.26.16)\n",
      "Requirement already satisfied: threadpoolctl>=2.0.0 in /databricks/python3/lib/python3.12/site-packages (from scikit-learn<2.0.0,>=1.4.2->graspologic>=3.4->-r requirements.txt (line 9)) (2.2.0)\n",
      "Requirement already satisfied: pandas>=1.2 in /databricks/python3/lib/python3.12/site-packages (from seaborn<0.14.0,>=0.13.2->graspologic>=3.4->-r requirements.txt (line 9)) (1.5.3)\n",
      "Requirement already satisfied: torch>=1.11.0 in /databricks/python3/lib/python3.12/site-packages (from sentence-transformers>=2.6.1->llama-index-embeddings-huggingface>=0.5.0->-r requirements.txt (line 21)) (2.4.0+cu124)\n",
      "Requirement already satisfied: greenlet!=0.4.17 in /databricks/python3/lib/python3.12/site-packages (from SQLAlchemy<3,>=1.4->langchain-community>=0.3.1->-r requirements.txt (line 6)) (3.0.1)\n",
      "Requirement already satisfied: patsy>=0.5.6 in /databricks/python3/lib/python3.12/site-packages (from statsmodels<0.15.0,>=0.14.2->graspologic>=3.4->-r requirements.txt (line 9)) (0.5.6)\n",
      "Requirement already satisfied: mypy-extensions>=0.3.0 in /databricks/python3/lib/python3.12/site-packages (from typing-inspect>=0.8.0->llama-index-core>=0.12.0->-r requirements.txt (line 13)) (1.0.0)\n",
      "Collecting pynndescent>=0.5 (from umap-learn<0.6.0,>=0.5.6->graspologic>=3.4->-r requirements.txt (line 9))\n",
      "  Downloading pynndescent-0.5.13-py3-none-any.whl.metadata (6.8 kB)\n",
      "Requirement already satisfied: cffi>=1.12 in /databricks/python3/lib/python3.12/site-packages (from cryptography>=2.5->azure-identity<2,>=1.15.0->llama-index-llms-azure-openai>=0.3.0->-r requirements.txt (line 19)) (1.16.0)\n",
      "Collecting h2<5,>=3 (from ht\n",
      "\n",
      "*** WARNING: max output size exceeded, skipping output. ***\n",
      "\n",
      "m \u001b[32m15.6/37.8 MB\u001b[0m \u001b[31m109.9 MB/s\u001b[0m eta \u001b[36m0:00:01\u001b[0m\n",
      "\u001b[2K   \u001b[91m━━━━━━━━━━━━━━━━━━━━\u001b[0m\u001b[91m╸\u001b[0m\u001b[90m━━━━━━━━━━━━━━━━━━━\u001b[0m \u001b[32m19.4/37.8 MB\u001b[0m \u001b[31m110.0 MB/s\u001b[0m eta \u001b[36m0:00:01\u001b[0m\n",
      "\u001b[2K   \u001b[91m━━━━━━━━━━━━━━━━━━━━━━━━\u001b[0m\u001b[91m╸\u001b[0m\u001b[90m━━━━━━━━━━━━━━━\u001b[0m \u001b[32m23.3/37.8 MB\u001b[0m \u001b[31m111.6 MB/s\u001b[0m eta \u001b[36m0:00:01\u001b[0m\n",
      "\u001b[2K   \u001b[91m━━━━━━━━━━━━━━━━━━━━━━━━━━━━━\u001b[0m\u001b[90m╺\u001b[0m\u001b[90m━━━━━━━━━━\u001b[0m \u001b[32m27.5/37.8 MB\u001b[0m \u001b[31m115.5 MB/s\u001b[0m eta \u001b[36m0:00:01\u001b[0m\n",
      "\u001b[2K   \u001b[91m━━━━━━━━━━━━━━━━━━━━━━━━━━━━━━━━━\u001b[0m\u001b[90m╺\u001b[0m\u001b[90m━━━━━━\u001b[0m \u001b[32m31.4/37.8 MB\u001b[0m \u001b[31m114.6 MB/s\u001b[0m eta \u001b[36m0:00:01\u001b[0m\n",
      "\u001b[2K   \u001b[91m━━━━━━━━━━━━━━━━━━━━━━━━━━━━━━━━━━━━\u001b[0m\u001b[91m╸\u001b[0m\u001b[90m━━━\u001b[0m \u001b[32m34.9/37.8 MB\u001b[0m \u001b[31m108.8 MB/s\u001b[0m eta \u001b[36m0:00:01\u001b[0m\n",
      "\u001b[2K   \u001b[91m━━━━━━━━━━━━━━━━━━━━━━━━━━━━━━━━━━━━━━━\u001b[0m\u001b[91m╸\u001b[0m \u001b[32m37.8/37.8 MB\u001b[0m \u001b[31m111.2 MB/s\u001b[0m eta \u001b[36m0:00:01\u001b[0m\n",
      "\u001b[2K   \u001b[91m━━━━━━━━━━━━━━━━━━━━━━━━━━━━━━━━━━━━━━━\u001b[0m\u001b[91m╸\u001b[0m \u001b[32m37.8/37.8 MB\u001b[0m \u001b[31m111.2 MB/s\u001b[0m eta \u001b[36m0:00:01\u001b[0m\n",
      "\u001b[2K   \u001b[91m━━━━━━━━━━━━━━━━━━━━━━━━━━━━━━━━━━━━━━━\u001b[0m\u001b[91m╸\u001b[0m \u001b[32m37.8/37.8 MB\u001b[0m \u001b[31m111.2 MB/s\u001b[0m eta \u001b[36m0:00:01\u001b[0m\n",
      "\u001b[2K   \u001b[91m━━━━━━━━━━━━━━━━━━━━━━━━━━━━━━━━━━━━━━━\u001b[0m\u001b[91m╸\u001b[0m \u001b[32m37.8/37.8 MB\u001b[0m \u001b[31m111.2 MB/s\u001b[0m eta \u001b[36m0:00:01\u001b[0m\n",
      "\u001b[2K   \u001b[91m━━━━━━━━━━━━━━━━━━━━━━━━━━━━━━━━━━━━━━━\u001b[0m\u001b[91m╸\u001b[0m \u001b[32m37.8/37.8 MB\u001b[0m \u001b[31m111.2 MB/s\u001b[0m eta \u001b[36m0:00:01\u001b[0m\n",
      "\u001b[2K   \u001b[91m━━━━━━━━━━━━━━━━━━━━━━━━━━━━━━━━━━━━━━━\u001b[0m\u001b[91m╸\u001b[0m \u001b[32m37.8/37.8 MB\u001b[0m \u001b[31m111.2 MB/s\u001b[0m eta \u001b[36m0:00:01\u001b[0m\n",
      "\u001b[2K   \u001b[91m━━━━━━━━━━━━━━━━━━━━━━━━━━━━━━━━━━━━━━━\u001b[0m\u001b[91m╸\u001b[0m \u001b[32m37.8/37.8 MB\u001b[0m \u001b[31m111.2 MB/s\u001b[0m eta \u001b[36m0:00:01\u001b[0m\n",
      "\u001b[2K   \u001b[91m━━━━━━━━━━━━━━━━━━━━━━━━━━━━━━━━━━━━━━━\u001b[0m\u001b[91m╸\u001b[0m \u001b[32m37.8/37.8 MB\u001b[0m \u001b[31m111.2 MB/s\u001b[0m eta \u001b[36m0:00:01\u001b[0m\n",
      "\u001b[2K   \u001b[91m━━━━━━━━━━━━━━━━━━━━━━━━━━━━━━━━━━━━━━━\u001b[0m\u001b[91m╸\u001b[0m \u001b[32m37.8/37.8 MB\u001b[0m \u001b[31m111.2 MB/s\u001b[0m eta \u001b[36m0:00:01\u001b[0m\n",
      "\u001b[2K   \u001b[91m━━━━━━━━━━━━━━━━━━━━━━━━━━━━━━━━━━━━━━━\u001b[0m\u001b[91m╸\u001b[0m \u001b[32m37.8/37.8 MB\u001b[0m \u001b[31m111.2 MB/s\u001b[0m eta \u001b[36m0:00:01\u001b[0m\n",
      "\u001b[2K   \u001b[91m━━━━━━━━━━━━━━━━━━━━━━━━━━━━━━━━━━━━━━━\u001b[0m\u001b[91m╸\u001b[0m \u001b[32m37.8/37.8 MB\u001b[0m \u001b[31m111.2 MB/s\u001b[0m eta \u001b[36m0:00:01\u001b[0m\n",
      "\u001b[2K   \u001b[91m━━━━━━━━━━━━━━━━━━━━━━━━━━━━━━━━━━━━━━━\u001b[0m\u001b[91m╸\u001b[0m \u001b[32m37.8/37.8 MB\u001b[0m \u001b[31m111.2 MB/s\u001b[0m eta \u001b[36m0:00:01\u001b[0m\n",
      "\u001b[2K   \u001b[91m━━━━━━━━━━━━━━━━━━━━━━━━━━━━━━━━━━━━━━━\u001b[0m\u001b[91m╸\u001b[0m \u001b[32m37.8/37.8 MB\u001b[0m \u001b[31m111.2 MB/s\u001b[0m eta \u001b[36m0:00:01\u001b[0m\n",
      "\u001b[2K   \u001b[91m━━━━━━━━━━━━━━━━━━━━━━━━━━━━━━━━━━━━━━━\u001b[0m\u001b[91m╸\u001b[0m \u001b[32m37.8/37.8 MB\u001b[0m \u001b[31m111.2 MB/s\u001b[0m eta \u001b[36m0:00:01\u001b[0m\n",
      "\u001b[2K   \u001b[91m━━━━━━━━━━━━━━━━━━━━━━━━━━━━━━━━━━━━━━━\u001b[0m\u001b[91m╸\u001b[0m \u001b[32m37.8/37.8 MB\u001b[0m \u001b[31m111.2 MB/s\u001b[0m eta \u001b[36m0:00:01\u001b[0m\n",
      "\u001b[2K   \u001b[91m━━━━━━━━━━━━━━━━━━━━━━━━━━━━━━━━━━━━━━━\u001b[0m\u001b[91m╸\u001b[0m \u001b[32m37.8/37.8 MB\u001b[0m \u001b[31m111.2 MB/s\u001b[0m eta \u001b[36m0:00:01\u001b[0m\n",
      "\u001b[2K   \u001b[91m━━━━━━━━━━━━━━━━━━━━━━━━━━━━━━━━━━━━━━━\u001b[0m\u001b[91m╸\u001b[0m \u001b[32m37.8/37.8 MB\u001b[0m \u001b[31m111.2 MB/s\u001b[0m eta \u001b[36m0:00:01\u001b[0m\n",
      "\u001b[2K   \u001b[91m━━━━━━━━━━━━━━━━━━━━━━━━━━━━━━━━━━━━━━━\u001b[0m\u001b[91m╸\u001b[0m \u001b[32m37.8/37.8 MB\u001b[0m \u001b[31m111.2 MB/s\u001b[0m eta \u001b[36m0:00:01\u001b[0m\n",
      "\u001b[2K   \u001b[91m━━━━━━━━━━━━━━━━━━━━━━━━━━━━━━━━━━━━━━━\u001b[0m\u001b[91m╸\u001b[0m \u001b[32m37.8/37.8 MB\u001b[0m \u001b[31m111.2 MB/s\u001b[0m eta \u001b[36m0:00:01\u001b[0m\n",
      "\u001b[2K   \u001b[91m━━━━━━━━━━━━━━━━━━━━━━━━━━━━━━━━━━━━━━━\u001b[0m\u001b[91m╸\u001b[0m \u001b[32m37.8/37.8 MB\u001b[0m \u001b[31m111.2 MB/s\u001b[0m eta \u001b[36m0:00:01\u001b[0m\n",
      "\u001b[2K   \u001b[91m━━━━━━━━━━━━━━━━━━━━━━━━━━━━━━━━━━━━━━━\u001b[0m\u001b[91m╸\u001b[0m \u001b[32m37.8/37.8 MB\u001b[0m \u001b[31m111.2 MB/s\u001b[0m eta \u001b[36m0:00:01\u001b[0m\n",
      "\u001b[2K   \u001b[91m━━━━━━━━━━━━━━━━━━━━━━━━━━━━━━━━━━━━━━━\u001b[0m\u001b[91m╸\u001b[0m \u001b[32m37.8/37.8 MB\u001b[0m \u001b[31m111.2 MB/s\u001b[0m eta \u001b[36m0:00:01\u001b[0m\n",
      "\u001b[2K   \u001b[91m━━━━━━━━━━━━━━━━━━━━━━━━━━━━━━━━━━━━━━━\u001b[0m\u001b[91m╸\u001b[0m \u001b[32m37.8/37.8 MB\u001b[0m \u001b[31m111.2 MB/s\u001b[0m eta \u001b[36m0:00:01\u001b[0m\n",
      "\u001b[2K   \u001b[91m━━━━━━━━━━━━━━━━━━━━━━━━━━━━━━━━━━━━━━━\u001b[0m\u001b[91m╸\u001b[0m \u001b[32m37.8/37.8 MB\u001b[0m \u001b[31m111.2 MB/s\u001b[0m eta \u001b[36m0:00:01\u001b[0m\n",
      "\u001b[2K   \u001b[91m━━━━━━━━━━━━━━━━━━━━━━━━━━━━━━━━━━━━━━━\u001b[0m\u001b[91m╸\u001b[0m \u001b[32m37.8/37.8 MB\u001b[0m \u001b[31m111.2 MB/s\u001b[0m eta \u001b[36m0:00:01\u001b[0m\n",
      "\u001b[2K   \u001b[90m━━━━━━━━━━━━━━━━━━━━━━━━━━━━━━━━━━━━━━━━\u001b[0m \u001b[32m37.8/37.8 MB\u001b[0m \u001b[31m10.8 MB/s\u001b[0m eta \u001b[36m0:00:00\u001b[0m\n",
      "\u001b[?25hDownloading networkx-3.5-py3-none-any.whl (2.0 MB)\n",
      "\u001b[?25l   \u001b[90m━━━━━━━━━━━━━━━━━━━━━━━━━━━━━━━━━━━━━━━━\u001b[0m \u001b[32m0.0/2.0 MB\u001b[0m \u001b[31m?\u001b[0m eta \u001b[36m-:--:--\u001b[0m\n",
      "\u001b[2K   \u001b[91m━━━━━━━━━━━━━━━━━━━━━━━━━━━━━━━━━━━━━━━\u001b[0m\u001b[91m╸\u001b[0m \u001b[32m2.0/2.0 MB\u001b[0m \u001b[31m126.6 MB/s\u001b[0m eta \u001b[36m0:00:01\u001b[0m\n",
      "\u001b[2K   \u001b[90m━━━━━━━━━━━━━━━━━━━━━━━━━━━━━━━━━━━━━━━━\u001b[0m \u001b[32m2.0/2.0 MB\u001b[0m \u001b[31m45.5 MB/s\u001b[0m eta \u001b[36m0:00:00\u001b[0m\n",
      "\u001b[?25hDownloading pyvis-0.3.2-py3-none-any.whl (756 kB)\n",
      "\u001b[?25l   \u001b[90m━━━━━━━━━━━━━━━━━━━━━━━━━━━━━━━━━━━━━━━━\u001b[0m \u001b[32m0.0/756.0 kB\u001b[0m \u001b[31m?\u001b[0m eta \u001b[36m-:--:--\u001b[0m\n",
      "\u001b[2K   \u001b[90m━━━━━━━━━━━━━━━━━━━━━━━━━━━━━━━━━━━━━━━━\u001b[0m \u001b[32m756.0/756.0 kB\u001b[0m \u001b[31m44.5 MB/s\u001b[0m eta \u001b[36m0:00:00\u001b[0m\n",
      "\u001b[?25hDownloading llama_index_core-0.12.44-py3-none-any.whl (7.6 MB)\n",
      "\u001b[?25l   \u001b[90m━━━━━━━━━━━━━━━━━━━━━━━━━━━━━━━━━━━━━━━━\u001b[0m \u001b[32m0.0/7.6 MB\u001b[0m \u001b[31m?\u001b[0m eta \u001b[36m-:--:--\u001b[0m\n",
      "\u001b[2K   \u001b[91m━━━━━━━━━━━━━━━━━━━━━\u001b[0m\u001b[90m╺\u001b[0m\u001b[90m━━━━━━━━━━━━━━━━━━\u001b[0m \u001b[32m4.1/7.6 MB\u001b[0m \u001b[31m122.4 MB/s\u001b[0m eta \u001b[36m0:00:01\u001b[0m\n",
      "\u001b[2K   \u001b[91m━━━━━━━━━━━━━━━━━━━━━━━━━━━━━━━━━━━━━━━\u001b[0m\u001b[91m╸\u001b[0m \u001b[32m7.6/7.6 MB\u001b[0m \u001b[31m113.5 MB/s\u001b[0m eta \u001b[36m0:00:01\u001b[0m\n",
      "\u001b[2K   \u001b[91m━━━━━━━━━━━━━━━━━━━━━━━━━━━━━━━━━━━━━━━\u001b[0m\u001b[91m╸\u001b[0m \u001b[32m7.6/7.6 MB\u001b[0m \u001b[31m113.5 MB/s\u001b[0m eta \u001b[36m0:00:01\u001b[0m\n",
      "\u001b[2K   \u001b[91m━━━━━━━━━━━━━━━━━━━━━━━━━━━━━━━━━━━━━━━\u001b[0m\u001b[91m╸\u001b[0m \u001b[32m7.6/7.6 MB\u001b[0m \u001b[31m113.5 MB/s\u001b[0m eta \u001b[36m0:00:01\u001b[0m\n",
      "\u001b[2K   \u001b[91m━━━━━━━━━━━━━━━━━━━━━━━━━━━━━━━━━━━━━━━\u001b[0m\u001b[91m╸\u001b[0m \u001b[32m7.6/7.6 MB\u001b[0m \u001b[31m113.5 MB/s\u001b[0m eta \u001b[36m0:00:01\u001b[0m\n",
      "\u001b[2K   \u001b[90m━━━━━━━━━━━━━━━━━━━━━━━━━━━━━━━━━━━━━━━━\u001b[0m \u001b[32m7.6/7.6 MB\u001b[0m \u001b[31m43.6 MB/s\u001b[0m eta \u001b[36m0:00:00\u001b[0m\n",
      "\u001b[?25hDownloading llama_index_graph_stores_neo4j-0.4.6-py3-none-any.whl (17 kB)\n",
      "Downloading llama_index_graph_stores_nebula-0.4.2-py3-none-any.whl (18 kB)\n",
      "Downloading llama_index_llms_openai-0.4.7-py3-none-any.whl (25 kB)\n",
      "Downloading llama_index_llms_azure_openai-0.3.4-py3-none-any.whl (7.3 kB)\n",
      "Downloading llama_index_llms_databricks-0.3.2-py3-none-any.whl (3.6 kB)\n",
      "Downloading llama_index_embeddings_huggingface-0.5.5-py3-none-any.whl (8.9 kB)\n",
      "Downloading llama_index_embeddings_openai-0.3.1-py3-none-any.whl (6.2 kB)\n",
      "Downloading llama_index_embeddings_azure_openai-0.3.8-py3-none-any.whl (4.4 kB)\n",
      "Downloading anytree-2.13.0-py3-none-any.whl (45 kB)\n",
      "\u001b[?25l   \u001b[90m━━━━━━━━━━━━━━━━━━━━━━━━━━━━━━━━━━━━━━━━\u001b[0m \u001b[32m0.0/45.1 kB\u001b[0m \u001b[31m?\u001b[0m eta \u001b[36m-:--:--\u001b[0m\n",
      "\u001b[2K   \u001b[90m━━━━━━━━━━━━━━━━━━━━━━━━━━━━━━━━━━━━━━━━\u001b[0m \u001b[32m45.1/45.1 kB\u001b[0m \u001b[31m3.1 MB/s\u001b[0m eta \u001b[36m0:00:00\u001b[0m\n",
      "\u001b[?25hDownloading banks-2.1.2-py3-none-any.whl (28 kB)\n",
      "Downloading beartype-0.18.5-py3-none-any.whl (917 kB)\n",
      "\u001b[?25l   \u001b[90m━━━━━━━━━━━━━━━━━━━━━━━━━━━━━━━━━━━━━━━━\u001b[0m \u001b[32m0.0/917.8 kB\u001b[0m \u001b[31m?\u001b[0m eta \u001b[36m-:--:--\u001b[0m\n",
      "\u001b[2K   \u001b[90m━━━━━━━━━━━━━━━━━━━━━━━━━━━━━━━━━━━━━━━━\u001b[0m \u001b[32m917.8/917.8 kB\u001b[0m \u001b[31m40.8 MB/s\u001b[0m eta \u001b[36m0:00:00\u001b[0m\n",
      "\u001b[?25hDownloading dataclasses_json-0.6.7-py3-none-any.whl (28 kB)\n",
      "Downloading dirtyjson-1.0.8-py3-none-any.whl (25 kB)\n",
      "Downloading filetype-1.2.0-py2.py3-none-any.whl (19 kB)\n",
      "Downloading gensim-4.3.3-cp312-cp312-manylinux_2_17_x86_64.manylinux2014_x86_64.whl (26.6 MB)\n",
      "\u001b[?25l   \u001b[90m━━━━━━━━━━━━━━━━━━━━━━━━━━━━━━━━━━━━━━━━\u001b[0m \u001b[32m0.0/26.6 MB\u001b[0m \u001b[31m?\u001b[0m eta \u001b[36m-:--:--\u001b[0m\n",
      "\u001b[2K   \u001b[91m━━━━━\u001b[0m\u001b[90m╺\u001b[0m\u001b[90m━━━━━━━━━━━━━━━━━━━━━━━━━━━━━━━━━━\u001b[0m \u001b[32m3.6/26.6 MB\u001b[0m \u001b[31m109.3 MB/s\u001b[0m eta \u001b[36m0:00:01\u001b[0m\n",
      "\u001b[2K   \u001b[91m━━━━━\u001b[0m\u001b[91m╸\u001b[0m\u001b[90m━━━━━━━━━━━━━━━━━━━━━━━━━━━━━━━━━━\u001b[0m \u001b[32m3.9/26.6 MB\u001b[0m \u001b[31m104.1 MB/s\u001b[0m eta \u001b[36m0:00:01\u001b[0m\n",
      "\u001b[2K   \u001b[91m━━━━━━━━━━━━━━━\u001b[0m\u001b[90m╺\u001b[0m\u001b[90m━━━━━━━━━━━━━━━━━━━━━━━━\u001b[0m \u001b[32m10.0/26.6 MB\u001b[0m \u001b[31m97.3 MB/s\u001b[0m eta \u001b[36m0:00:01\u001b[0m\n",
      "\u001b[2K   \u001b[91m━━━━━━━━━━━━━━━━━━━━\u001b[0m\u001b[90m╺\u001b[0m\u001b[90m━━━━━━━━━━━━━━━━━━━\u001b[0m \u001b[32m13.6/26.6 MB\u001b[0m \u001b[31m96.5 MB/s\u001b[0m eta \u001b[36m0:00:01\u001b[0m\n",
      "\u001b[2K   \u001b[91m━━━━━━━━━━━━━━━━━━━━━━━━━\u001b[0m\u001b[91m╸\u001b[0m\u001b[90m━━━━━━━━━━━━━━\u001b[0m \u001b[32m17.0/26.6 MB\u001b[0m \u001b[31m118.5 MB/s\u001b[0m eta \u001b[36m0:00:01\u001b[0m\n",
      "\u001b[2K   \u001b[91m━━━━━━━━━━━━━━━━━━━━━━━━━━━━━━\u001b[0m\u001b[90m╺\u001b[0m\u001b[90m━━━━━━━━━\u001b[0m \u001b[32m20.1/26.6 MB\u001b[0m \u001b[31m99.1 MB/s\u001b[0m eta \u001b[36m0:00:01\u001b[0m\n",
      "\u001b[2K   \u001b[91m━━━━━━━━━━━━━━━━━━━━━━━━━━━━━━━━━━━\u001b[0m\u001b[91m╸\u001b[0m\u001b[90m━━━━\u001b[0m \u001b[32m23.7/26.6 MB\u001b[0m \u001b[31m96.2 MB/s\u001b[0m eta \u001b[36m0:00:01\u001b[0m\n",
      "\u001b[2K   \u001b[91m━━━━━━━━━━━━━━━━━━━━━━━━━━━━━━━━━━━━━━━\u001b[0m\u001b[91m╸\u001b[0m \u001b[32m26.6/26.6 MB\u001b[0m \u001b[31m101.4 MB/s\u001b[0m eta \u001b[36m0:00:01\u001b[0m\n",
      "\u001b[2K   \u001b[91m━━━━━━━━━━━━━━━━━━━━━━━━━━━━━━━━━━━━━━━\u001b[0m\u001b[91m╸\u001b[0m \u001b[32m26.6/26.6 MB\u001b[0m \u001b[31m101.4 MB/s\u001b[0m eta \u001b[36m0:00:01\u001b[0m\n",
      "\u001b[2K   \u001b[91m━━━━━━━━━━━━━━━━━━━━━━━━━━━━━━━━━━━━━━━\u001b[0m\u001b[91m╸\u001b[0m \u001b[32m26.6/26.6 MB\u001b[0m \u001b[31m101.4 MB/s\u001b[0m eta \u001b[36m0:00:01\u001b[0m\n",
      "\u001b[2K   \u001b[91m━━━━━━━━━━━━━━━━━━━━━━━━━━━━━━━━━━━━━━━\u001b[0m\u001b[91m╸\u001b[0m \u001b[32m26.6/26.6 MB\u001b[0m \u001b[31m101.4 MB/s\u001b[0m eta \u001b[36m0:00:01\u001b[0m\n",
      "\u001b[2K   \u001b[91m━━━━━━━━━━━━━━━━━━━━━━━━━━━━━━━━━━━━━━━\u001b[0m\u001b[91m╸\u001b[0m \u001b[32m26.6/26.6 MB\u001b[0m \u001b[31m101.4 MB/s\u001b[0m eta \u001b[36m0:00:01\u001b[0m\n",
      "\u001b[2K   \u001b[91m━━━━━━━━━━━━━━━━━━━━━━━━━━━━━━━━━━━━━━━\u001b[0m\u001b[91m╸\u001b[0m \u001b[32m26.6/26.6 MB\u001b[0m \u001b[31m101.4 MB/s\u001b[0m eta \u001b[36m0:00:01\u001b[0m\n",
      "\u001b[2K   \u001b[91m━━━━━━━━━━━━━━━━━━━━━━━━━━━━━━━━━━━━━━━\u001b[0m\u001b[91m╸\u001b[0m \u001b[32m26.6/26.6 MB\u001b[0m \u001b[31m101.4 MB/s\u001b[0m eta \u001b[36m0:00:01\u001b[0m\n",
      "\u001b[2K   \u001b[91m━━━━━━━━━━━━━━━━━━━━━━━━━━━━━━━━━━━━━━━\u001b[0m\u001b[91m╸\u001b[0m \u001b[32m26.6/26.6 MB\u001b[0m \u001b[31m101.4 MB/s\u001b[0m eta \u001b[36m0:00:01\u001b[0m\n",
      "\u001b[2K   \u001b[91m━━━━━━━━━━━━━━━━━━━━━━━━━━━━━━━━━━━━━━━\u001b[0m\u001b[91m╸\u001b[0m \u001b[32m26.6/26.6 MB\u001b[0m \u001b[31m101.4 MB/s\u001b[0m eta \u001b[36m0:00:01\u001b[0m\n",
      "\u001b[2K   \u001b[91m━━━━━━━━━━━━━━━━━━━━━━━━━━━━━━━━━━━━━━━\u001b[0m\u001b[91m╸\u001b[0m \u001b[32m26.6/26.6 MB\u001b[0m \u001b[31m101.4 MB/s\u001b[0m eta \u001b[36m0:00:01\u001b[0m\n",
      "\u001b[2K   \u001b[91m━━━━━━━━━━━━━━━━━━━━━━━━━━━━━━━━━━━━━━━\u001b[0m\u001b[91m╸\u001b[0m \u001b[32m26.6/26.6 MB\u001b[0m \u001b[31m101.4 MB/s\u001b[0m eta \u001b[36m0:00:01\u001b[0m\n",
      "\u001b[2K   \u001b[91m━━━━━━━━━━━━━━━━━━━━━━━━━━━━━━━━━━━━━━━\u001b[0m\u001b[91m╸\u001b[0m \u001b[32m26.6/26.6 MB\u001b[0m \u001b[31m101.4 MB/s\u001b[0m eta \u001b[36m0:00:01\u001b[0m\n",
      "\u001b[2K   \u001b[91m━━━━━━━━━━━━━━━━━━━━━━━━━━━━━━━━━━━━━━━\u001b[0m\u001b[91m╸\u001b[0m \u001b[32m26.6/26.6 MB\u001b[0m \u001b[31m101.4 MB/s\u001b[0m eta \u001b[36m0:00:01\u001b[0m\n",
      "\u001b[2K   \u001b[91m━━━━━━━━━━━━━━━━━━━━━━━━━━━━━━━━━━━━━━━\u001b[0m\u001b[91m╸\u001b[0m \u001b[32m26.6/26.6 MB\u001b[0m \u001b[31m101.4 MB/s\u001b[0m eta \u001b[36m0:00:01\u001b[0m\n",
      "\u001b[2K   \u001b[90m━━━━━━━━━━━━━━━━━━━━━━━━━━━━━━━━━━━━━━━━\u001b[0m \u001b[32m26.6/26.6 MB\u001b[0m \u001b[31m18.1 MB/s\u001b[0m eta \u001b[36m0:00:00\u001b[0m\n",
      "\u001b[?25hDownloading graspologic_native-1.2.5-cp38-abi3-manylinux_2_17_x86_64.manylinux2014_x86_64.whl (364 kB)\n",
      "\u001b[?25l   \u001b[90m━━━━━━━━━━━━━━━━━━━━━━━━━━━━━━━━━━━━━━━━\u001b[0m \u001b[32m0.0/364.6 kB\u001b[0m \u001b[31m?\u001b[0m eta \u001b[36m-:--:--\u001b[0m\n",
      "\u001b[2K   \u001b[90m━━━━━━━━━━━━━━━━━━━━━━━━━━━━━━━━━━━━━━━━\u001b[0m \u001b[32m364.6/364.6 kB\u001b[0m \u001b[31m20.3 MB/s\u001b[0m eta \u001b[36m0:00:00\u001b[0m\n",
      "\u001b[?25hDownloading httpx_sse-0.4.1-py3-none-any.whl (8.1 kB)\n",
      "Downloading hyppo-0.4.0-py3-none-any.whl (146 kB)\n",
      "\u001b[?25l   \u001b[90m━━━━━━━━━━━━━━━━━━━━━━━━━━━━━━━━━━━━━━━━\u001b[0m \u001b[32m0.0/146.6 kB\u001b[0m \u001b[31m?\u001b[0m eta \u001b[36m-:--:--\u001b[0m\n",
      "\u001b[2K   \u001b[90m━━━━━━━━━━━━━━━━━━━━━━━━━━━━━━━━━━━━━━━━\u001b[0m \u001b[32m146.6/146.6 kB\u001b[0m \u001b[31m10.3 MB/s\u001b[0m eta \u001b[36m0:00:00\u001b[0m\n",
      "\u001b[?25hDownloading jsonpickle-4.1.1-py3-none-any.whl (47 kB)\n",
      "\u001b[?25l   \u001b[90m━━━━━━━━━━━━━━━━━━━━━━━━━━━━━━━━━━━━━━━━\u001b[0m \u001b[32m0.0/47.1 kB\u001b[0m \u001b[31m?\u001b[0m eta \u001b[36m-:--:--\u001b[0m\n",
      "\u001b[2K   \u001b[90m━━━━━━━━━━━━━━━━━━━━━━━━━━━━━━━━━━━━━━━━\u001b[0m \u001b[32m47.1/47.1 kB\u001b[0m \u001b[31m4.1 MB/s\u001b[0m eta \u001b[36m0:00:00\u001b[0m\n",
      "\u001b[?25hDownloading langchain-0.3.26-py3-none-any.whl (1.0 MB)\n",
      "\u001b[?25l   \u001b[90m━━━━━━━━━━━━━━━━━━━━━━━━━━━━━━━━━━━━━━━━\u001b[0m \u001b[32m0.0/1.0 MB\u001b[0m \u001b[31m?\u001b[0m eta \u001b[36m-:--:--\u001b[0m\n",
      "\u001b[2K   \u001b[90m━━━━━━━━━━━━━━━━━━━━━━━━━━━━━━━━━━━━━━━━\u001b[0m \u001b[32m1.0/1.0 MB\u001b[0m \u001b[31m43.9 MB/s\u001b[0m eta \u001b[36m0:00:00\u001b[0m\n",
      "\u001b[?25hDownloading langsmith-0.4.2-py3-none-any.whl (367 kB)\n",
      "\u001b[?25l   \u001b[90m━━━━━━━━━━━━━━━━━━━━━━━━━━━━━━━━━━━━━━━━\u001b[0m \u001b[32m0.0/367.7 kB\u001b[0m \u001b[31m?\u001b[0m eta \u001b[36m-:--:--\u001b[0m\n",
      "\u001b[2K   \u001b[90m━━━━━━━━━━━━━━━━━━━━━━━━━━━━━━━━━━━━━━━━\u001b[0m \u001b[32m367.7/367.7 kB\u001b[0m \u001b[31m20.3 MB/s\u001b[0m eta \u001b[36m0:00:00\u001b[0m\n",
      "\u001b[?25hDownloading llama_index_llms_openai_like-0.4.0-py3-none-any.whl (4.6 kB)\n",
      "Downloading llama_index_workflows-1.0.1-py3-none-any.whl (36 kB)\n",
      "Downloading pydantic-2.11.7-py3-none-any.whl (444 kB)\n",
      "\u001b[?25l   \u001b[90m━━━━━━━━━━━━━━━━━━━━━━━━━━━━━━━━━━━━━━━━\u001b[0m \u001b[32m0.0/444.8 kB\u001b[0m \u001b[31m?\u001b[0m eta \u001b[36m-:--:--\u001b[0m\n",
      "\u001b[2K   \u001b[90m━━━━━━━━━━━━━━━━━━━━━━━━━━━━━━━━━━━━━━━━\u001b[0m \u001b[32m444.8/444.8 kB\u001b[0m \u001b[31m19.9 MB/s\u001b[0m eta \u001b[36m0:00:00\u001b[0m\n",
      "\u001b[?25hDownloading pydantic_core-2.33.2-cp312-cp312-manylinux_2_17_x86_64.manylinux2014_x86_64.whl (2.0 MB)\n",
      "\u001b[?25l   \u001b[90m━━━━━━━━━━━━━━━━━━━━━━━━━━━━━━━━━━━━━━━━\u001b[0m \u001b[32m0.0/2.0 MB\u001b[0m \u001b[31m?\u001b[0m eta \u001b[36m-:--:--\u001b[0m\n",
      "\u001b[2K   \u001b[91m━━━━━━━━━━━━━━━━━━━━━━━━━━━━━━━━━━━━━━━\u001b[0m\u001b[91m╸\u001b[0m \u001b[32m2.0/2.0 MB\u001b[0m \u001b[31m109.9 MB/s\u001b[0m eta \u001b[36m0:00:01\u001b[0m\n",
      "\u001b[2K   \u001b[90m━━━━━━━━━━━━━━━━━━━━━━━━━━━━━━━━━━━━━━━━\u001b[0m \u001b[32m2.0/2.0 MB\u001b[0m \u001b[31m55.9 MB/s\u001b[0m eta \u001b[36m0:00:00\u001b[0m\n",
      "\u001b[?25hDownloading nebula3_python-3.8.3-py3-none-any.whl (331 kB)\n",
      "\u001b[?25l   \u001b[90m━━━━━━━━━━━━━━━━━━━━━━━━━━━━━━━━━━━━━━━━\u001b[0m \u001b[32m0.0/331.3 kB\u001b[0m \u001b[31m?\u001b[0m eta \u001b[36m-:--:--\u001b[0m\n",
      "\u001b[2K   \u001b[90m━━━━━━━━━━━━━━━━━━━━━━━━━━━━━━━━━━━━━━━━\u001b[0m \u001b[32m331.3/331.3 kB\u001b[0m \u001b[31m28.9 MB/s\u001b[0m eta \u001b[36m0:00:00\u001b[0m\n",
      "\u001b[?25hDownloading nltk-3.9.1-py3-none-any.whl (1.5 MB)\n",
      "\u001b[?25l   \u001b[90m━━━━━━━━━━━━━━━━━━━━━━━━━━━━━━━━━━━━━━━━\u001b[0m \u001b[32m0.0/1.5 MB\u001b[0m \u001b[31m?\u001b[0m eta \u001b[36m-:--:--\u001b[0m\n",
      "\u001b[2K   \u001b[90m━━━━━━━━━━━━━━━━━━━━━━━━━━━━━━━━━━━━━━━━\u001b[0m \u001b[32m1.5/1.5 MB\u001b[0m \u001b[31m51.6 MB/s\u001b[0m eta \u001b[36m0:00:00\u001b[0m\n",
      "\u001b[?25hDownloading POT-0.9.5-cp312-cp312-manylinux_2_17_x86_64.manylinux2014_x86_64.whl (901 kB)\n",
      "\u001b[?25l   \u001b[90m━━━━━━━━━━━━━━━━━━━━━━━━━━━━━━━━━━━━━━━━\u001b[0m \u001b[32m0.0/901.7 kB\u001b[0m \u001b[31m?\u001b[0m eta \u001b[36m-:--:--\u001b[0m\n",
      "\u001b[2K   \u001b[91m━━━━━━━━━━━━━━━━━━━━━━━━━━━━━━━━━━━━━━\u001b[0m\u001b[91m╸\u001b[0m \u001b[32m901.1/901.7 kB\u001b[0m \u001b[31m137.0 MB/s\u001b[0m eta \u001b[36m0:00:01\u001b[0m\n",
      "\u001b[2K   \u001b[91m━━━━━━━━━━━━━━━━━━━━━━━━━━━━━━━━━━━━━━\u001b[0m\u001b[91m╸\u001b[0m \u001b[32m901.1/901.7 kB\u001b[0m \u001b[31m137.0 MB/s\u001b[0m eta \u001b[36m0:00:01\u001b[0m\n",
      "\u001b[2K   \u001b[90m━━━━━━━━━━━━━━━━━━━━━━━━━━━━━━━━━━━━━━━━\u001b[0m \u001b[32m901.7/901.7 kB\u001b[0m \u001b[31m11.6 MB/s\u001b[0m eta \u001b[36m0:00:00\u001b[0m\n",
      "\u001b[?25hDownloading pydantic_settings-2.10.1-py3-none-any.whl (45 kB)\n",
      "\u001b[?25l   \u001b[90m━━━━━━━━━━━━━━━━━━━━━━━━━━━━━━━━━━━━━━━━\u001b[0m \u001b[32m0.0/45.2 kB\u001b[0m \u001b[31m?\u001b[0m eta \u001b[36m-:--:--\u001b[0m\n",
      "\u001b[2K   \u001b[90m━━━━━━━━━━━━━━━━━━━━━━━━━━━━━━━━━━━━━━━━\u001b[0m \u001b[32m45.2/45.2 kB\u001b[0m \u001b[31m3.3 MB/s\u001b[0m eta \u001b[36m0:00:00\u001b[0m\n",
      "\u001b[?25hDownloading setuptools-80.9.0-py3-none-any.whl (1.2 MB)\n",
      "\u001b[?25l   \u001b[90m━━━━━━━━━━━━━━━━━━━━━━━━━━━━━━━━━━━━━━━━\u001b[0m \u001b[32m0.0/1.2 MB\u001b[0m \u001b[31m?\u001b[0m eta \u001b[36m-:--:--\u001b[0m\n",
      "\u001b[2K   \u001b[90m━━━━━━━━━━━━━━━━━━━━━━━━━━━━━━━━━━━━━━━━\u001b[0m \u001b[32m1.2/1.2 MB\u001b[0m \u001b[31m48.4 MB/s\u001b[0m eta \u001b[36m0:00:00\u001b[0m\n",
      "\u001b[?25hDownloading typing_extensions-4.14.0-py3-none-any.whl (43 kB)\n",
      "\u001b[?25l   \u001b[90m━━━━━━━━━━━━━━━━━━━━━━━━━━━━━━━━━━━━━━━━\u001b[0m \u001b[32m0.0/43.8 kB\u001b[0m \u001b[31m?\u001b[0m eta \u001b[36m-:--:--\u001b[0m\n",
      "\u001b[2K   \u001b[90m━━━━━━━━━━━━━━━━━━━━━━━━━━━━━━━━━━━━━━━━\u001b[0m \u001b[32m43.8/43.8 kB\u001b[0m \u001b[31m4.5 MB/s\u001b[0m eta \u001b[36m0:00:00\u001b[0m\n",
      "\u001b[?25hDownloading typing_inspect-0.9.0-py3-none-any.whl (8.8 kB)\n",
      "Downloading typing_inspection-0.4.1-py3-none-any.whl (14 kB)\n",
      "Downloading umap_learn-0.5.7-py3-none-any.whl (88 kB)\n",
      "\u001b[?25l   \u001b[90m━━━━━━━━━━━━━━━━━━━━━━━━━━━━━━━━━━━━━━━━\u001b[0m \u001b[32m0.0/88.8 kB\u001b[0m \u001b[31m?\u001b[0m eta \u001b[36m-:--:--\u001b[0m\n",
      "\u001b[2K   \u001b[90m━━━━━━━━━━━━━━━━━━━━━━━━━━━━━━━━━━━━━━━━\u001b[0m \u001b[32m88.8/88.8 kB\u001b[0m \u001b[31m9.0 MB/s\u001b[0m eta \u001b[36m0:00:00\u001b[0m\n",
      "\u001b[?25hDownloading aiosqlite-0.21.0-py3-none-any.whl (15 kB)\n",
      "Downloading autograd-1.8.0-py3-none-any.whl (51 kB)\n",
      "\u001b[?25l   \u001b[90m━━━━━━━━━━━━━━━━━━━━━━━━━━━━━━━━━━━━━━━━\u001b[0m \u001b[32m0.0/51.5 kB\u001b[0m \u001b[31m?\u001b[0m eta \u001b[36m-:--:--\u001b[0m\n",
      "\u001b[2K   \u001b[90m━━━━━━━━━━━━━━━━━━━━━━━━━━━━━━━━━━━━━━━━\u001b[0m \u001b[32m51.5/51.5 kB\u001b[0m \u001b[31m4.4 MB/s\u001b[0m eta \u001b[36m0:00:00\u001b[0m\n",
      "\u001b[?25hDownloading langchain_text_splitters-0.3.8-py3-none-any.whl (32 kB)\n",
      "Downloading llama_index_instrumentation-0.2.0-py3-none-any.whl (14 kB)\n",
      "Downloading Deprecated-1.2.18-py2.py3-none-any.whl (10.0 kB)\n",
      "Downloading marshmallow-3.26.1-py3-none-any.whl (50 kB)\n",
      "\u001b[?25l   \u001b[90m━━━━━━━━━━━━━━━━━━━━━━━━━━━━━━━━━━━━━━━━\u001b[0m \u001b[32m0.0/50.9 kB\u001b[0m \u001b[31m?\u001b[0m eta \u001b[36m-:--:--\u001b[0m\n",
      "\u001b[2K   \u001b[90m━━━━━━━━━━━━━━━━━━━━━━━━━━━━━━━━━━━━━━━━\u001b[0m \u001b[32m50.9/50.9 kB\u001b[0m \u001b[31m3.0 MB/s\u001b[0m eta \u001b[36m0:00:00\u001b[0m\n",
      "\u001b[?25hDownloading minijinja-2.10.2-cp38-abi3-manylinux_2_17_x86_64.manylinux2014_x86_64.whl (1.0 MB)\n",
      "\u001b[?25l   \u001b[90m━━━━━━━━━━━━━━━━━━━━━━━━━━━━━━━━━━━━━━━━\u001b[0m \u001b[32m0.0/1.0 MB\u001b[0m \u001b[31m?\u001b[0m eta \u001b[36m-:--:--\u001b[0m\n",
      "\u001b[2K   \u001b[90m━━━━━━━━━━━━━━━━━━━━━━━━━━━━━━━━━━━━━━━━\u001b[0m \u001b[32m1.0/1.0 MB\u001b[0m \u001b[31m46.0 MB/s\u001b[0m eta \u001b[36m0:00:00\u001b[0m\n",
      "\u001b[?25hDownloading pynndescent-0.5.13-py3-none-any.whl (56 kB)\n",
      "\u001b[?25l   \u001b[90m━━━━━━━━━━━━━━━━━━━━━━━━━━━━━━━━━━━━━━━━\u001b[0m \u001b[32m0.0/56.9 kB\u001b[0m \u001b[31m?\u001b[0m eta \u001b[36m-:--:--\u001b[0m\n",
      "\u001b[2K   \u001b[90m━━━━━━━━━━━━━━━━━━━━━━━━━━━━━━━━━━━━━━━━\u001b[0m \u001b[32m56.9/56.9 kB\u001b[0m \u001b[31m5.4 MB/s\u001b[0m eta \u001b[36m0:00:00\u001b[0m\n",
      "\u001b[?25hDownloading python_dotenv-1.1.1-py3-none-any.whl (20 kB)\n",
      "Downloading zstandard-0.23.0-cp312-cp312-manylinux_2_17_x86_64.manylinux2014_x86_64.whl (5.4 MB)\n",
      "\u001b[?25l   \u001b[90m━━━━━━━━━━━━━━━━━━━━━━━━━━━━━━━━━━━━━━━━\u001b[0m \u001b[32m0.0/5.4 MB\u001b[0m \u001b[31m?\u001b[0m eta \u001b[36m-:--:--\u001b[0m\n",
      "\u001b[2K   \u001b[91m━━━━━━━━━━━━━━━━━━━━━━━━━━━━━━\u001b[0m\u001b[90m╺\u001b[0m\u001b[90m━━━━━━━━━\u001b[0m \u001b[32m4.1/5.4 MB\u001b[0m \u001b[31m124.5 MB/s\u001b[0m eta \u001b[36m0:00:01\u001b[0m\n",
      "\u001b[2K   \u001b[91m━━━━━━━━━━━━━━━━━━━━━━━━━━━━━━━━━━━━━━━\u001b[0m\u001b[91m╸\u001b[0m \u001b[32m5.4/5.4 MB\u001b[0m \u001b[31m119.1 MB/s\u001b[0m eta \u001b[36m0:00:01\u001b[0m\n",
      "\u001b[2K   \u001b[90m━━━━━━━━━━━━━━━━━━━━━━━━━━━━━━━━━━━━━━━━\u001b[0m \u001b[32m5.4/5.4 MB\u001b[0m \u001b[31m55.0 MB/s\u001b[0m eta \u001b[36m0:00:00\u001b[0m\n",
      "\u001b[?25hDownloading griffe-1.7.3-py3-none-any.whl (129 kB)\n",
      "\u001b[?25l   \u001b[90m━━━━━━━━━━━━━━━━━━━━━━━━━━━━━━━━━━━━━━━━\u001b[0m \u001b[32m0.0/129.3 kB\u001b[0m \u001b[31m?\u001b[0m eta \u001b[36m-:--:--\u001b[0m\n",
      "\u001b[2K   \u001b[90m━━━━━━━━━━━━━━━━━━━━━━━━━━━━━━━━━━━━━━━━\u001b[0m \u001b[32m129.3/129.3 kB\u001b[0m \u001b[31m7.6 MB/s\u001b[0m eta \u001b[36m0:00:00\u001b[0m\n",
      "\u001b[?25hDownloading colorama-0.4.6-py2.py3-none-any.whl (25 kB)\n",
      "Downloading h2-4.2.0-py3-none-any.whl (60 kB)\n",
      "\u001b[?25l   \u001b[90m━━━━━━━━━━━━━━━━━━━━━━━━━━━━━━━━━━━━━━━━\u001b[0m \u001b[32m0.0/61.0 kB\u001b[0m \u001b[31m?\u001b[0m eta \u001b[36m-:--:--\u001b[0m\n",
      "\u001b[2K   \u001b[90m━━━━━━━━━━━━━━━━━━━━━━━━━━━━━━━━━━━━━━━━\u001b[0m \u001b[32m61.0/61.0 kB\u001b[0m \u001b[31m6.1 MB/s\u001b[0m eta \u001b[36m0:00:00\u001b[0m\n",
      "\u001b[?25hDownloading hpack-4.1.0-py3-none-any.whl (34 kB)\n",
      "Downloading hyperframe-6.1.0-py3-none-any.whl (13 kB)\n",
      "Installing collected packages: filetype, dirtyjson, zstandard, typing-extensions, setuptools, scipy, python-dotenv, nltk, networkx, neo4j, minijinja, marshmallow, jsonpickle, hyperframe, httpx-sse, hpack, graspologic-native, deprecated, colorama, beartype, autograd, anytree, aiolimiter, typing-inspection, typing-inspect, pydantic-core, POT, h2, griffe, gensim, aiosqlite, pynndescent, pydantic, hyppo, dataclasses-json, umap-learn, pyvis, pydantic-settings, openai, nebula3-python, llama-index-instrumentation, langsmith, banks, llama-index-workflows, langchain-core, graspologic, llama-index-core, langchain-text-splitters, llama-index-llms-openai, llama-index-graph-stores-neo4j, llama-index-graph-stores-nebula, llama-index-embeddings-openai, llama-index-embeddings-huggingface, langchain, llama-index-llms-openai-like, llama-index-llms-azure-openai, langchain-community, llama-index-llms-databricks, llama-index-embeddings-azure-openai\n",
      "  Attempting uninstall: typing-extensions\n",
      "    Found existing installation: typing_extensions 4.11.0\n",
      "    Not uninstalling typing-extensions at /databricks/python3/lib/python3.12/site-packages, outside environment /local_disk0/.ephemeral_nfs/envs/pythonEnv-59cd0d52-0eee-4843-b32d-956c86c44457\n",
      "    Can't uninstall 'typing_extensions'. No files were found to uninstall.\n",
      "  Attempting uninstall: setuptools\n",
      "    Found existing installation: setuptools 74.0.0\n",
      "    Not uninstalling setuptools at /usr/local/lib/python3.12/dist-packages, outside environment /local_disk0/.ephemeral_nfs/envs/pythonEnv-59cd0d52-0eee-4843-b32d-956c86c44457\n",
      "    Can't uninstall 'setuptools'. No files were found to uninstall.\n",
      "  Attempting uninstall: scipy\n",
      "    Found existing installation: scipy 1.13.1\n",
      "    Not uninstalling scipy at /databricks/python3/lib/python3.12/site-packages, outside environment /local_disk0/.ephemeral_nfs/envs/pythonEnv-59cd0d52-0eee-4843-b32d-956c86c44457\n",
      "    Can't uninstall 'scipy'. No files were found to uninstall.\n",
      "  Attempting uninstall: nltk\n",
      "    Found existing installation: nltk 3.8.1\n",
      "    Not uninstalling nltk at /databricks/python3/lib/python3.12/site-packages, outside environment /local_disk0/.ephemeral_nfs/envs/pythonEnv-59cd0d52-0eee-4843-b32d-956c86c44457\n",
      "    Can't uninstall 'nltk'. No files were found to uninstall.\n",
      "  Attempting uninstall: networkx\n",
      "    Found existing installation: networkx 3.2.1\n",
      "    Not uninstalling networkx at /databricks/python3/lib/python3.12/site-packages, outside environment /local_disk0/.ephemeral_nfs/envs/pythonEnv-59cd0d52-0eee-4843-b32d-956c86c44457\n",
      "    Can't uninstall 'networkx'. No files were found to uninstall.\n",
      "  Attempting uninstall: deprecated\n",
      "    Found existing installation: Deprecated 1.2.14\n",
      "    Not uninstalling deprecated at /databricks/python3/lib/python3.12/site-packages, outside environment /local_disk0/.ephemeral_nfs/envs/pythonEnv-59cd0d52-0eee-4843-b32d-956c86c44457\n",
      "    Can't uninstall 'Deprecated'. No files were found to uninstall.\n",
      "  Attempting uninstall: pydantic-core\n",
      "    Found existing installation: pydantic_core 2.20.1\n",
      "    Not uninstalling pydantic-core at /databricks/python3/lib/python3.12/site-packages, outside environment /local_disk0/.ephemeral_nfs/envs/pythonEnv-59cd0d52-0eee-4843-b32d-956c86c44457\n",
      "    Can't uninstall 'pydantic_core'. No files were found to uninstall.\n",
      "  Attempting uninstall: pydantic\n",
      "    Found existing installation: pydantic 2.8.2\n",
      "    Not uninstalling pydantic at /databricks/python3/lib/python3.12/site-packages, outside environment /local_disk0/.ephemeral_nfs/envs/pythonEnv-59cd0d52-0eee-4843-b32d-956c86c44457\n",
      "    Can't uninstall 'pydantic'. No files were found to uninstall.\n",
      "  Attempting uninstall: openai\n",
      "    Found existing installation: openai 1.40.2\n",
      "    Not uninstalling openai at /databricks/python3/lib/python3.12/site-packages, outside environment /local_disk0/.ephemeral_nfs/envs/pythonEnv-59cd0d52-0eee-4843-b32d-956c86c44457\n",
      "    Can't uninstall 'openai'. No files were found to uninstall.\n",
      "  Attempting uninstall: langsmith\n",
      "    Found existing installation: langsmith 0.1.133\n",
      "    Not uninstalling langsmith at /databricks/python3/lib/python3.12/site-packages, outside environment /local_disk0/.ephemeral_nfs/envs/pythonEnv-59cd0d52-0eee-4843-b32d-956c86c44457\n",
      "    Can't uninstall 'langsmith'. No files were found to uninstall.\n",
      "  Attempting uninstall: langchain-core\n",
      "    Found existing installation: langchain-core 0.2.43\n",
      "    Not uninstalling langchain-core at /databricks/python3/lib/python3.12/site-packages, outside environment /local_disk0/.ephemeral_nfs/envs/pythonEnv-59cd0d52-0eee-4843-b32d-956c86c44457\n",
      "    Can't uninstall 'langchain-core'. No files were found to uninstall.\n",
      "  Attempting uninstall: langchain-text-splitters\n",
      "    Found existing installation: langchain-text-splitters 0.2.4\n",
      "    Not uninstalling langchain-text-splitters at /databricks/python3/lib/python3.12/site-packages, outside environment /local_disk0/.ephemeral_nfs/envs/pythonEnv-59cd0d52-0eee-4843-b32d-956c86c44457\n",
      "    Can't uninstall 'langchain-text-splitters'. No files were found to uninstall.\n",
      "  Attempting uninstall: langchain\n",
      "    Found existing installation: langchain 0.2.12\n",
      "    Not uninstalling langchain at /databricks/python3/lib/python3.12/site-packages, outside environment /local_disk0/.ephemeral_nfs/envs/pythonEnv-59cd0d52-0eee-4843-b32d-956c86c44457\n",
      "    Can't uninstall 'langchain'. No files were found to uninstall.\n",
      "\u001b[31mERROR: pip's dependency resolver does not currently take into account all the packages that are installed. This behaviour is the source of the following dependency conflicts.\n",
      "optuna 3.6.1 requires alembic>=1.5.0, which is not installed.\u001b[0m\u001b[31m\n",
      "\u001b[0mSuccessfully installed POT-0.9.5 aiolimiter-1.2.1 aiosqlite-0.21.0 anytree-2.13.0 autograd-1.8.0 banks-2.1.2 beartype-0.18.5 colorama-0.4.6 dataclasses-json-0.6.7 deprecated-1.2.18 dirtyjson-1.0.8 filetype-1.2.0 gensim-4.3.3 graspologic-3.4.1 graspologic-native-1.2.5 griffe-1.7.3 h2-4.2.0 hpack-4.1.0 httpx-sse-0.4.1 hyperframe-6.1.0 hyppo-0.4.0 jsonpickle-4.1.1 langchain-0.3.26 langchain-community-0.3.26 langchain-core-0.3.66 langchain-text-splitters-0.3.8 langsmith-0.4.2 llama-index-core-0.12.44 llama-index-embeddings-azure-openai-0.3.8 llama-index-embeddings-huggingface-0.5.5 llama-index-embeddings-openai-0.3.1 llama-index-graph-stores-nebula-0.4.2 llama-index-graph-stores-neo4j-0.4.6 llama-index-instrumentation-0.2.0 llama-index-llms-azure-openai-0.3.4 llama-index-llms-databricks-0.3.2 llama-index-llms-openai-0.4.7 llama-index-llms-openai-like-0.4.0 llama-index-workflows-1.0.1 marshmallow-3.26.1 minijinja-2.10.2 nebula3-python-3.8.3 neo4j-5.28.1 networkx-3.5 nltk-3.9.1 openai-1.92.2 pydantic-2.11.7 pydantic-core-2.33.2 pydantic-settings-2.10.1 pynndescent-0.5.13 python-dotenv-1.1.1 pyvis-0.3.2 scipy-1.12.0 setuptools-80.9.0 typing-extensions-4.14.0 typing-inspect-0.9.0 typing-inspection-0.4.1 umap-learn-0.5.7 zstandard-0.23.0\n",
      "\u001b[43mNote: you may need to restart the kernel using %restart_python or dbutils.library.restartPython() to use updated packages.\u001b[0m\n"
     ]
    }
   ],
   "source": [
    "!pip install -r requirements.txt\n",
    "dbutils.library.restartPython()"
   ]
  },
  {
   "cell_type": "code",
   "execution_count": 0,
   "metadata": {
    "application/vnd.databricks.v1+cell": {
     "cellMetadata": {
      "byteLimit": 2048000,
      "rowLimit": 10000
     },
     "inputWidgets": {},
     "nuid": "f538c1f3-59f0-4653-848f-1b29cd859535",
     "showTitle": true,
     "tableResultSettingsMap": {},
     "title": "Import modules"
    }
   },
   "outputs": [
    {
     "name": "stderr",
     "output_type": "stream",
     "text": [
      "2025-06-26 22:33:16.994407: E external/local_xla/xla/stream_executor/cuda/cuda_fft.cc:477] Unable to register cuFFT factory: Attempting to register factory for plugin cuFFT when one has already been registered\n",
      "WARNING: All log messages before absl::InitializeLog() is called are written to STDERR\n",
      "E0000 00:00:1750977197.013531    1784 cuda_dnn.cc:8310] Unable to register cuDNN factory: Attempting to register factory for plugin cuDNN when one has already been registered\n",
      "E0000 00:00:1750977197.019859    1784 cuda_blas.cc:1418] Unable to register cuBLAS factory: Attempting to register factory for plugin cuBLAS when one has already been registered\n",
      "2025-06-26 22:33:17.040775: I tensorflow/core/platform/cpu_feature_guard.cc:210] This TensorFlow binary is optimized to use available CPU instructions in performance-critical operations.\n",
      "To enable the following instructions: AVX2 FMA, in other operations, rebuild TensorFlow with the appropriate compiler flags.\n"
     ]
    }
   ],
   "source": [
    "from constants import * \n",
    "import networkx as nx\n",
    "import pyvis\n",
    "\n",
    "from src.helper_functions import *\n",
    "from src.llama_index_graph_rag_extractor import GraphRAGExtractor\n",
    "from src.graph_rag_store import GraphRAGStore"
   ]
  },
  {
   "cell_type": "code",
   "execution_count": 0,
   "metadata": {
    "application/vnd.databricks.v1+cell": {
     "cellMetadata": {
      "byteLimit": 2048000,
      "rowLimit": 10000
     },
     "inputWidgets": {},
     "nuid": "e4829773-1254-4139-a5cf-847142a2dbae",
     "showTitle": true,
     "tableResultSettingsMap": {},
     "title": "Configuring OpenAI params"
    }
   },
   "outputs": [],
   "source": [
    "# Manage environment variables required to attach LLM service in this context\n",
    "exec(open('azure_envars.py').read())"
   ]
  },
  {
   "cell_type": "code",
   "execution_count": 0,
   "metadata": {
    "application/vnd.databricks.v1+cell": {
     "cellMetadata": {
      "byteLimit": 2048000,
      "rowLimit": 10000
     },
     "inputWidgets": {},
     "nuid": "a123906d-4d1e-4a44-b1f7-923db4c19f7f",
     "showTitle": true,
     "tableResultSettingsMap": {},
     "title": "Load and chunk parsed data"
    }
   },
   "outputs": [
    {
     "name": "stderr",
     "output_type": "stream",
     "text": [
      "/databricks/python/lib/python3.12/site-packages/sentence_transformers/evaluation/SentenceEvaluator.py:81: SyntaxWarning: invalid escape sequence '\\g'\n",
      "  return re.sub(r\"([a-z])([A-Z])\", \"\\g<1> \\g<2>\", class_name)\n",
      "/databricks/python/lib/python3.12/site-packages/sentence_transformers/model_card.py:524: SyntaxWarning: invalid escape sequence '\\d'\n",
      "  if dataset_name and re.match(\"_dataset_\\d+\", dataset_name):\n",
      "/databricks/python/lib/python3.12/site-packages/sentence_transformers/losses/DenoisingAutoEncoderLoss.py:16: SyntaxWarning: invalid escape sequence '\\_'\n",
      "  \"\"\"\n"
     ]
    },
    {
     "name": "stdout",
     "output_type": "stream",
     "text": [
      "{'filename': '2024 FY.pdf', 'company': 'Palantir Technologies', 'document_type': '10K report', 'timestamp': '2024', 'period': 'Yearly'}\n",
      "{'filename': '2021 FY.pdf', 'company': 'Palantir Technologies', 'document_type': '10K report', 'timestamp': '2021', 'period': 'Yearly'}\n",
      "{'filename': '2022 FY.pdf', 'company': 'Palantir Technologies', 'document_type': '10K report', 'timestamp': '2022', 'period': 'Yearly'}\n",
      "{'filename': '2023 FY.pdf', 'company': 'Palantir Technologies', 'document_type': '10K report', 'timestamp': '2023', 'period': 'Yearly'}\n",
      "{'filename': '01_04_2021.pdf', 'company': 'Palantir Technologies', 'document_type': '8K report', 'timestamp': '01-04-2021', 'period': ' '}\n",
      "{'filename': '01_04_2022.pdf', 'company': 'Palantir Technologies', 'document_type': '8K report', 'timestamp': '01-04-2022', 'period': ' '}\n",
      "{'filename': '29_01_2023.pdf', 'company': 'Palantir Technologies', 'document_type': '8K report', 'timestamp': '29-01-2023', 'period': ' '}\n",
      "{'filename': '31_03_2022.pdf', 'company': 'Palantir Technologies', 'document_type': '8K report', 'timestamp': '31-03-2022', 'period': ' '}\n"
     ]
    },
    {
     "name": "stderr",
     "output_type": "stream",
     "text": [
      "/usr/lib/python3.12/json/encoder.py:258: LangChainDeprecationWarning: As of langchain-core 0.3.0, LangChain uses pydantic v2 internally. The langchain_core.pydantic_v1 module was a compatibility shim for pydantic v1, and should no longer be used. Please update the code to import from Pydantic directly.\n",
      "\n",
      "For example, replace imports like: `from langchain_core.pydantic_v1 import BaseModel`\n",
      "with: `from pydantic import BaseModel`\n",
      "or the v1 compatibility namespace if you are working in a code base that has not been fully upgraded to pydantic 2 yet. \tfrom pydantic.v1 import BaseModel\n",
      "\n",
      "  return _iterencode(o, 0)\n"
     ]
    },
    {
     "data": {
      "application/vnd.jupyter.widget-view+json": {
       "model_id": "aec0c626483a4981aff2d14f331ffaed",
       "version_major": 2,
       "version_minor": 0
      },
      "text/plain": [
       "modules.json:   0%|          | 0.00/349 [00:00<?, ?B/s]"
      ]
     },
     "metadata": {},
     "output_type": "display_data"
    },
    {
     "data": {
      "application/vnd.jupyter.widget-view+json": {
       "model_id": "87d495a78be842a0a55081cebe3faaec",
       "version_major": 2,
       "version_minor": 0
      },
      "text/plain": [
       "config_sentence_transformers.json:   0%|          | 0.00/124 [00:00<?, ?B/s]"
      ]
     },
     "metadata": {},
     "output_type": "display_data"
    },
    {
     "data": {
      "application/vnd.jupyter.widget-view+json": {
       "model_id": "2034f3a90b444f668aaf9cc7fd7542ea",
       "version_major": 2,
       "version_minor": 0
      },
      "text/plain": [
       "README.md: 0.00B [00:00, ?B/s]"
      ]
     },
     "metadata": {},
     "output_type": "display_data"
    },
    {
     "data": {
      "application/vnd.jupyter.widget-view+json": {
       "model_id": "34bf1efb5871403a90fd9a72f7953dbf",
       "version_major": 2,
       "version_minor": 0
      },
      "text/plain": [
       "sentence_bert_config.json:   0%|          | 0.00/52.0 [00:00<?, ?B/s]"
      ]
     },
     "metadata": {},
     "output_type": "display_data"
    },
    {
     "data": {
      "application/vnd.jupyter.widget-view+json": {
       "model_id": "033260d1518f41429e10c07f41e33116",
       "version_major": 2,
       "version_minor": 0
      },
      "text/plain": [
       "config.json:   0%|          | 0.00/779 [00:00<?, ?B/s]"
      ]
     },
     "metadata": {},
     "output_type": "display_data"
    },
    {
     "data": {
      "application/vnd.jupyter.widget-view+json": {
       "model_id": "4564b574c39245268fcb3df3cfd060c7",
       "version_major": 2,
       "version_minor": 0
      },
      "text/plain": [
       "model.safetensors:   0%|          | 0.00/1.34G [00:00<?, ?B/s]"
      ]
     },
     "metadata": {},
     "output_type": "display_data"
    },
    {
     "data": {
      "application/vnd.jupyter.widget-view+json": {
       "model_id": "fa3a0948ae6f4955a0f9662844a5c46d",
       "version_major": 2,
       "version_minor": 0
      },
      "text/plain": [
       "tokenizer_config.json:   0%|          | 0.00/366 [00:00<?, ?B/s]"
      ]
     },
     "metadata": {},
     "output_type": "display_data"
    },
    {
     "data": {
      "application/vnd.jupyter.widget-view+json": {
       "model_id": "ede52d1cdc484440ad7dd98ab68dda7b",
       "version_major": 2,
       "version_minor": 0
      },
      "text/plain": [
       "vocab.txt: 0.00B [00:00, ?B/s]"
      ]
     },
     "metadata": {},
     "output_type": "display_data"
    },
    {
     "data": {
      "application/vnd.jupyter.widget-view+json": {
       "model_id": "3052586a50cd495395873bcf4e4a3fcc",
       "version_major": 2,
       "version_minor": 0
      },
      "text/plain": [
       "tokenizer.json: 0.00B [00:00, ?B/s]"
      ]
     },
     "metadata": {},
     "output_type": "display_data"
    },
    {
     "data": {
      "application/vnd.jupyter.widget-view+json": {
       "model_id": "ac9136f0ed1c4a58bdc70aa8432dfa11",
       "version_major": 2,
       "version_minor": 0
      },
      "text/plain": [
       "special_tokens_map.json:   0%|          | 0.00/125 [00:00<?, ?B/s]"
      ]
     },
     "metadata": {},
     "output_type": "display_data"
    },
    {
     "data": {
      "application/vnd.jupyter.widget-view+json": {
       "model_id": "c514c3c477fc404384b4ac4419ab8d5b",
       "version_major": 2,
       "version_minor": 0
      },
      "text/plain": [
       "config.json:   0%|          | 0.00/191 [00:00<?, ?B/s]"
      ]
     },
     "metadata": {},
     "output_type": "display_data"
    },
    {
     "name": "stderr",
     "output_type": "stream",
     "text": [
      "\rExtracting paths from text:   0%|          | 0/639 [00:00<?, ?it/s]\rExtracting paths from text:   0%|          | 1/639 [00:10<1:50:01, 10.35s/it]\rExtracting paths from text:   0%|          | 2/639 [00:10<46:58,  4.42s/it]  \rExtracting paths from text:   0%|          | 3/639 [00:11<28:16,  2.67s/it]\rExtracting paths from text:   1%|          | 4/639 [00:16<38:37,  3.65s/it]\rExtracting paths from text:   1%|          | 5/639 [00:19<37:32,  3.55s/it]\rExtracting paths from text:   1%|          | 6/639 [00:20<25:49,  2.45s/it]\rExtracting paths from text:   1%|          | 7/639 [00:22<26:38,  2.53s/it]\rExtracting paths from text:   1%|▏         | 8/639 [00:26<32:21,  3.08s/it]\rExtracting paths from text:   1%|▏         | 9/639 [00:27<23:38,  2.25s/it]\rExtracting paths from text:   2%|▏         | 10/639 [00:31<29:04,  2.77s/it]\rExtracting paths from text:   2%|▏         | 11/639 [01:10<2:24:20, 13.79s/it]\rExtracting paths from text:   2%|▏         | 12/639 [01:11<1:44:43, 10.02s/it]\rExtracting paths from text:   2%|▏         | 13/639 [01:14<1:20:41,  7.73s/it]\rExtracting paths from text:   2%|▏         | 14/639 [01:18<1:11:48,  6.89s/it]\rExtracting paths from text:   2%|▏         | 15/639 [01:19<53:03,  5.10s/it]  \rExtracting paths from text:   3%|▎         | 16/639 [01:22<45:00,  4.33s/it]\rExtracting paths from text:   3%|▎         | 17/639 [01:25<41:49,  4.04s/it]\rExtracting paths from text:   3%|▎         | 18/639 [01:27<34:49,  3.36s/it]\rExtracting paths from text:   3%|▎         | 19/639 [01:28<27:20,  2.65s/it]\rExtracting paths from text:   3%|▎         | 20/639 [01:34<38:46,  3.76s/it]\rExtracting paths from text:   3%|▎         | 21/639 [02:10<2:17:20, 13.33s/it]\rExtracting paths from text:   3%|▎         | 22/639 [02:11<1:37:59,  9.53s/it]\rExtracting paths from text:   4%|▎         | 23/639 [02:11<1:10:26,  6.86s/it]\rExtracting paths from text:   4%|▍         | 24/639 [02:18<1:09:26,  6.77s/it]\rExtracting paths from text:   4%|▍         | 25/639 [02:19<50:34,  4.94s/it]  \rExtracting paths from text:   4%|▍         | 26/639 [02:24<52:52,  5.18s/it]\rExtracting paths from text:   4%|▍         | 27/639 [02:26<43:19,  4.25s/it]\rExtracting paths from text:   4%|▍         | 28/639 [02:29<36:51,  3.62s/it]\rExtracting paths from text:   5%|▍         | 29/639 [02:31<33:24,  3.29s/it]\rExtracting paths from text:   5%|▍         | 30/639 [02:34<32:49,  3.23s/it]WARNING:llama_index.llms.openai.utils:Retrying llama_index.llms.openai.base.OpenAI._achat in 0.2235567994897686 seconds as it raised RateLimitError: Error code: 429 - {'error': {'code': '429', 'message': 'Rate limit is exceeded. Try again in 1 seconds.'}}.\n",
      "\rExtracting paths from text:   5%|▍         | 31/639 [03:11<2:13:53, 13.21s/it]\rExtracting paths from text:   5%|▌         | 32/639 [03:13<1:40:02,  9.89s/it]\rExtracting paths from text:   5%|▌         | 33/639 [03:19<1:28:01,  8.72s/it]\rExtracting paths from text:   5%|▌         | 34/639 [03:20<1:06:30,  6.60s/it]\rExtracting paths from text:   5%|▌         | 35/639 [03:22<52:25,  5.21s/it]  \rExtracting paths from text:   6%|▌         | 36/639 [03:25<44:55,  4.47s/it]\rExtracting paths from text:   6%|▌         | 37/639 [03:27<36:41,  3.66s/it]\rExtracting paths from text:   6%|▌         | 38/639 [03:31<37:28,  3.74s/it]\rExtracting paths from text:   6%|▌         | 39/639 [03:36<41:30,  4.15s/it]\rExtracting paths from text:   6%|▋         | 40/639 [03:36<30:07,  3.02s/it]\rExtracting paths from text:   6%|▋         | 41/639 [04:11<2:05:26, 12.59s/it]\rExtracting paths from text:   7%|▋         | 42/639 [04:11<1:28:11,  8.86s/it]WARNING:llama_index.llms.openai.utils:Retrying llama_index.llms.openai.base.OpenAI._achat in 0.7753651517044868 seconds as it raised RateLimitError: Error code: 429 - {'error': {'code': '429', 'message': 'Rate limit is exceeded. Try again in 2 seconds.'}}.\n",
      "\rExtracting paths from text:   7%|▋         | 43/639 [04:19<1:25:31,  8.61s/it]\rExtracting paths from text:   7%|▋         | 44/639 [04:22<1:08:12,  6.88s/it]\rExtracting paths from text:   7%|▋         | 45/639 [04:23<49:52,  5.04s/it]  \rExtracting paths from text:   7%|▋         | 46/639 [04:28<48:20,  4.89s/it]\rExtracting paths from text:   7%|▋         | 47/639 [04:30<39:33,  4.01s/it]\rExtracting paths from text:   8%|▊         | 48/639 [04:32<36:06,  3.67s/it]\rExtracting paths from text:   8%|▊         | 49/639 [04:34<30:28,  3.10s/it]\rExtracting paths from text:   8%|▊         | 50/639 [04:37<28:26,  2.90s/it]\rExtracting paths from text:   8%|▊         | 51/639 [05:11<2:01:55, 12.44s/it]\rExtracting paths from text:   8%|▊         | 52/639 [05:11<1:25:37,  8.75s/it]WARNING:llama_index.llms.openai.utils:Retrying llama_index.llms.openai.base.OpenAI._achat in 0.7394263361245497 seconds as it raised RateLimitError: Error code: 429 - {'error': {'code': '429', 'message': 'Rate limit is exceeded. Try again in 2 seconds.'}}.\n",
      "\rExtracting paths from text:   8%|▊         | 53/639 [05:20<1:24:07,  8.61s/it]\rExtracting paths from text:   8%|▊         | 54/639 [05:21<1:02:21,  6.40s/it]\rExtracting paths from text:   9%|▊         | 55/639 [05:23<49:59,  5.14s/it]  \rExtracting paths from text:   9%|▉         | 56/639 [05:28<50:01,  5.15s/it]\rExtracting paths from text:   9%|▉         | 57/639 [05:30<40:38,  4.19s/it]\rExtracting paths from text:   9%|▉         | 58/639 [05:35<41:05,  4.24s/it]\rExtracting paths from text:   9%|▉         | 59/639 [05:37<35:57,  3.72s/it]WARNING:llama_index.llms.openai.utils:Retrying llama_index.llms.openai.base.OpenAI._achat in 0.7124555137158731 seconds as it raised RateLimitError: Error code: 429 - {'error': {'code': '429', 'message': 'Rate limit is exceeded. Try again in 7 seconds.'}}.\n",
      "\rExtracting paths from text:   9%|▉         | 60/639 [06:14<2:10:30, 13.52s/it]\rExtracting paths from text:  10%|▉         | 61/639 [06:15<1:35:46,  9.94s/it]\rExtracting paths from text:  10%|▉         | 62/639 [06:20<1:21:44,  8.50s/it]\rExtracting paths from text:  10%|▉         | 63/639 [06:21<58:17,  6.07s/it]  \rExtracting paths from text:  10%|█         | 64/639 [06:24<51:36,  5.38s/it]\rExtracting paths from text:  10%|█         | 65/639 [06:28<45:10,  4.72s/it]\rExtracting paths from text:  10%|█         | 66/639 [06:33<46:05,  4.83s/it]\rExtracting paths from text:  10%|█         | 67/639 [06:35<39:15,  4.12s/it]\rExtracting paths from text:  11%|█         | 68/639 [06:36<28:44,  3.02s/it]\rExtracting paths from text:  11%|█         | 69/639 [06:42<39:27,  4.15s/it]\rExtracting paths from text:  11%|█         | 70/639 [07:12<1:51:50, 11.79s/it]\rExtracting paths from text:  11%|█         | 71/639 [07:13<1:20:12,  8.47s/it]WARNING:llama_index.llms.openai.utils:Retrying llama_index.llms.openai.base.OpenAI._achat in 0.879762779321281 seconds as it raised RateLimitError: Error code: 429 - {'error': {'code': '429', 'message': 'Rate limit is exceeded. Try again in 2 seconds.'}}.\n",
      "WARNING:llama_index.llms.openai.utils:Retrying llama_index.llms.openai.base.OpenAI._achat in 0.49641742120069 seconds as it raised RateLimitError: Error code: 429 - {'error': {'code': '429', 'message': 'Rate limit is exceeded. Try again in 3 seconds.'}}.\n",
      "\rExtracting paths from text:  11%|█▏        | 72/639 [07:21<1:19:02,  8.36s/it]\rExtracting paths from text:  11%|█▏        | 73/639 [07:27<1:12:29,  7.68s/it]\rExtracting paths from text:  12%|█▏        | 74/639 [07:27<51:42,  5.49s/it]  \rExtracting paths from text:  12%|█▏        | 75/639 [07:29<40:24,  4.30s/it]\rExtracting paths from text:  12%|█▏        | 76/639 [07:35<46:32,  4.96s/it]\rExtracting paths from text:  12%|█▏        | 77/639 [07:36<32:51,  3.51s/it]\rExtracting paths from text:  12%|█▏        | 78/639 [07:41<37:56,  4.06s/it]WARNING:llama_index.llms.openai.utils:Retrying llama_index.llms.openai.base.OpenAI._achat in 0.6511519643424449 seconds as it raised RateLimitError: Error code: 429 - {'error': {'code': '429', 'message': 'Rate limit is exceeded. Try again in 8 seconds.'}}.\n",
      "\rExtracting paths from text:  12%|█▏        | 79/639 [08:13<1:57:11, 12.56s/it]\rExtracting paths from text:  13%|█▎        | 80/639 [08:16<1:28:35,  9.51s/it]\rExtracting paths from text:  13%|█▎        | 81/639 [08:21<1:17:19,  8.31s/it]\rExtracting paths from text:  13%|█▎        | 82/639 [08:25<1:05:26,  7.05s/it]\rExtracting paths from text:  13%|█▎        | 83/639 [08:26<47:59,  5.18s/it]  \rExtracting paths from text:  13%|█▎        | 84/639 [08:28<38:56,  4.21s/it]\rExtracting paths from text:  13%|█▎        | 85/639 [08:35<46:08,  5.00s/it]\rExtracting paths from text:  13%|█▎        | 86/639 [08:36<34:22,  3.73s/it]\rExtracting paths from text:  14%|█▎        | 87/639 [08:38<29:18,  3.19s/it]\rExtracting paths from text:  14%|█▍        | 88/639 [08:43<34:16,  3.73s/it]\rExtracting paths from text:  14%|█▍        | 89/639 [09:13<1:46:52, 11.66s/it]\rExtracting paths from text:  14%|█▍        | 90/639 [09:13<1:16:21,  8.34s/it]\rExtracting paths from text:  14%|█▍        | 91/639 [09:14<54:12,  5.93s/it]  \rExtracting paths from text:  14%|█▍        | 92/639 [09:26<1:11:58,  7.90s/it]\rExtracting paths from text:  15%|█▍        | 93/639 [09:27<51:48,  5.69s/it]  \rExtracting paths from text:  15%|█▍        | 94/639 [09:30<44:39,  4.92s/it]\rExtracting paths from text:  15%|█▍        | 95/639 [09:35<44:18,  4.89s/it]\rExtracting paths from text:  15%|█▌        | 96/639 [09:36<36:09,  4.00s/it]\rExtracting paths from text:  15%|█▌        | 97/639 [09:37<26:25,  2.93s/it]\rExtracting paths from text:  15%|█▌        | 98/639 [09:42<33:23,  3.70s/it]\rExtracting paths from text:  15%|█▌        | 99/639 [10:14<1:47:20, 11.93s/it]\rExtracting paths from text:  16%|█▌        | 101/639 [10:14<58:09,  6.49s/it] \rExtracting paths from text:  16%|█▌        | 102/639 [10:26<1:10:18,  7.86s/it]\rExtracting paths from text:  16%|█▌        | 103/639 [10:26<53:19,  5.97s/it]  \rExtracting paths from text:  16%|█▋        | 104/639 [10:31<49:12,  5.52s/it]\rExtracting paths from text:  16%|█▋        | 105/639 [10:35<46:18,  5.20s/it]\rExtracting paths from text:  17%|█▋        | 106/639 [10:37<38:49,  4.37s/it]\rExtracting paths from text:  17%|█▋        | 107/639 [10:39<32:41,  3.69s/it]\rExtracting paths from text:  17%|█▋        | 108/639 [10:44<35:28,  4.01s/it]\rExtracting paths from text:  17%|█▋        | 109/639 [11:15<1:44:33, 11.84s/it]\rExtracting paths from text:  17%|█▋        | 110/639 [11:15<1:14:18,  8.43s/it]\rExtracting paths from text:  17%|█▋        | 111/639 [11:15<52:46,  6.00s/it]  WARNING:llama_index.llms.openai.utils:Retrying llama_index.llms.openai.base.OpenAI._achat in 0.26555235588089454 seconds as it raised RateLimitError: Error code: 429 - {'error': {'code': '429', 'message': 'Rate limit is exceeded. Try again in 1 seconds.'}}.\n",
      "\rExtracting paths from text:  18%|█▊        | 112/639 [11:26<1:03:46,  7.26s/it]\rExtracting paths from text:  18%|█▊        | 113/639 [11:26<45:49,  5.23s/it]  \rExtracting paths from text:  18%|█▊        | 114/639 [11:31<45:35,  5.21s/it]\rExtracting paths from text:  18%|█▊        | 115/639 [11:36<44:07,  5.05s/it]\rExtracting paths from text:  18%|█▊        | 116/639 [11:38<36:27,  4.18s/it]\rExtracting paths from text:  18%|█▊        | 117/639 [11:39<26:40,  3.07s/it]\rExtracting paths from text:  18%|█▊        | 118/639 [12:13<1:48:54, 12.54s/it]\rExtracting paths from text:  19%|█▊        | 119/639 [12:14<1:19:03,  9.12s/it]\rExtracting paths from text:  19%|█▉        | 120/639 [12:15<57:18,  6.63s/it]  WARNING:llama_index.llms.openai.utils:Retrying llama_index.llms.openai.base.OpenAI._achat in 0.46889076813033026 seconds as it raised RateLimitError: Error code: 429 - {'error': {'code': '429', 'message': 'Rate limit is exceeded. Try again in 1 seconds.'}}.\n",
      "\rExtracting paths from text:  19%|█▉        | 121/639 [12:27<1:10:42,  8.19s/it]\rExtracting paths from text:  19%|█▉        | 122/639 [12:29<54:08,  6.28s/it]  \rExtracting paths from text:  19%|█▉        | 123/639 [12:32<46:17,  5.38s/it]\rExtracting paths from text:  19%|█▉        | 124/639 [12:39<50:40,  5.90s/it]\rExtracting paths from text:  20%|█▉        | 125/639 [12:40<36:47,  4.29s/it]\rExtracting paths from text:  20%|█▉        | 126/639 [12:42<31:20,  3.66s/it]\rExtracting paths from text:  20%|█▉        | 127/639 [12:47<35:58,  4.22s/it]\rExtracting paths from text:  20%|██        | 128/639 [13:14<1:31:50, 10.78s/it]\rExtracting paths from text:  20%|██        | 129/639 [13:14<1:06:26,  7.82s/it]\rExtracting paths from text:  20%|██        | 130/639 [13:17<52:20,  6.17s/it]  WARNING:llama_index.llms.openai.utils:Retrying llama_index.llms.openai.base.OpenAI._achat in 0.7447731543834111 seconds as it raised RateLimitError: Error code: 429 - {'error': {'code': '429', 'message': 'Rate limit is exceeded. Try again in 1 seconds.'}}.\n",
      "\rExtracting paths from text:  21%|██        | 131/639 [13:28<1:05:35,  7.75s/it]\rExtracting paths from text:  21%|██        | 132/639 [13:28<46:06,  5.46s/it]  \rExtracting paths from text:  21%|██        | 133/639 [13:31<38:08,  4.52s/it]\rExtracting paths from text:  21%|██        | 134/639 [13:36<39:30,  4.69s/it]\rExtracting paths from text:  21%|██        | 135/639 [13:39<35:38,  4.24s/it]\rExtracting paths from text:  21%|██▏       | 136/639 [13:40<27:02,  3.23s/it]\rExtracting paths from text:  21%|██▏       | 137/639 [13:46<34:17,  4.10s/it]\rExtracting paths from text:  22%|██▏       | 138/639 [13:48<27:56,  3.35s/it]WARNING:llama_index.llms.openai.utils:Retrying llama_index.llms.openai.base.OpenAI._achat in 0.7322610458625217 seconds as it raised RateLimitError: Error code: 429 - {'error': {'code': '429', 'message': 'Rate limit is exceeded. Try again in 7 seconds.'}}.\n",
      "\rExtracting paths from text:  22%|██▏       | 139/639 [14:15<1:27:20, 10.48s/it]\rExtracting paths from text:  22%|██▏       | 140/639 [14:18<1:09:43,  8.38s/it]WARNING:llama_index.llms.openai.utils:Retrying llama_index.llms.openai.base.OpenAI._achat in 0.14242476669437776 seconds as it raised RateLimitError: Error code: 429 - {'error': {'code': '429', 'message': 'Rate limit is exceeded. Try again in 2 seconds.'}}.\n",
      "\rExtracting paths from text:  22%|██▏       | 141/639 [14:27<1:10:34,  8.50s/it]\rExtracting paths from text:  22%|██▏       | 142/639 [14:28<50:46,  6.13s/it]  \rExtracting paths from text:  22%|██▏       | 143/639 [14:31<44:25,  5.37s/it]\rExtracting paths from text:  23%|██▎       | 144/639 [14:38<47:35,  5.77s/it]\rExtracting paths from text:  23%|██▎       | 145/639 [14:39<36:26,  4.43s/it]\rExtracting paths from text:  23%|██▎       | 146/639 [14:40<27:15,  3.32s/it]\rExtracting paths from text:  23%|██▎       | 147/639 [14:47<37:47,  4.61s/it]\rExtracting paths from text:  23%|██▎       | 148/639 [14:50<32:10,  3.93s/it]WARNING:llama_index.llms.openai.utils:Retrying llama_index.llms.openai.base.OpenAI._achat in 0.1788908537790299 seconds as it raised RateLimitError: Error code: 429 - {'error': {'code': '429', 'message': 'Rate limit is exceeded. Try again in 4 seconds.'}}.\n",
      "\rExtracting paths from text:  23%|██▎       | 149/639 [15:17<1:28:46, 10.87s/it]\rExtracting paths from text:  23%|██▎       | 150/639 [15:21<1:12:52,  8.94s/it]WARNING:llama_index.llms.openai.utils:Retrying llama_index.llms.openai.base.OpenAI._achat in 1.8544304338860798 seconds as it raised RateLimitError: Error code: 429 - {'error': {'code': '429', 'message': 'Rate limit is exceeded. Try again in 1 seconds.'}}.\n",
      "\rExtracting paths from text:  24%|██▎       | 151/639 [15:26<1:02:17,  7.66s/it]\rExtracting paths from text:  24%|██▍       | 152/639 [15:28<49:19,  6.08s/it]  \rExtracting paths from text:  24%|██▍       | 153/639 [15:33<44:59,  5.55s/it]\rExtracting paths from text:  24%|██▍       | 154/639 [15:38<43:11,  5.34s/it]\rExtracting paths from text:  24%|██▍       | 155/639 [15:39<34:20,  4.26s/it]\rExtracting paths from text:  24%|██▍       | 156/639 [15:41<27:22,  3.40s/it]\rExtracting paths from text:  25%|██▍       | 157/639 [15:47<33:33,  4.18s/it]\rExtracting paths from text:  25%|██▍       | 158/639 [15:47<25:14,  3.15s/it]\rExtracting paths from text:  25%|██▍       | 159/639 [16:17<1:27:35, 10.95s/it]WARNING:llama_index.llms.openai.utils:Retrying llama_index.llms.openai.base.OpenAI._achat in 0.7494066860105687 seconds as it raised RateLimitError: Error code: 429 - {'error': {'code': '429', 'message': 'Rate limit is exceeded. Try again in 3 seconds.'}}.\n",
      "WARNING:llama_index.llms.openai.utils:Retrying llama_index.llms.openai.base.OpenAI._achat in 0.3159136012136282 seconds as it raised RateLimitError: Error code: 429 - {'error': {'code': '429', 'message': 'Rate limit is exceeded. Try again in 2 seconds.'}}.\n",
      "\rExtracting paths from text:  25%|██▌       | 160/639 [16:24<1:19:38,  9.98s/it]\rExtracting paths from text:  25%|██▌       | 161/639 [16:27<1:02:57,  7.90s/it]\rExtracting paths from text:  25%|██▌       | 162/639 [16:30<50:58,  6.41s/it]  \rExtracting paths from text:  26%|██▌       | 163/639 [16:32<39:38,  5.00s/it]\rExtracting paths from text:  26%|██▌       | 164/639 [16:36<38:15,  4.83s/it]WARNING:llama_index.llms.openai.utils:Retrying llama_index.llms.openai.base.OpenAI._achat in 0.9718832633572261 seconds as it raised RateLimitError: Error code: 429 - {'error': {'code': '429', 'message': 'Rate limit is exceeded. Try again in 1 seconds.'}}.\n",
      "\rExtracting paths from text:  26%|██▌       | 165/639 [16:41<37:01,  4.69s/it]\rExtracting paths from text:  26%|██▌       | 166/639 [16:47<40:55,  5.19s/it]\rExtracting paths from text:  26%|██▌       | 167/639 [16:49<32:19,  4.11s/it]\rExtracting paths from text:  26%|██▋       | 168/639 [17:15<1:25:07, 10.84s/it]\rExtracting paths from text:  26%|██▋       | 169/639 [17:17<1:03:07,  8.06s/it]\rExtracting paths from text:  27%|██▋       | 170/639 [17:24<1:01:38,  7.88s/it]\rExtracting paths from text:  27%|██▋       | 171/639 [17:28<51:23,  6.59s/it]  \rExtracting paths from text:  27%|██▋       | 172/639 [17:30<41:07,  5.28s/it]\rExtracting paths from text:  27%|██▋       | 173/639 [17:33<36:25,  4.69s/it]\rExtracting paths from text:  27%|██▋       | 174/639 [17:38<36:44,  4.74s/it]\rExtracting paths from text:  27%|██▋       | 175/639 [17:41<32:43,  4.23s/it]\rExtracting paths from text:  28%|██▊       | 176/639 [17:47<34:49,  4.51s/it]\rExtracting paths from text:  28%|██▊       | 177/639 [17:48<27:14,  3.54s/it]\rExtracting paths from text:  28%|██▊       | 178/639 [18:18<1:28:25, 11.51s/it]\rExtracting paths from text:  28%|██▊       | 179/639 [18:23<1:12:27,  9.45s/it]\rExtracting paths from text:  28%|██▊       | 180/639 [18:26<58:36,  7.66s/it]  \rExtracting paths from text:  28%|██▊       | 181/639 [18:30<49:14,  6.45s/it]\rExtracting paths from text:  28%|██▊       | 182/639 [18:31<37:35,  4.94s/it]\rExtracting paths from text:  29%|██▊       | 183/639 [18:34<32:23,  4.26s/it]\rExtracting paths from text:  29%|██▉       | 184/639 [18:39<34:38,  4.57s/it]\rExtracting paths from text:  29%|██▉       | 185/639 [18:41<29:45,  3.93s/it]\rExtracting paths from text:  29%|██▉       | 186/639 [18:48<35:29,  4.70s/it]\rExtracting paths from text:  29%|██▉       | 187/639 [18:48<25:27,  3.38s/it]\rExtracting paths from text:  29%|██▉       | 188/639 [19:17<1:22:58, 11.04s/it]\rExtracting paths from text:  30%|██▉       | 189/639 [19:17<58:37,  7.82s/it]  \rExtracting paths from text:  30%|██▉       | 190/639 [19:28<1:04:54,  8.67s/it]\rExtracting paths from text:  30%|██▉       | 191/639 [19:31<51:14,  6.86s/it]  \rExtracting paths from text:  30%|███       | 192/639 [19:31<37:04,  4.98s/it]\rExtracting paths from text:  30%|███       | 193/639 [19:36<37:12,  5.01s/it]\rExtracting paths from text:  30%|███       | 194/639 [19:38<29:34,  3.99s/it]\rExtracting paths from text:  31%|███       | 195/639 [19:45<36:37,  4.95s/it]\rExtracting paths from text:  31%|███       | 196/639 [19:48<31:32,  4.27s/it]\rExtracting paths from text:  31%|███       | 197/639 [19:52<30:49,  4.19s/it]\rExtracting paths from text:  31%|███       | 198/639 [20:19<1:20:59, 11.02s/it]\rExtracting paths from text:  31%|███       | 199/639 [20:20<58:55,  8.04s/it]  WARNING:llama_index.llms.openai.utils:Retrying llama_index.llms.openai.base.OpenAI._achat in 0.5595981555096525 seconds as it raised RateLimitError: Error code: 429 - {'error': {'code': '429', 'message': 'Rate limit is exceeded. Try again in 1 seconds.'}}.\n",
      "\rExtracting paths from text:  31%|███▏      | 200/639 [20:27<56:30,  7.72s/it]\rExtracting paths from text:  32%|███▏      | 202/639 [20:30<35:43,  4.90s/it]\rExtracting paths from text:  32%|███▏      | 203/639 [20:37<38:49,  5.34s/it]\rExtracting paths from text:  32%|███▏      | 205/639 [20:42<30:54,  4.27s/it]\rExtracting paths from text:  32%|███▏      | 206/639 [20:49<34:04,  4.72s/it]\rExtracting paths from text:  32%|███▏      | 207/639 [20:51<29:08,  4.05s/it]\rExtracting paths from text:  33%|███▎      | 208/639 [21:19<1:15:00, 10.44s/it]\rExtracting paths from text:  33%|███▎      | 209/639 [21:19<54:49,  7.65s/it]  WARNING:llama_index.llms.openai.utils:Retrying llama_index.llms.openai.base.OpenAI._achat in 0.10336040095304955 seconds as it raised RateLimitError: Error code: 429 - {'error': {'code': '429', 'message': 'Rate limit is exceeded. Try again in 1 seconds.'}}.\n",
      "WARNING:llama_index.llms.openai.utils:Retrying llama_index.llms.openai.base.OpenAI._achat in 0.7255321282527442 seconds as it raised RateLimitError: Error code: 429 - {'error': {'code': '429', 'message': 'Rate limit is exceeded. Try again in 2 seconds.'}}.\n",
      "\rExtracting paths from text:  33%|███▎      | 210/639 [21:31<1:03:25,  8.87s/it]\rExtracting paths from text:  33%|███▎      | 211/639 [21:32<45:54,  6.43s/it]  \rExtracting paths from text:  33%|███▎      | 212/639 [21:36<41:36,  5.85s/it]\rExtracting paths from text:  33%|███▎      | 213/639 [21:40<38:12,  5.38s/it]\rExtracting paths from text:  33%|███▎      | 214/639 [21:43<32:38,  4.61s/it]\rExtracting paths from text:  34%|███▎      | 215/639 [21:47<31:11,  4.41s/it]\rExtracting paths from text:  34%|███▍      | 216/639 [21:50<28:34,  4.05s/it]\rExtracting paths from text:  34%|███▍      | 217/639 [21:51<20:28,  2.91s/it]\rExtracting paths from text:  34%|███▍      | 218/639 [22:19<1:13:18, 10.45s/it]\rExtracting paths from text:  34%|███▍      | 219/639 [22:19<52:09,  7.45s/it]  \rExtracting paths from text:  34%|███▍      | 220/639 [22:28<55:10,  7.90s/it]\rExtracting paths from text:  35%|███▍      | 221/639 [22:28<38:56,  5.59s/it]WARNING:llama_index.llms.openai.utils:Retrying llama_index.llms.openai.base.OpenAI._achat in 0.8323331231381669 seconds as it raised RateLimitError: Error code: 429 - {'error': {'code': '429', 'message': 'Rate limit is exceeded. Try again in 2 seconds.'}}.\n",
      "WARNING:llama_index.llms.openai.utils:Retrying llama_index.llms.openai.base.OpenAI._achat in 0.9106963162863746 seconds as it raised RateLimitError: Error code: 429 - {'error': {'code': '429', 'message': 'Rate limit is exceeded. Try again in 3 seconds.'}}.\n",
      "\rExtracting paths from text:  35%|███▍      | 222/639 [22:36<43:13,  6.22s/it]\rExtracting paths from text:  35%|███▍      | 223/639 [22:40<38:13,  5.51s/it]\rExtracting paths from text:  35%|███▌      | 224/639 [22:45<36:35,  5.29s/it]\rExtracting paths from text:  35%|███▌      | 225/639 [22:54<44:20,  6.43s/it]\rExtracting paths from text:  35%|███▌      | 226/639 [22:55<33:08,  4.81s/it]\rExtracting paths from text:  36%|███▌      | 227/639 [23:19<1:13:14, 10.67s/it]\rExtracting paths from text:  36%|███▌      | 228/639 [23:20<52:39,  7.69s/it]  \rExtracting paths from text:  36%|███▌      | 229/639 [23:22<41:01,  6.00s/it]\rExtracting paths from text:  36%|███▌      | 230/639 [23:29<42:39,  6.26s/it]\rExtracting paths from text:  36%|███▌      | 231/639 [23:29<29:59,  4.41s/it]WARNING:llama_index.llms.openai.utils:Retrying llama_index.llms.openai.base.OpenAI._achat in 0.530548201198108 seconds as it raised RateLimitError: Error code: 429 - {'error': {'code': '429', 'message': 'Rate limit is exceeded. Try again in 2 seconds.'}}.\n",
      "\rExtracting paths from text:  36%|███▋      | 232/639 [23:38<39:01,  5.75s/it]\rExtracting paths from text:  36%|███▋      | 233/639 [23:40<32:46,  4.84s/it]\rExtracting paths from text:  37%|███▋      | 234/639 [23:44<30:42,  4.55s/it]WARNING:llama_index.llms.openai.utils:Retrying llama_index.llms.openai.base.OpenAI._achat in 0.1647096425855923 seconds as it raised RateLimitError: Error code: 429 - {'error': {'code': '429', 'message': 'Rate limit is exceeded. Try again in 28 seconds.'}}.\n",
      "\rExtracting paths from text:  37%|███▋      | 235/639 [23:51<34:41,  5.15s/it]\rExtracting paths from text:  37%|███▋      | 236/639 [23:54<30:02,  4.47s/it]\rExtracting paths from text:  37%|███▋      | 237/639 [24:19<1:12:52, 10.88s/it]\rExtracting paths from text:  37%|███▋      | 238/639 [24:20<51:16,  7.67s/it]  \rExtracting paths from text:  37%|███▋      | 239/639 [24:21<37:48,  5.67s/it]\rExtracting paths from text:  38%|███▊      | 240/639 [24:28<41:05,  6.18s/it]WARNING:llama_index.llms.openai.utils:Retrying llama_index.llms.openai.base.OpenAI._achat in 0.6833148354936451 seconds as it raised RateLimitError: Error code: 429 - {'error': {'code': \n",
      "\n",
      "*** WARNING: max output size exceeded, skipping output. ***\n",
      "\n",
      "[06:39<01:18,  6.13it/s]\rGenerating embeddings:  79%|███████▉  | 1805/2283 [06:39<01:34,  5.08it/s]\rGenerating embeddings:  79%|███████▉  | 1806/2283 [06:40<01:57,  4.06it/s]\rGenerating embeddings:  79%|███████▉  | 1807/2283 [06:40<02:06,  3.75it/s]\rGenerating embeddings:  79%|███████▉  | 1809/2283 [06:40<01:45,  4.51it/s]\rGenerating embeddings:  79%|███████▉  | 1810/2283 [06:40<01:32,  5.12it/s]\rGenerating embeddings:  79%|███████▉  | 1811/2283 [06:41<01:35,  4.94it/s]\rGenerating embeddings:  79%|███████▉  | 1812/2283 [06:41<02:01,  3.89it/s]\rGenerating embeddings:  79%|███████▉  | 1813/2283 [06:41<01:49,  4.30it/s]\rGenerating embeddings:  79%|███████▉  | 1814/2283 [06:41<01:53,  4.12it/s]\rGenerating embeddings:  80%|███████▉  | 1816/2283 [06:42<01:20,  5.78it/s]\rGenerating embeddings:  80%|███████▉  | 1817/2283 [06:42<02:12,  3.52it/s]\rGenerating embeddings:  80%|███████▉  | 1818/2283 [06:43<02:08,  3.61it/s]\rGenerating embeddings:  80%|███████▉  | 1819/2283 [06:43<02:01,  3.82it/s]\rGenerating embeddings:  80%|███████▉  | 1821/2283 [06:43<01:42,  4.49it/s]\rGenerating embeddings:  80%|███████▉  | 1823/2283 [06:43<01:25,  5.35it/s]\rGenerating embeddings:  80%|███████▉  | 1825/2283 [06:44<02:02,  3.73it/s]\rGenerating embeddings:  80%|███████▉  | 1826/2283 [06:44<01:53,  4.04it/s]\rGenerating embeddings:  80%|████████  | 1827/2283 [06:45<01:56,  3.90it/s]\rGenerating embeddings:  80%|████████  | 1831/2283 [06:46<01:58,  3.83it/s]\rGenerating embeddings:  80%|████████  | 1834/2283 [06:46<01:31,  4.91it/s]\rGenerating embeddings:  80%|████████  | 1836/2283 [06:46<01:17,  5.74it/s]\rGenerating embeddings:  80%|████████  | 1837/2283 [06:47<01:58,  3.75it/s]\rGenerating embeddings:  81%|████████  | 1839/2283 [06:47<01:33,  4.76it/s]\rGenerating embeddings:  81%|████████  | 1841/2283 [06:47<01:15,  5.83it/s]\rGenerating embeddings:  81%|████████  | 1842/2283 [06:47<01:14,  5.94it/s]\rGenerating embeddings:  81%|████████  | 1843/2283 [06:48<02:19,  3.15it/s]\rGenerating embeddings:  81%|████████  | 1846/2283 [06:48<01:21,  5.39it/s]\rGenerating embeddings:  81%|████████  | 1848/2283 [06:49<01:34,  4.62it/s]\rGenerating embeddings:  81%|████████  | 1850/2283 [06:50<01:53,  3.81it/s]\rGenerating embeddings:  81%|████████  | 1854/2283 [06:51<01:37,  4.41it/s]\rGenerating embeddings:  81%|████████▏ | 1855/2283 [06:51<01:31,  4.67it/s]\rGenerating embeddings:  81%|████████▏ | 1856/2283 [06:51<01:40,  4.24it/s]\rGenerating embeddings:  81%|████████▏ | 1858/2283 [06:51<01:17,  5.50it/s]\rGenerating embeddings:  81%|████████▏ | 1860/2283 [06:52<01:35,  4.44it/s]\rGenerating embeddings:  82%|████████▏ | 1861/2283 [06:52<01:31,  4.60it/s]\rGenerating embeddings:  82%|████████▏ | 1863/2283 [06:52<01:15,  5.55it/s]\rGenerating embeddings:  82%|████████▏ | 1866/2283 [06:53<01:39,  4.20it/s]\rGenerating embeddings:  82%|████████▏ | 1867/2283 [06:53<01:34,  4.41it/s]\rGenerating embeddings:  82%|████████▏ | 1869/2283 [06:54<01:23,  4.95it/s]\rGenerating embeddings:  82%|████████▏ | 1871/2283 [06:54<01:13,  5.59it/s]\rGenerating embeddings:  82%|████████▏ | 1872/2283 [06:54<01:41,  4.05it/s]\rGenerating embeddings:  82%|████████▏ | 1873/2283 [06:55<01:41,  4.04it/s]\rGenerating embeddings:  82%|████████▏ | 1875/2283 [06:55<01:17,  5.25it/s]\rGenerating embeddings:  82%|████████▏ | 1876/2283 [06:55<01:19,  5.14it/s]\rGenerating embeddings:  82%|████████▏ | 1877/2283 [06:55<01:13,  5.49it/s]\rGenerating embeddings:  82%|████████▏ | 1878/2283 [06:56<02:01,  3.34it/s]\rGenerating embeddings:  82%|████████▏ | 1879/2283 [06:56<01:58,  3.42it/s]\rGenerating embeddings:  82%|████████▏ | 1881/2283 [06:56<01:31,  4.39it/s]\rGenerating embeddings:  83%|████████▎ | 1884/2283 [06:57<01:25,  4.67it/s]\rGenerating embeddings:  83%|████████▎ | 1885/2283 [06:57<01:17,  5.14it/s]\rGenerating embeddings:  83%|████████▎ | 1886/2283 [06:58<01:48,  3.67it/s]\rGenerating embeddings:  83%|████████▎ | 1888/2283 [06:58<01:15,  5.27it/s]\rGenerating embeddings:  83%|████████▎ | 1890/2283 [06:59<01:40,  3.89it/s]\rGenerating embeddings:  83%|████████▎ | 1891/2283 [06:59<01:32,  4.24it/s]\rGenerating embeddings:  83%|████████▎ | 1892/2283 [06:59<01:30,  4.32it/s]\rGenerating embeddings:  83%|████████▎ | 1894/2283 [06:59<01:13,  5.31it/s]\rGenerating embeddings:  83%|████████▎ | 1895/2283 [06:59<01:17,  5.01it/s]\rGenerating embeddings:  83%|████████▎ | 1896/2283 [07:00<01:37,  3.96it/s]\rGenerating embeddings:  83%|████████▎ | 1897/2283 [07:00<01:48,  3.56it/s]\rGenerating embeddings:  83%|████████▎ | 1899/2283 [07:00<01:20,  4.75it/s]\rGenerating embeddings:  83%|████████▎ | 1900/2283 [07:01<01:14,  5.16it/s]\rGenerating embeddings:  83%|████████▎ | 1902/2283 [07:01<01:31,  4.17it/s]\rGenerating embeddings:  83%|████████▎ | 1903/2283 [07:02<01:45,  3.61it/s]\rGenerating embeddings:  83%|████████▎ | 1905/2283 [07:02<01:28,  4.27it/s]\rGenerating embeddings:  84%|████████▎ | 1907/2283 [07:02<01:09,  5.44it/s]\rGenerating embeddings:  84%|████████▎ | 1908/2283 [07:03<01:43,  3.63it/s]\rGenerating embeddings:  84%|████████▎ | 1910/2283 [07:03<01:30,  4.13it/s]\rGenerating embeddings:  84%|████████▎ | 1911/2283 [07:03<01:30,  4.10it/s]\rGenerating embeddings:  84%|████████▍ | 1913/2283 [07:03<01:05,  5.68it/s]\rGenerating embeddings:  84%|████████▍ | 1914/2283 [07:04<01:15,  4.90it/s]\rGenerating embeddings:  84%|████████▍ | 1915/2283 [07:04<01:30,  4.05it/s]\rGenerating embeddings:  84%|████████▍ | 1916/2283 [07:05<01:41,  3.63it/s]\rGenerating embeddings:  84%|████████▍ | 1917/2283 [07:05<01:36,  3.78it/s]\rGenerating embeddings:  84%|████████▍ | 1919/2283 [07:05<01:03,  5.78it/s]\rGenerating embeddings:  84%|████████▍ | 1920/2283 [07:05<01:22,  4.38it/s]\rGenerating embeddings:  84%|████████▍ | 1921/2283 [07:06<01:25,  4.22it/s]\rGenerating embeddings:  84%|████████▍ | 1922/2283 [07:06<01:27,  4.11it/s]\rGenerating embeddings:  84%|████████▍ | 1923/2283 [07:06<01:20,  4.46it/s]\rGenerating embeddings:  84%|████████▍ | 1924/2283 [07:06<01:16,  4.71it/s]\rGenerating embeddings:  84%|████████▍ | 1926/2283 [07:06<01:05,  5.49it/s]\rGenerating embeddings:  84%|████████▍ | 1927/2283 [07:07<01:42,  3.48it/s]\rGenerating embeddings:  84%|████████▍ | 1929/2283 [07:07<01:24,  4.19it/s]\rGenerating embeddings:  85%|████████▍ | 1931/2283 [07:08<01:21,  4.34it/s]\rGenerating embeddings:  85%|████████▍ | 1933/2283 [07:08<01:16,  4.57it/s]\rGenerating embeddings:  85%|████████▍ | 1934/2283 [07:08<01:09,  5.05it/s]\rGenerating embeddings:  85%|████████▍ | 1935/2283 [07:09<01:13,  4.72it/s]\rGenerating embeddings:  85%|████████▍ | 1936/2283 [07:09<01:12,  4.80it/s]\rGenerating embeddings:  85%|████████▍ | 1937/2283 [07:09<01:33,  3.71it/s]\rGenerating embeddings:  85%|████████▍ | 1938/2283 [07:09<01:23,  4.15it/s]\rGenerating embeddings:  85%|████████▍ | 1939/2283 [07:10<01:26,  3.97it/s]\rGenerating embeddings:  85%|████████▌ | 1941/2283 [07:10<01:18,  4.37it/s]\rGenerating embeddings:  85%|████████▌ | 1942/2283 [07:10<01:19,  4.28it/s]\rGenerating embeddings:  85%|████████▌ | 1943/2283 [07:10<01:14,  4.56it/s]\rGenerating embeddings:  85%|████████▌ | 1945/2283 [07:11<01:25,  3.96it/s]\rGenerating embeddings:  85%|████████▌ | 1946/2283 [07:11<01:35,  3.51it/s]\rGenerating embeddings:  85%|████████▌ | 1948/2283 [07:12<01:08,  4.91it/s]\rGenerating embeddings:  85%|████████▌ | 1949/2283 [07:12<01:04,  5.19it/s]\rGenerating embeddings:  85%|████████▌ | 1950/2283 [07:12<01:01,  5.38it/s]\rGenerating embeddings:  85%|████████▌ | 1951/2283 [07:12<01:06,  5.00it/s]\rGenerating embeddings:  86%|████████▌ | 1952/2283 [07:13<01:37,  3.39it/s]\rGenerating embeddings:  86%|████████▌ | 1953/2283 [07:13<01:25,  3.88it/s]\rGenerating embeddings:  86%|████████▌ | 1954/2283 [07:13<01:17,  4.24it/s]\rGenerating embeddings:  86%|████████▌ | 1955/2283 [07:13<01:06,  4.95it/s]\rGenerating embeddings:  86%|████████▌ | 1957/2283 [07:14<00:59,  5.43it/s]\rGenerating embeddings:  86%|████████▌ | 1958/2283 [07:14<01:41,  3.21it/s]\rGenerating embeddings:  86%|████████▌ | 1959/2283 [07:14<01:25,  3.80it/s]\rGenerating embeddings:  86%|████████▌ | 1961/2283 [07:15<01:01,  5.20it/s]\rGenerating embeddings:  86%|████████▌ | 1963/2283 [07:15<00:51,  6.16it/s]\rGenerating embeddings:  86%|████████▌ | 1964/2283 [07:15<01:13,  4.36it/s]\rGenerating embeddings:  86%|████████▌ | 1965/2283 [07:16<01:27,  3.63it/s]\rGenerating embeddings:  86%|████████▌ | 1966/2283 [07:16<01:24,  3.74it/s]\rGenerating embeddings:  86%|████████▌ | 1968/2283 [07:16<01:00,  5.22it/s]\rGenerating embeddings:  86%|████████▋ | 1970/2283 [07:17<01:12,  4.33it/s]\rGenerating embeddings:  86%|████████▋ | 1971/2283 [07:17<01:09,  4.50it/s]\rGenerating embeddings:  86%|████████▋ | 1972/2283 [07:17<01:24,  3.67it/s]\rGenerating embeddings:  86%|████████▋ | 1973/2283 [07:17<01:13,  4.21it/s]\rGenerating embeddings:  87%|████████▋ | 1976/2283 [07:18<01:02,  4.88it/s]\rGenerating embeddings:  87%|████████▋ | 1977/2283 [07:18<01:09,  4.37it/s]\rGenerating embeddings:  87%|████████▋ | 1978/2283 [07:19<01:12,  4.21it/s]\rGenerating embeddings:  87%|████████▋ | 1979/2283 [07:19<01:03,  4.80it/s]\rGenerating embeddings:  87%|████████▋ | 1980/2283 [07:19<01:06,  4.59it/s]\rGenerating embeddings:  87%|████████▋ | 1981/2283 [07:19<01:15,  3.98it/s]\rGenerating embeddings:  87%|████████▋ | 1982/2283 [07:19<01:09,  4.32it/s]\rGenerating embeddings:  87%|████████▋ | 1983/2283 [07:20<01:06,  4.48it/s]\rGenerating embeddings:  87%|████████▋ | 1985/2283 [07:20<00:55,  5.37it/s]\rGenerating embeddings:  87%|████████▋ | 1986/2283 [07:20<00:49,  6.04it/s]\rGenerating embeddings:  87%|████████▋ | 1987/2283 [07:21<01:30,  3.27it/s]\rGenerating embeddings:  87%|████████▋ | 1989/2283 [07:21<01:07,  4.38it/s]\rGenerating embeddings:  87%|████████▋ | 1991/2283 [07:21<00:55,  5.30it/s]\rGenerating embeddings:  87%|████████▋ | 1993/2283 [07:22<01:17,  3.75it/s]\rGenerating embeddings:  87%|████████▋ | 1994/2283 [07:22<01:13,  3.92it/s]\rGenerating embeddings:  87%|████████▋ | 1995/2283 [07:23<01:13,  3.91it/s]\rGenerating embeddings:  87%|████████▋ | 1996/2283 [07:23<01:03,  4.52it/s]\rGenerating embeddings:  88%|████████▊ | 1999/2283 [07:23<01:10,  4.01it/s]\rGenerating embeddings:  88%|████████▊ | 2000/2283 [07:24<01:11,  3.97it/s]\rGenerating embeddings:  88%|████████▊ | 2002/2283 [07:24<00:52,  5.31it/s]\rGenerating embeddings:  88%|████████▊ | 2004/2283 [07:24<00:49,  5.66it/s]\rGenerating embeddings:  88%|████████▊ | 2005/2283 [07:25<01:03,  4.37it/s]\rGenerating embeddings:  88%|████████▊ | 2006/2283 [07:25<01:06,  4.17it/s]\rGenerating embeddings:  88%|████████▊ | 2007/2283 [07:25<01:18,  3.53it/s]\rGenerating embeddings:  88%|████████▊ | 2010/2283 [07:26<00:57,  4.76it/s]\rGenerating embeddings:  88%|████████▊ | 2011/2283 [07:26<01:06,  4.09it/s]\rGenerating embeddings:  88%|████████▊ | 2013/2283 [07:26<00:56,  4.77it/s]\rGenerating embeddings:  88%|████████▊ | 2014/2283 [07:27<00:54,  4.92it/s]\rGenerating embeddings:  88%|████████▊ | 2015/2283 [07:27<01:18,  3.42it/s]\rGenerating embeddings:  88%|████████▊ | 2018/2283 [07:28<01:02,  4.23it/s]\rGenerating embeddings:  88%|████████▊ | 2020/2283 [07:28<00:47,  5.55it/s]\rGenerating embeddings:  89%|████████▊ | 2021/2283 [07:28<00:58,  4.51it/s]\rGenerating embeddings:  89%|████████▊ | 2022/2283 [07:29<01:05,  4.00it/s]\rGenerating embeddings:  89%|████████▊ | 2023/2283 [07:29<01:21,  3.18it/s]\rGenerating embeddings:  89%|████████▊ | 2025/2283 [07:29<00:58,  4.39it/s]\rGenerating embeddings:  89%|████████▉ | 2027/2283 [07:29<00:42,  6.02it/s]\rGenerating embeddings:  89%|████████▉ | 2028/2283 [07:30<00:54,  4.70it/s]\rGenerating embeddings:  89%|████████▉ | 2029/2283 [07:31<01:25,  2.99it/s]\rGenerating embeddings:  89%|████████▉ | 2031/2283 [07:31<01:00,  4.19it/s]\rGenerating embeddings:  89%|████████▉ | 2032/2283 [07:31<00:54,  4.61it/s]\rGenerating embeddings:  89%|████████▉ | 2035/2283 [07:32<01:06,  3.73it/s]\rGenerating embeddings:  89%|████████▉ | 2036/2283 [07:32<01:03,  3.89it/s]\rGenerating embeddings:  89%|████████▉ | 2038/2283 [07:32<00:47,  5.20it/s]\rGenerating embeddings:  89%|████████▉ | 2041/2283 [07:33<01:00,  4.01it/s]\rGenerating embeddings:  89%|████████▉ | 2042/2283 [07:34<01:02,  3.87it/s]\rGenerating embeddings:  90%|████████▉ | 2045/2283 [07:34<00:41,  5.75it/s]\rGenerating embeddings:  90%|████████▉ | 2046/2283 [07:34<00:41,  5.76it/s]\rGenerating embeddings:  90%|████████▉ | 2047/2283 [07:35<01:06,  3.53it/s]\rGenerating embeddings:  90%|████████▉ | 2049/2283 [07:35<00:48,  4.81it/s]\rGenerating embeddings:  90%|████████▉ | 2051/2283 [07:35<00:47,  4.86it/s]\rGenerating embeddings:  90%|████████▉ | 2053/2283 [07:36<01:03,  3.62it/s]\rGenerating embeddings:  90%|█████████ | 2055/2283 [07:36<00:48,  4.69it/s]\rGenerating embeddings:  90%|█████████ | 2056/2283 [07:36<00:47,  4.82it/s]\rGenerating embeddings:  90%|█████████ | 2058/2283 [07:37<00:40,  5.53it/s]\rGenerating embeddings:  90%|█████████ | 2059/2283 [07:37<01:02,  3.56it/s]\rGenerating embeddings:  90%|█████████ | 2061/2283 [07:38<00:54,  4.08it/s]\rGenerating embeddings:  90%|█████████ | 2064/2283 [07:38<00:39,  5.52it/s]\rGenerating embeddings:  90%|█████████ | 2065/2283 [07:39<00:52,  4.12it/s]\rGenerating embeddings:  90%|█████████ | 2066/2283 [07:39<00:49,  4.42it/s]\rGenerating embeddings:  91%|█████████ | 2067/2283 [07:39<00:56,  3.85it/s]\rGenerating embeddings:  91%|█████████ | 2069/2283 [07:39<00:42,  5.01it/s]\rGenerating embeddings:  91%|█████████ | 2071/2283 [07:40<00:51,  4.09it/s]\rGenerating embeddings:  91%|█████████ | 2073/2283 [07:41<00:57,  3.63it/s]\rGenerating embeddings:  91%|█████████ | 2076/2283 [07:41<00:37,  5.49it/s]\rGenerating embeddings:  91%|█████████ | 2077/2283 [07:41<00:52,  3.96it/s]\rGenerating embeddings:  91%|█████████ | 2079/2283 [07:42<00:45,  4.51it/s]\rGenerating embeddings:  91%|█████████ | 2080/2283 [07:42<00:52,  3.87it/s]\rGenerating embeddings:  91%|█████████ | 2082/2283 [07:42<00:41,  4.84it/s]\rGenerating embeddings:  91%|█████████ | 2083/2283 [07:42<00:40,  4.97it/s]\rGenerating embeddings:  91%|█████████▏| 2084/2283 [07:43<00:52,  3.78it/s]\rGenerating embeddings:  91%|█████████▏| 2085/2283 [07:43<00:48,  4.08it/s]\rGenerating embeddings:  91%|█████████▏| 2086/2283 [07:43<00:44,  4.41it/s]\rGenerating embeddings:  91%|█████████▏| 2087/2283 [07:44<00:43,  4.53it/s]\rGenerating embeddings:  91%|█████████▏| 2088/2283 [07:44<00:41,  4.72it/s]\rGenerating embeddings:  92%|█████████▏| 2090/2283 [07:44<00:39,  4.93it/s]\rGenerating embeddings:  92%|█████████▏| 2091/2283 [07:44<00:37,  5.10it/s]\rGenerating embeddings:  92%|█████████▏| 2092/2283 [07:45<00:44,  4.29it/s]\rGenerating embeddings:  92%|█████████▏| 2093/2283 [07:45<00:52,  3.59it/s]\rGenerating embeddings:  92%|█████████▏| 2095/2283 [07:45<00:36,  5.12it/s]\rGenerating embeddings:  92%|█████████▏| 2097/2283 [07:46<00:35,  5.21it/s]\rGenerating embeddings:  92%|█████████▏| 2098/2283 [07:46<00:48,  3.84it/s]\rGenerating embeddings:  92%|█████████▏| 2099/2283 [07:46<00:49,  3.69it/s]\rGenerating embeddings:  92%|█████████▏| 2101/2283 [07:47<00:37,  4.80it/s]\rGenerating embeddings:  92%|█████████▏| 2103/2283 [07:47<00:39,  4.60it/s]\rGenerating embeddings:  92%|█████████▏| 2104/2283 [07:47<00:43,  4.11it/s]\rGenerating embeddings:  92%|█████████▏| 2105/2283 [07:48<00:45,  3.95it/s]\rGenerating embeddings:  92%|█████████▏| 2106/2283 [07:48<00:41,  4.23it/s]\rGenerating embeddings:  92%|█████████▏| 2107/2283 [07:48<00:35,  4.97it/s]\rGenerating embeddings:  92%|█████████▏| 2109/2283 [07:48<00:33,  5.15it/s]\rGenerating embeddings:  92%|█████████▏| 2110/2283 [07:49<00:40,  4.31it/s]\rGenerating embeddings:  92%|█████████▏| 2111/2283 [07:49<00:42,  4.02it/s]\rGenerating embeddings:  93%|█████████▎| 2112/2283 [07:49<00:39,  4.30it/s]\rGenerating embeddings:  93%|█████████▎| 2113/2283 [07:49<00:39,  4.36it/s]\rGenerating embeddings:  93%|█████████▎| 2115/2283 [07:50<00:29,  5.60it/s]\rGenerating embeddings:  93%|█████████▎| 2116/2283 [07:50<00:43,  3.84it/s]\rGenerating embeddings:  93%|█████████▎| 2118/2283 [07:50<00:35,  4.63it/s]\rGenerating embeddings:  93%|█████████▎| 2119/2283 [07:51<00:37,  4.43it/s]\rGenerating embeddings:  93%|█████████▎| 2120/2283 [07:51<00:35,  4.58it/s]\rGenerating embeddings:  93%|█████████▎| 2122/2283 [07:52<00:43,  3.68it/s]\rGenerating embeddings:  93%|█████████▎| 2123/2283 [07:52<00:42,  3.74it/s]\rGenerating embeddings:  93%|█████████▎| 2124/2283 [07:52<00:36,  4.40it/s]\rGenerating embeddings:  93%|█████████▎| 2126/2283 [07:52<00:31,  4.93it/s]\rGenerating embeddings:  93%|█████████▎| 2128/2283 [07:53<00:34,  4.51it/s]\rGenerating embeddings:  93%|█████████▎| 2129/2283 [07:53<00:38,  3.98it/s]\rGenerating embeddings:  93%|█████████▎| 2131/2283 [07:54<00:36,  4.22it/s]\rGenerating embeddings:  93%|█████████▎| 2132/2283 [07:54<00:34,  4.34it/s]\rGenerating embeddings:  93%|█████████▎| 2134/2283 [07:54<00:39,  3.80it/s]\rGenerating embeddings:  94%|█████████▎| 2135/2283 [07:55<00:35,  4.13it/s]\rGenerating embeddings:  94%|█████████▎| 2137/2283 [07:55<00:33,  4.39it/s]\rGenerating embeddings:  94%|█████████▎| 2139/2283 [07:55<00:27,  5.16it/s]\rGenerating embeddings:  94%|█████████▎| 2140/2283 [07:56<00:36,  3.87it/s]\rGenerating embeddings:  94%|█████████▍| 2142/2283 [07:56<00:34,  4.09it/s]\rGenerating embeddings:  94%|█████████▍| 2143/2283 [07:56<00:31,  4.39it/s]\rGenerating embeddings:  94%|█████████▍| 2145/2283 [07:57<00:32,  4.24it/s]\rGenerating embeddings:  94%|█████████▍| 2146/2283 [07:57<00:37,  3.63it/s]\rGenerating embeddings:  94%|█████████▍| 2148/2283 [07:58<00:31,  4.32it/s]\rGenerating embeddings:  94%|█████████▍| 2150/2283 [07:58<00:23,  5.56it/s]\rGenerating embeddings:  94%|█████████▍| 2151/2283 [07:58<00:25,  5.18it/s]\rGenerating embeddings:  94%|█████████▍| 2152/2283 [07:59<00:41,  3.19it/s]\rGenerating embeddings:  94%|█████████▍| 2153/2283 [07:59<00:36,  3.60it/s]\rGenerating embeddings:  94%|█████████▍| 2154/2283 [07:59<00:32,  4.02it/s]\rGenerating embeddings:  94%|█████████▍| 2156/2283 [07:59<00:23,  5.43it/s]\rGenerating embeddings:  95%|█████████▍| 2158/2283 [08:00<00:20,  6.12it/s]\rGenerating embeddings:  95%|█████████▍| 2159/2283 [08:00<00:38,  3.22it/s]\rGenerating embeddings:  95%|█████████▍| 2160/2283 [08:01<00:32,  3.74it/s]\rGenerating embeddings:  95%|█████████▍| 2162/2283 [08:01<00:22,  5.44it/s]\rGenerating embeddings:  95%|█████████▍| 2163/2283 [08:01<00:27,  4.42it/s]\rGenerating embeddings:  95%|█████████▍| 2165/2283 [08:02<00:26,  4.38it/s]\rGenerating embeddings:  95%|█████████▍| 2166/2283 [08:02<00:24,  4.81it/s]\rGenerating embeddings:  95%|█████████▍| 2167/2283 [08:02<00:22,  5.08it/s]\rGenerating embeddings:  95%|█████████▍| 2168/2283 [08:02<00:27,  4.14it/s]\rGenerating embeddings:  95%|█████████▌| 2169/2283 [08:02<00:23,  4.88it/s]\rGenerating embeddings:  95%|█████████▌| 2170/2283 [08:02<00:21,  5.26it/s]\rGenerating embeddings:  95%|█████████▌| 2171/2283 [08:03<00:32,  3.47it/s]\rGenerating embeddings:  95%|█████████▌| 2174/2283 [08:04<00:25,  4.34it/s]\rGenerating embeddings:  95%|█████████▌| 2177/2283 [08:04<00:23,  4.46it/s]\rGenerating embeddings:  95%|█████████▌| 2179/2283 [08:05<00:25,  4.03it/s]\rGenerating embeddings:  95%|█████████▌| 2180/2283 [08:05<00:26,  3.85it/s]\rGenerating embeddings:  96%|█████████▌| 2183/2283 [08:05<00:19,  5.26it/s]\rGenerating embeddings:  96%|█████████▌| 2184/2283 [08:06<00:18,  5.31it/s]\rGenerating embeddings:  96%|█████████▌| 2185/2283 [08:06<00:26,  3.70it/s]\rGenerating embeddings:  96%|█████████▌| 2188/2283 [08:07<00:19,  4.75it/s]\rGenerating embeddings:  96%|█████████▌| 2189/2283 [08:07<00:21,  4.32it/s]\rGenerating embeddings:  96%|█████████▌| 2190/2283 [08:07<00:21,  4.35it/s]\rGenerating embeddings:  96%|█████████▌| 2192/2283 [08:07<00:18,  5.04it/s]\rGenerating embeddings:  96%|█████████▌| 2193/2283 [08:08<00:20,  4.48it/s]\rGenerating embeddings:  96%|█████████▌| 2194/2283 [08:08<00:24,  3.60it/s]\rGenerating embeddings:  96%|█████████▌| 2195/2283 [08:08<00:23,  3.74it/s]\rGenerating embeddings:  96%|█████████▌| 2197/2283 [08:09<00:16,  5.27it/s]\rGenerating embeddings:  96%|█████████▋| 2198/2283 [08:09<00:16,  5.18it/s]\rGenerating embeddings:  96%|█████████▋| 2199/2283 [08:09<00:19,  4.42it/s]\rGenerating embeddings:  96%|█████████▋| 2200/2283 [08:09<00:20,  4.11it/s]\rGenerating embeddings:  96%|█████████▋| 2201/2283 [08:10<00:20,  3.99it/s]\rGenerating embeddings:  96%|█████████▋| 2202/2283 [08:10<00:22,  3.66it/s]\rGenerating embeddings:  97%|█████████▋| 2204/2283 [08:10<00:14,  5.31it/s]\rGenerating embeddings:  97%|█████████▋| 2205/2283 [08:10<00:13,  5.65it/s]\rGenerating embeddings:  97%|█████████▋| 2206/2283 [08:11<00:14,  5.17it/s]\rGenerating embeddings:  97%|█████████▋| 2207/2283 [08:11<00:16,  4.74it/s]\rGenerating embeddings:  97%|█████████▋| 2208/2283 [08:11<00:20,  3.62it/s]\rGenerating embeddings:  97%|█████████▋| 2209/2283 [08:12<00:21,  3.52it/s]\rGenerating embeddings:  97%|█████████▋| 2211/2283 [08:12<00:13,  5.25it/s]\rGenerating embeddings:  97%|█████████▋| 2212/2283 [08:12<00:17,  4.09it/s]\rGenerating embeddings:  97%|█████████▋| 2214/2283 [08:13<00:17,  3.89it/s]\rGenerating embeddings:  97%|█████████▋| 2215/2283 [08:13<00:17,  3.99it/s]\rGenerating embeddings:  97%|█████████▋| 2216/2283 [08:13<00:17,  3.79it/s]\rGenerating embeddings:  97%|█████████▋| 2218/2283 [08:13<00:11,  5.58it/s]\rGenerating embeddings:  97%|█████████▋| 2219/2283 [08:14<00:12,  5.04it/s]\rGenerating embeddings:  97%|█████████▋| 2221/2283 [08:14<00:15,  3.89it/s]\rGenerating embeddings:  97%|█████████▋| 2222/2283 [08:15<00:16,  3.65it/s]\rGenerating embeddings:  97%|█████████▋| 2224/2283 [08:15<00:12,  4.90it/s]\rGenerating embeddings:  97%|█████████▋| 2225/2283 [08:15<00:10,  5.47it/s]\rGenerating embeddings:  98%|█████████▊| 2226/2283 [08:15<00:11,  5.04it/s]\rGenerating embeddings:  98%|█████████▊| 2227/2283 [08:16<00:14,  3.82it/s]\rGenerating embeddings:  98%|█████████▊| 2228/2283 [08:16<00:14,  3.75it/s]\rGenerating embeddings:  98%|█████████▊| 2229/2283 [08:16<00:12,  4.36it/s]\rGenerating embeddings:  98%|█████████▊| 2231/2283 [08:16<00:09,  5.76it/s]\rGenerating embeddings:  98%|█████████▊| 2232/2283 [08:16<00:09,  5.26it/s]\rGenerating embeddings:  98%|█████████▊| 2233/2283 [08:17<00:12,  4.09it/s]\rGenerating embeddings:  98%|█████████▊| 2235/2283 [08:17<00:12,  4.00it/s]\rGenerating embeddings:  98%|█████████▊| 2237/2283 [08:18<00:08,  5.70it/s]\rGenerating embeddings:  98%|█████████▊| 2238/2283 [08:18<00:07,  5.71it/s]\rGenerating embeddings:  98%|█████████▊| 2239/2283 [08:18<00:10,  4.01it/s]\rGenerating embeddings:  98%|█████████▊| 2240/2283 [08:18<00:09,  4.51it/s]\rGenerating embeddings:  98%|█████████▊| 2241/2283 [08:18<00:08,  4.97it/s]\rGenerating embeddings:  98%|█████████▊| 2242/2283 [08:19<00:07,  5.23it/s]\rGenerating embeddings:  98%|█████████▊| 2243/2283 [08:19<00:09,  4.27it/s]\rGenerating embeddings:  98%|█████████▊| 2245/2283 [08:20<00:09,  3.98it/s]\rGenerating embeddings:  98%|█████████▊| 2246/2283 [08:20<00:08,  4.50it/s]\rGenerating embeddings:  98%|█████████▊| 2248/2283 [08:20<00:06,  5.73it/s]\rGenerating embeddings:  99%|█████████▊| 2250/2283 [08:20<00:06,  4.87it/s]\rGenerating embeddings:  99%|█████████▊| 2251/2283 [08:21<00:07,  4.03it/s]\rGenerating embeddings:  99%|█████████▊| 2252/2283 [08:21<00:06,  4.58it/s]\rGenerating embeddings:  99%|█████████▊| 2254/2283 [08:21<00:06,  4.82it/s]\rGenerating embeddings:  99%|█████████▉| 2255/2283 [08:22<00:06,  4.30it/s]\rGenerating embeddings:  99%|█████████▉| 2256/2283 [08:22<00:06,  4.01it/s]\rGenerating embeddings:  99%|█████████▉| 2258/2283 [08:22<00:05,  4.98it/s]\rGenerating embeddings:  99%|█████████▉| 2259/2283 [08:22<00:05,  4.71it/s]\rGenerating embeddings:  99%|█████████▉| 2260/2283 [08:23<00:05,  4.37it/s]\rGenerating embeddings:  99%|█████████▉| 2261/2283 [08:23<00:05,  4.26it/s]\rGenerating embeddings:  99%|█████████▉| 2262/2283 [08:23<00:04,  4.93it/s]\rGenerating embeddings:  99%|█████████▉| 2263/2283 [08:23<00:04,  4.07it/s]\rGenerating embeddings:  99%|█████████▉| 2264/2283 [08:24<00:04,  3.90it/s]\rGenerating embeddings:  99%|█████████▉| 2265/2283 [08:24<00:03,  4.69it/s]\rGenerating embeddings:  99%|█████████▉| 2267/2283 [08:24<00:04,  3.93it/s]\rGenerating embeddings:  99%|█████████▉| 2268/2283 [08:25<00:03,  4.29it/s]\rGenerating embeddings:  99%|█████████▉| 2269/2283 [08:25<00:02,  4.92it/s]\rGenerating embeddings:  99%|█████████▉| 2270/2283 [08:25<00:02,  5.43it/s]\rGenerating embeddings:  99%|█████████▉| 2271/2283 [08:25<00:03,  3.80it/s]\rGenerating embeddings: 100%|█████████▉| 2272/2283 [08:25<00:02,  4.35it/s]\rGenerating embeddings: 100%|█████████▉| 2273/2283 [08:26<00:03,  3.33it/s]\rGenerating embeddings: 100%|█████████▉| 2275/2283 [08:26<00:01,  4.27it/s]\rGenerating embeddings: 100%|█████████▉| 2277/2283 [08:27<00:01,  4.27it/s]\rGenerating embeddings: 100%|█████████▉| 2278/2283 [08:27<00:01,  4.22it/s]\rGenerating embeddings: 100%|█████████▉| 2279/2283 [08:27<00:00,  4.60it/s]\rGenerating embeddings: 100%|█████████▉| 2281/2283 [08:27<00:00,  6.46it/s]\rGenerating embeddings: 100%|█████████▉| 2282/2283 [08:27<00:00,  6.22it/s]\rGenerating embeddings: 100%|██████████| 2283/2283 [08:27<00:00,  4.49it/s]\n"
     ]
    },
    {
     "data": {
      "application/vnd.jupyter.widget-view+json": {
       "model_id": "87e37942ed0044a48660c43d727a155f",
       "version_major": 2,
       "version_minor": 0
      },
      "text/plain": [
       "Uploading /tmp/tmpw403zk_n/traces.json:   0%|          | 0.00/0.98G [00:00<?, ?iB/s]"
      ]
     },
     "metadata": {},
     "output_type": "display_data"
    },
    {
     "name": "stderr",
     "output_type": "stream",
     "text": [
      "huggingface/tokenizers: The current process just got forked, after parallelism has already been used. Disabling parallelism to avoid deadlocks...\n",
      "To disable this warning, you can either:\n",
      "\t- Avoid using `tokenizers` before the fork if possible\n",
      "\t- Explicitly set the environment variable TOKENIZERS_PARALLELISM=(true | false)\n"
     ]
    },
    {
     "data": {
      "application/databricks.mlflow.trace": "[\"tr-f039f4661a874642882c558d1bf4e3f0\", \"tr-56c95c90972f43f1b1a90f24849f7377\", \"tr-a155cb824a50430e8887c3ca8f3c61e3\", \"tr-5390465d97224f788eae75dbdf200e73\", \"tr-6a41b583fb6d4009a6f6469d5558b784\", \"tr-39925350c7d149b1b376094ed8df0cb9\", \"tr-4f19c0df30c847a78898ce611deb7123\", \"tr-1b0aca962cd24d948db0656b4d739a8d\", \"tr-48b976e88906450893556600a930593f\", \"tr-9b03c6564fb54b5a99b9ffabcdc0ee2a\"]",
      "text/plain": [
       "[Trace(request_id=tr-f039f4661a874642882c558d1bf4e3f0), Trace(request_id=tr-56c95c90972f43f1b1a90f24849f7377), Trace(request_id=tr-a155cb824a50430e8887c3ca8f3c61e3), Trace(request_id=tr-5390465d97224f788eae75dbdf200e73), Trace(request_id=tr-6a41b583fb6d4009a6f6469d5558b784), Trace(request_id=tr-39925350c7d149b1b376094ed8df0cb9), Trace(request_id=tr-4f19c0df30c847a78898ce611deb7123), Trace(request_id=tr-1b0aca962cd24d948db0656b4d739a8d), Trace(request_id=tr-48b976e88906450893556600a930593f), Trace(request_id=tr-9b03c6564fb54b5a99b9ffabcdc0ee2a)]"
      ]
     },
     "metadata": {},
     "output_type": "display_data"
    }
   ],
   "source": [
    "from main import create_graph_index\n",
    "save_idx_path = os.path.join(os.getcwd(), \"outputs/palantir_8k_10k_graph\")\n",
    "save_kg_path = os.path.join(os.getcwd(), \"outputs/8k_10k_kg.html\")\n",
    "\n",
    "index = create_graph_index(docs_dir= \"data\",\n",
    "                           # num_nodes = 1,\n",
    "                           save_index = True,\n",
    "                           save_kg = True,\n",
    "                           index_path = save_idx_path,\n",
    "                           kg_path = save_kg_path\n",
    "                        )\n",
    "# index.property_graph_store.build_communities()"
   ]
  },
  {
   "cell_type": "code",
   "execution_count": 0,
   "metadata": {
    "application/vnd.databricks.v1+cell": {
     "cellMetadata": {
      "byteLimit": 2048000,
      "rowLimit": 10000
     },
     "inputWidgets": {},
     "nuid": "f96a8259-8b9e-44c4-8766-1a8f1408b93e",
     "showTitle": false,
     "tableResultSettingsMap": {},
     "title": ""
    }
   },
   "outputs": [
    {
     "data": {
      "text/html": [
       "<div>\n",
       "<style scoped>\n",
       "    .dataframe tbody tr th:only-of-type {\n",
       "        vertical-align: middle;\n",
       "    }\n",
       "\n",
       "    .dataframe tbody tr th {\n",
       "        vertical-align: top;\n",
       "    }\n",
       "\n",
       "    .dataframe thead th {\n",
       "        text-align: right;\n",
       "    }\n",
       "</style>\n",
       "<table border=\"1\" class=\"dataframe\">\n",
       "  <thead>\n",
       "    <tr style=\"text-align: right;\">\n",
       "      <th></th>\n",
       "      <th>subject</th>\n",
       "      <th>predicate</th>\n",
       "      <th>object</th>\n",
       "      <th>filename</th>\n",
       "      <th>company</th>\n",
       "      <th>document_type</th>\n",
       "      <th>timestamp</th>\n",
       "      <th>period</th>\n",
       "      <th>relationship_description</th>\n",
       "    </tr>\n",
       "  </thead>\n",
       "  <tbody>\n",
       "    <tr>\n",
       "      <th>0</th>\n",
       "      <td>Palantir Technologies Inc.</td>\n",
       "      <td>Issues</td>\n",
       "      <td>Class A Common Stock</td>\n",
       "      <td>2024 FY.pdf</td>\n",
       "      <td>Palantir Technologies</td>\n",
       "      <td>10K report</td>\n",
       "      <td>2024</td>\n",
       "      <td>Yearly</td>\n",
       "      <td>Palantir Technologies Inc. issues Class A Comm...</td>\n",
       "    </tr>\n",
       "    <tr>\n",
       "      <th>1</th>\n",
       "      <td>Class A Common Stock</td>\n",
       "      <td>Traded under symbol</td>\n",
       "      <td>PLTR</td>\n",
       "      <td>2024 FY.pdf</td>\n",
       "      <td>Palantir Technologies</td>\n",
       "      <td>10K report</td>\n",
       "      <td>2024</td>\n",
       "      <td>Yearly</td>\n",
       "      <td>Palantir's Class A Common Stock is traded unde...</td>\n",
       "    </tr>\n",
       "    <tr>\n",
       "      <th>2</th>\n",
       "      <td>PLTR</td>\n",
       "      <td>Listed on</td>\n",
       "      <td>The Nasdaq Stock Market LLC</td>\n",
       "      <td>2024 FY.pdf</td>\n",
       "      <td>Palantir Technologies</td>\n",
       "      <td>10K report</td>\n",
       "      <td>2024</td>\n",
       "      <td>Yearly</td>\n",
       "      <td>The PLTR ticker is listed on The Nasdaq Stock ...</td>\n",
       "    </tr>\n",
       "    <tr>\n",
       "      <th>3</th>\n",
       "      <td>Palantir Technologies Inc.</td>\n",
       "      <td>Files</td>\n",
       "      <td>10K report</td>\n",
       "      <td>2024 FY.pdf</td>\n",
       "      <td>Palantir Technologies</td>\n",
       "      <td>10K report</td>\n",
       "      <td>2024</td>\n",
       "      <td>Yearly</td>\n",
       "      <td>Palantir Technologies Inc. files an annual 10K...</td>\n",
       "    </tr>\n",
       "    <tr>\n",
       "      <th>4</th>\n",
       "      <td>10K report</td>\n",
       "      <td>Submitted to</td>\n",
       "      <td>United States Securities and Exchange Commission</td>\n",
       "      <td>2024 FY.pdf</td>\n",
       "      <td>Palantir Technologies</td>\n",
       "      <td>10K report</td>\n",
       "      <td>2024</td>\n",
       "      <td>Yearly</td>\n",
       "      <td>The 10K report is submitted to the SEC as requ...</td>\n",
       "    </tr>\n",
       "    <tr>\n",
       "      <th>...</th>\n",
       "      <td>...</td>\n",
       "      <td>...</td>\n",
       "      <td>...</td>\n",
       "      <td>...</td>\n",
       "      <td>...</td>\n",
       "      <td>...</td>\n",
       "      <td>...</td>\n",
       "      <td>...</td>\n",
       "      <td>...</td>\n",
       "    </tr>\n",
       "    <tr>\n",
       "      <th>4994</th>\n",
       "      <td>Twelfth Amendment</td>\n",
       "      <td>Amends</td>\n",
       "      <td>Credit Agreement</td>\n",
       "      <td>31_03_2022.pdf</td>\n",
       "      <td>Palantir Technologies</td>\n",
       "      <td>8K report</td>\n",
       "      <td>31-03-2022</td>\n",
       "      <td></td>\n",
       "      <td>The Twelfth Amendment modifies the terms of th...</td>\n",
       "    </tr>\n",
       "    <tr>\n",
       "      <th>4995</th>\n",
       "      <td>Exhibit 10.1</td>\n",
       "      <td>Contains</td>\n",
       "      <td>Twelfth Amendment</td>\n",
       "      <td>31_03_2022.pdf</td>\n",
       "      <td>Palantir Technologies</td>\n",
       "      <td>8K report</td>\n",
       "      <td>31-03-2022</td>\n",
       "      <td></td>\n",
       "      <td>Exhibit 10.1 includes the full text of the Twe...</td>\n",
       "    </tr>\n",
       "    <tr>\n",
       "      <th>4996</th>\n",
       "      <td>Palantir Technologies</td>\n",
       "      <td>No Outstanding Debt</td>\n",
       "      <td>Outstanding Amounts</td>\n",
       "      <td>31_03_2022.pdf</td>\n",
       "      <td>Palantir Technologies</td>\n",
       "      <td>8K report</td>\n",
       "      <td>31-03-2022</td>\n",
       "      <td></td>\n",
       "      <td>As of the report date, Palantir Technologies h...</td>\n",
       "    </tr>\n",
       "    <tr>\n",
       "      <th>4997</th>\n",
       "      <td>Alexander C. Karp</td>\n",
       "      <td>Executive Officer</td>\n",
       "      <td>Palantir Technologies</td>\n",
       "      <td>31_03_2022.pdf</td>\n",
       "      <td>Palantir Technologies</td>\n",
       "      <td>8K report</td>\n",
       "      <td>31-03-2022</td>\n",
       "      <td></td>\n",
       "      <td>Alexander C. Karp is the Chief Executive Offic...</td>\n",
       "    </tr>\n",
       "    <tr>\n",
       "      <th>4998</th>\n",
       "      <td>Morgan Stanley Senior Funding, Inc.</td>\n",
       "      <td>Administrative Agent</td>\n",
       "      <td>Credit Agreement</td>\n",
       "      <td>31_03_2022.pdf</td>\n",
       "      <td>Palantir Technologies</td>\n",
       "      <td>8K report</td>\n",
       "      <td>31-03-2022</td>\n",
       "      <td></td>\n",
       "      <td>Morgan Stanley Senior Funding, Inc. acts as th...</td>\n",
       "    </tr>\n",
       "  </tbody>\n",
       "</table>\n",
       "<p>4999 rows × 9 columns</p>\n",
       "</div>"
      ],
      "text/plain": [
       "                                  subject  ...                           relationship_description\n",
       "0              Palantir Technologies Inc.  ...  Palantir Technologies Inc. issues Class A Comm...\n",
       "1                    Class A Common Stock  ...  Palantir's Class A Common Stock is traded unde...\n",
       "2                                    PLTR  ...  The PLTR ticker is listed on The Nasdaq Stock ...\n",
       "3              Palantir Technologies Inc.  ...  Palantir Technologies Inc. files an annual 10K...\n",
       "4                              10K report  ...  The 10K report is submitted to the SEC as requ...\n",
       "...                                   ...  ...                                                ...\n",
       "4994                    Twelfth Amendment  ...  The Twelfth Amendment modifies the terms of th...\n",
       "4995                         Exhibit 10.1  ...  Exhibit 10.1 includes the full text of the Twe...\n",
       "4996                Palantir Technologies  ...  As of the report date, Palantir Technologies h...\n",
       "4997                    Alexander C. Karp  ...  Alexander C. Karp is the Chief Executive Offic...\n",
       "4998  Morgan Stanley Senior Funding, Inc.  ...  Morgan Stanley Senior Funding, Inc. acts as th...\n",
       "\n",
       "[4999 rows x 9 columns]"
      ]
     },
     "execution_count": 5,
     "metadata": {},
     "output_type": "execute_result"
    }
   ],
   "source": [
    "from src.helper_functions import kg_relations_to_df\n",
    "kg_relations_to_df(index, save_as_csv = True, filename = \"outputs/8k_10k_kg_relations.csv\")"
   ]
  },
  {
   "cell_type": "markdown",
   "metadata": {},
   "source": [
    "### Example Use case"
   ]
  },
  {
   "cell_type": "code",
   "execution_count": 0,
   "metadata": {
    "application/vnd.databricks.v1+cell": {
     "cellMetadata": {
      "byteLimit": 2048000,
      "rowLimit": 10000
     },
     "inputWidgets": {},
     "nuid": "1bf9463c-6e76-4514-b49f-d63cebd389c5",
     "showTitle": false,
     "tableResultSettingsMap": {},
     "title": ""
    }
   },
   "outputs": [
    {
     "data": {
      "text/plain": [
       "[NodeWithScore(node=TextNode(id_='10940b15-1320-4346-9b28-5c4229112bb8', embedding=None, metadata={'company': 'Palantir Technologies', 'document_type': 'Financial report', 'year': '2022', 'period': 'FY'}, excluded_embed_metadata_keys=[], excluded_llm_metadata_keys=[], relationships={<NodeRelationship.SOURCE: '1'>: RelatedNodeInfo(node_id='2022 FY', node_type='4', metadata={'company': 'Palantir Technologies', 'document_type': 'Financial report', 'year': '2022', 'period': 'FY'}, hash='0df669ed3f4792903f9dd2eec2a8d3218fcc6b2b19f26987e255d6f686545d74'), <NodeRelationship.PREVIOUS: '2'>: RelatedNodeInfo(node_id='aa5da375-da1d-4ec6-b91f-c8b8e803366b', node_type='1', metadata={'company': 'Palantir Technologies', 'document_type': 'Financial report', 'year': '2022', 'period': 'FY'}, hash='aaea765350213aaa14cd7a06c06d7c9a15547f29661bb43621b79e098caa6bcc'), <NodeRelationship.NEXT: '3'>: RelatedNodeInfo(node_id='20ee1a95-4dd0-4bec-b521-ad203cb0594c', node_type='1', metadata={}, hash='f5564e6c8ac2af616a75b19b0dfdcecd54133fde1f062a2245ace2ae104462d0')}, metadata_template='{key}: {value}', metadata_separator='\\n', text=\"Here are some facts extracted from the provided text:\\n\\n$1.9 billion Revenue (2022) -> Government Segment -> 56% Attributed to\\n\\nEach platform is comprised of user-facing applications that are targeted to the specific industries and sectors in which they are used.\\n\\nDespite  their  differences,  Gotham  and  Foundry  both  serve  as  central  operating  systems  for  our  customers. Where  they  vary  in  specific  functionality,  they  align  in approach. Both platforms, backed by Apollo, can be deployed in almost any environment.\\n\\nSimilarly, customers can now use Apollo to enable continuous deployment, configuration management, and central software operations management across almost any environment for their own software products.\\n\\n## Gotham\\n\\nGotham  enables  users  to  identify  patterns  hidden  deep  within  datasets,  ranging  from  signals  intelligence  sources  to  reports  from  confidential  informants.  It  also facilitates the hand-off between analysts and operational users, helping operators plan and execute real-world responses to threats that have been identified within the platform. Gotham is now used broadly across government functions.\\n\\nWe also offer Gotham to our commercial customers, including to those in the financial services industry in connection with fraud investigations.\\n\\n## Foundry\\n\\nFoundry transforms the ways organizations operate by creating a central operating system for their data. Individual users can integrate and analyze the data they need in one place. The speed with which users can experiment and test new ideas is what makes the software stick.\\n\\nData projects often fail because the steps and methods used to build data pipelines are difficult to understand and recreate. We built Foundry's backend to solve the root of this problem. The platform's graphical interface does the rest, allowing users to track and trace their pipelines so they know what the rows and columns in their tables represent and why they are there. All of our commercial customers now use it, as do several of our government customers.\\n\\n## Apollo\\n\\nWe have always prioritized meeting our customers wherever they need us most. We originally built Apollo to enable the continuous delivery of our software wherever our customers are: in the cloud, on-premises, or even more rugged environments. Today, Apollo enables the rapid, secure delivery of our software and updates across our business.\\n\\nIn 2021, we began offering Apollo as a commercial solution to allow our customers to securely deploy their own software in virtually any environment. Apollo provides a single control layer to coordinate ongoing delivery of new features, security updates, and platform configurations.\\n\\n## Our Customers\\n\\nWe work with many of the world's leading government and commercial institutions. As of December 31, 2022, we had 367 customers.\\n\\nAn overview of those customers and the ways in which they use our software follows below.\\n\\n## Table of Contents\\n\\n## Overview\\n\\nOur software is currently used across more than 60 industries around the world.\\n\\nOf the $1.9 billion in revenue that we generated in 2022, 56% came from customers in the government segment, and 44% came from customers in the commercial segment.\\n\\nOur business continues to have a global presence. In 2022, we earned 61% of our revenue from customers in the United States, and 39% from those abroad.\\n\\nThe average revenue for our top twenty customers during the trailing twelve months ended December 31, 2022 was $49.4 million, and is up from 2021, when the average revenue from our top 20 customers during the trailing twelve months ended December 31, 2021 was $43.6 million, demonstrating our expanding relationships with existing customers.\\n\\n## Our Software at Work\\n\\nOur software is in the hands of factory workers, soldiers, clinicians, prosecutors, investigators, claims adjusters, technicians, intelligence analysts, and social workers around  the  world.  It  is  used  in  a  variety  of  applications  including  by  utility  operations  analysts,  automotive  manufacturing  workers,  oil  and  gas  technicians  and operators, and pharmaceutical researchers in the United States; supply-chain managers in South Korea; assembly workers in France; public health administrators in the United Kingdom and the United States; and special forces personnel and military officials in the United States and abroad.\\n\\n## Industries and Sectors\\n\\nIn addition to supporting individual institutions, our platforms have become central operating systems for entire industries and sectors.\\n\\nOur work with Airbus S.A.S. ('Airbus'), for example, was initially focused on the production of the A350 aircraft. The deployment of our software soon grew into Skywise, our aviation platform that has become the central operating system of the airline industry.\\n\\nSkywise connects more than 10,000 aircraft across a growing community of airlines, maintenance and repair organizations, authorities, and Airbus. Decision makers at each of these institutions use Skywise to more efficiently design, manufacture, service, operate, and maintain their global fleets.\", mimetype='text/plain', start_char_idx=19049, end_char_idx=24044, metadata_seperator='\\n', text_template='{metadata_str}\\n\\n{content}'), score=0.8237512832146352)]"
      ]
     },
     "execution_count": 30,
     "metadata": {},
     "output_type": "execute_result"
    },
    {
     "data": {
      "application/databricks.mlflow.trace": "[\"tr-e719d79487a5415aa31a3d3c3c5d3706\", \"tr-5396ada6523e4d89a5a6fdeb68540ea5\"]",
      "text/plain": [
       "[Trace(request_id=tr-e719d79487a5415aa31a3d3c3c5d3706), Trace(request_id=tr-5396ada6523e4d89a5a6fdeb68540ea5)]"
      ]
     },
     "metadata": {},
     "output_type": "display_data"
    }
   ],
   "source": [
    "query_str = \"What was Palantir's revenue in 2022?\"\n",
    "\n",
    "nodes = index.as_retriever(\n",
    "            similarity_top_k= 8\n",
    "        ).retrieve(query_str)\n",
    "nodes"
   ]
  },
  {
   "cell_type": "markdown",
   "metadata": {
    "application/vnd.databricks.v1+cell": {
     "cellMetadata": {
      "byteLimit": 2048000,
      "rowLimit": 10000
     },
     "inputWidgets": {},
     "nuid": "fdb92c23-e494-4e76-b93a-9762323a946a",
     "showTitle": false,
     "tableResultSettingsMap": {},
     "title": ""
    }
   },
   "source": [
    "### ✅ TODO List\n",
    "\n",
    "--- \n",
    "\n",
    "#### 📦 N-tuple Abstraction\n",
    "- Define a flexible `n`-tuple data structure for representing knowledge graph entities and relationships \n",
    "- Extend to support:\n",
    "  - Higher-order relationships (e.g., quads or n-tuples).\n",
    "  - Temporal and contextual metadata.\n",
    "- Provide transformation utilities between `n`-tuples and NetworkX / Neo4j graph formats.\n",
    "\n",
    "---\n",
    "\n",
    "#### 🔍 Add `DynamicPathExtractor`\n",
    "- Create a module/class to extract dynamic paths or relationships\n",
    "- Focus on amendmends and relations of 8k's to 10k's\n",
    "- Add to existing GraphRAGExtractor  \n",
    "\n",
    "---\n",
    " \n"
   ]
  }
 ],
 "metadata": {
  "application/vnd.databricks.v1+notebook": {
   "computePreferences": null,
   "dashboards": [],
   "environmentMetadata": null,
   "inputWidgetPreferences": null,
   "language": "python",
   "notebookMetadata": {
    "pythonIndentUnit": 4
   },
   "notebookName": "full_pipeline",
   "widgets": {}
  },
  "kernelspec": {
   "display_name": "Python 3",
   "language": "python",
   "name": "python3"
  },
  "language_info": {
   "name": "python"
  }
 },
 "nbformat": 4,
 "nbformat_minor": 0
}
