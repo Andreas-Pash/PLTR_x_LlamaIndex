{
 "cells": [
  {
   "cell_type": "code",
   "execution_count": 0,
   "metadata": {
    "application/vnd.databricks.v1+cell": {
     "cellMetadata": {
      "byteLimit": 2048000,
      "rowLimit": 10000
     },
     "inputWidgets": {},
     "nuid": "17e1bcda-21f2-4d37-80c7-2b0401525a78",
     "showTitle": false,
     "tableResultSettingsMap": {},
     "title": ""
    }
   },
   "outputs": [],
   "source": [
    "%load_ext autoreload\n",
    "%autoreload 2\n",
    "# Enables autoreload; learn more at https://docs.databricks.com/en/files/workspace-modules.html#autoreload-for-python-modules\n",
    "# To disable autoreload; run %autoreload 0"
   ]
  },
  {
   "cell_type": "code",
   "execution_count": 0,
   "metadata": {
    "application/vnd.databricks.v1+cell": {
     "cellMetadata": {
      "byteLimit": 2048000,
      "rowLimit": 10000
     },
     "inputWidgets": {},
     "nuid": "edbf8386-571c-48a9-b08c-549918e9d5b3",
     "showTitle": true,
     "tableResultSettingsMap": {},
     "title": "Install dependancies"
    }
   },
   "outputs": [],
   "source": [
    "!pip install -r requirements.txt\n",
    "dbutils.library.restartPython()"
   ]
  },
  {
   "cell_type": "code",
   "execution_count": 0,
   "metadata": {
    "application/vnd.databricks.v1+cell": {
     "cellMetadata": {
      "byteLimit": 2048000,
      "rowLimit": 10000
     },
     "inputWidgets": {},
     "nuid": "f538c1f3-59f0-4653-848f-1b29cd859535",
     "showTitle": true,
     "tableResultSettingsMap": {},
     "title": "Import modules"
    }
   },
   "outputs": [
    {
     "name": "stderr",
     "output_type": "stream",
     "text": [
      "2025-06-26 22:33:16.994407: E external/local_xla/xla/stream_executor/cuda/cuda_fft.cc:477] Unable to register cuFFT factory: Attempting to register factory for plugin cuFFT when one has already been registered\n",
      "WARNING: All log messages before absl::InitializeLog() is called are written to STDERR\n",
      "E0000 00:00:1750977197.013531    1784 cuda_dnn.cc:8310] Unable to register cuDNN factory: Attempting to register factory for plugin cuDNN when one has already been registered\n",
      "E0000 00:00:1750977197.019859    1784 cuda_blas.cc:1418] Unable to register cuBLAS factory: Attempting to register factory for plugin cuBLAS when one has already been registered\n",
      "2025-06-26 22:33:17.040775: I tensorflow/core/platform/cpu_feature_guard.cc:210] This TensorFlow binary is optimized to use available CPU instructions in performance-critical operations.\n",
      "To enable the following instructions: AVX2 FMA, in other operations, rebuild TensorFlow with the appropriate compiler flags.\n"
     ]
    }
   ],
   "source": [
    "from constants import * \n",
    "import networkx as nx\n",
    "import pyvis\n",
    "\n",
    "from src.helper_functions import *\n",
    "from src.llama_index_graph_rag_extractor import GraphRAGExtractor\n",
    "from src.graph_rag_store import GraphRAGStore"
   ]
  },
  {
   "cell_type": "code",
   "execution_count": 0,
   "metadata": {
    "application/vnd.databricks.v1+cell": {
     "cellMetadata": {
      "byteLimit": 2048000,
      "rowLimit": 10000
     },
     "inputWidgets": {},
     "nuid": "e4829773-1254-4139-a5cf-847142a2dbae",
     "showTitle": true,
     "tableResultSettingsMap": {},
     "title": "Configuring OpenAI params"
    }
   },
   "outputs": [],
   "source": [
    "# Manage environment variables required to attach LLM service in this context\n",
    "exec(open('azure_envars.py').read())"
   ]
  },
  {
   "cell_type": "code",
   "execution_count": 0,
   "metadata": {
    "application/vnd.databricks.v1+cell": {
     "cellMetadata": {
      "byteLimit": 2048000,
      "rowLimit": 10000
     },
     "inputWidgets": {},
     "nuid": "a123906d-4d1e-4a44-b1f7-923db4c19f7f",
     "showTitle": true,
     "tableResultSettingsMap": {},
     "title": "Load and chunk parsed data"
    }
   },
   "outputs": [],
   "source": [
    "from main import create_graph_index\n",
    "save_idx_path = os.path.join(os.getcwd(), \"outputs/palantir_8k_10k_graph\")\n",
    "save_kg_path = os.path.join(os.getcwd(), \"outputs/8k_10k_kg.html\")\n",
    "\n",
    "index = create_graph_index(docs_dir= \"data\",\n",
    "                           # num_nodes = 1,\n",
    "                           save_index = True,\n",
    "                           save_kg = False,\n",
    "                           index_path = save_idx_path,\n",
    "                           kg_path = save_kg_path\n",
    "                        )\n",
    "# index.property_graph_store.build_communities()"
   ]
  },
  {
   "cell_type": "code",
   "execution_count": 0,
   "metadata": {
    "application/vnd.databricks.v1+cell": {
     "cellMetadata": {
      "byteLimit": 2048000,
      "rowLimit": 10000
     },
     "inputWidgets": {},
     "nuid": "f96a8259-8b9e-44c4-8766-1a8f1408b93e",
     "showTitle": false,
     "tableResultSettingsMap": {},
     "title": ""
    }
   },
   "outputs": [
    {
     "data": {
      "text/html": [
       "<div>\n",
       "<style scoped>\n",
       "    .dataframe tbody tr th:only-of-type {\n",
       "        vertical-align: middle;\n",
       "    }\n",
       "\n",
       "    .dataframe tbody tr th {\n",
       "        vertical-align: top;\n",
       "    }\n",
       "\n",
       "    .dataframe thead th {\n",
       "        text-align: right;\n",
       "    }\n",
       "</style>\n",
       "<table border=\"1\" class=\"dataframe\">\n",
       "  <thead>\n",
       "    <tr style=\"text-align: right;\">\n",
       "      <th></th>\n",
       "      <th>subject</th>\n",
       "      <th>predicate</th>\n",
       "      <th>object</th>\n",
       "      <th>filename</th>\n",
       "      <th>company</th>\n",
       "      <th>document_type</th>\n",
       "      <th>timestamp</th>\n",
       "      <th>period</th>\n",
       "      <th>relationship_description</th>\n",
       "    </tr>\n",
       "  </thead>\n",
       "  <tbody>\n",
       "    <tr>\n",
       "      <th>0</th>\n",
       "      <td>Palantir Technologies Inc.</td>\n",
       "      <td>Issues</td>\n",
       "      <td>Class A Common Stock</td>\n",
       "      <td>2024 FY.pdf</td>\n",
       "      <td>Palantir Technologies</td>\n",
       "      <td>10K report</td>\n",
       "      <td>2024</td>\n",
       "      <td>Yearly</td>\n",
       "      <td>Palantir Technologies Inc. issues Class A Comm...</td>\n",
       "    </tr>\n",
       "    <tr>\n",
       "      <th>1</th>\n",
       "      <td>Class A Common Stock</td>\n",
       "      <td>Traded under symbol</td>\n",
       "      <td>PLTR</td>\n",
       "      <td>2024 FY.pdf</td>\n",
       "      <td>Palantir Technologies</td>\n",
       "      <td>10K report</td>\n",
       "      <td>2024</td>\n",
       "      <td>Yearly</td>\n",
       "      <td>Palantir's Class A Common Stock is traded unde...</td>\n",
       "    </tr>\n",
       "    <tr>\n",
       "      <th>2</th>\n",
       "      <td>PLTR</td>\n",
       "      <td>Listed on</td>\n",
       "      <td>The Nasdaq Stock Market LLC</td>\n",
       "      <td>2024 FY.pdf</td>\n",
       "      <td>Palantir Technologies</td>\n",
       "      <td>10K report</td>\n",
       "      <td>2024</td>\n",
       "      <td>Yearly</td>\n",
       "      <td>The PLTR ticker is listed on The Nasdaq Stock ...</td>\n",
       "    </tr>\n",
       "    <tr>\n",
       "      <th>3</th>\n",
       "      <td>Palantir Technologies Inc.</td>\n",
       "      <td>Files</td>\n",
       "      <td>10K report</td>\n",
       "      <td>2024 FY.pdf</td>\n",
       "      <td>Palantir Technologies</td>\n",
       "      <td>10K report</td>\n",
       "      <td>2024</td>\n",
       "      <td>Yearly</td>\n",
       "      <td>Palantir Technologies Inc. files an annual 10K...</td>\n",
       "    </tr>\n",
       "    <tr>\n",
       "      <th>4</th>\n",
       "      <td>10K report</td>\n",
       "      <td>Submitted to</td>\n",
       "      <td>United States Securities and Exchange Commission</td>\n",
       "      <td>2024 FY.pdf</td>\n",
       "      <td>Palantir Technologies</td>\n",
       "      <td>10K report</td>\n",
       "      <td>2024</td>\n",
       "      <td>Yearly</td>\n",
       "      <td>The 10K report is submitted to the SEC as requ...</td>\n",
       "    </tr>\n",
       "    <tr>\n",
       "      <th>...</th>\n",
       "      <td>...</td>\n",
       "      <td>...</td>\n",
       "      <td>...</td>\n",
       "      <td>...</td>\n",
       "      <td>...</td>\n",
       "      <td>...</td>\n",
       "      <td>...</td>\n",
       "      <td>...</td>\n",
       "      <td>...</td>\n",
       "    </tr>\n",
       "    <tr>\n",
       "      <th>4994</th>\n",
       "      <td>Twelfth Amendment</td>\n",
       "      <td>Amends</td>\n",
       "      <td>Credit Agreement</td>\n",
       "      <td>31_03_2022.pdf</td>\n",
       "      <td>Palantir Technologies</td>\n",
       "      <td>8K report</td>\n",
       "      <td>31-03-2022</td>\n",
       "      <td></td>\n",
       "      <td>The Twelfth Amendment modifies the terms of th...</td>\n",
       "    </tr>\n",
       "    <tr>\n",
       "      <th>4995</th>\n",
       "      <td>Exhibit 10.1</td>\n",
       "      <td>Contains</td>\n",
       "      <td>Twelfth Amendment</td>\n",
       "      <td>31_03_2022.pdf</td>\n",
       "      <td>Palantir Technologies</td>\n",
       "      <td>8K report</td>\n",
       "      <td>31-03-2022</td>\n",
       "      <td></td>\n",
       "      <td>Exhibit 10.1 includes the full text of the Twe...</td>\n",
       "    </tr>\n",
       "    <tr>\n",
       "      <th>4996</th>\n",
       "      <td>Palantir Technologies</td>\n",
       "      <td>No Outstanding Debt</td>\n",
       "      <td>Outstanding Amounts</td>\n",
       "      <td>31_03_2022.pdf</td>\n",
       "      <td>Palantir Technologies</td>\n",
       "      <td>8K report</td>\n",
       "      <td>31-03-2022</td>\n",
       "      <td></td>\n",
       "      <td>As of the report date, Palantir Technologies h...</td>\n",
       "    </tr>\n",
       "    <tr>\n",
       "      <th>4997</th>\n",
       "      <td>Alexander C. Karp</td>\n",
       "      <td>Executive Officer</td>\n",
       "      <td>Palantir Technologies</td>\n",
       "      <td>31_03_2022.pdf</td>\n",
       "      <td>Palantir Technologies</td>\n",
       "      <td>8K report</td>\n",
       "      <td>31-03-2022</td>\n",
       "      <td></td>\n",
       "      <td>Alexander C. Karp is the Chief Executive Offic...</td>\n",
       "    </tr>\n",
       "    <tr>\n",
       "      <th>4998</th>\n",
       "      <td>Morgan Stanley Senior Funding, Inc.</td>\n",
       "      <td>Administrative Agent</td>\n",
       "      <td>Credit Agreement</td>\n",
       "      <td>31_03_2022.pdf</td>\n",
       "      <td>Palantir Technologies</td>\n",
       "      <td>8K report</td>\n",
       "      <td>31-03-2022</td>\n",
       "      <td></td>\n",
       "      <td>Morgan Stanley Senior Funding, Inc. acts as th...</td>\n",
       "    </tr>\n",
       "  </tbody>\n",
       "</table>\n",
       "<p>4999 rows × 9 columns</p>\n",
       "</div>"
      ],
      "text/plain": [
       "                                  subject  ...                           relationship_description\n",
       "0              Palantir Technologies Inc.  ...  Palantir Technologies Inc. issues Class A Comm...\n",
       "1                    Class A Common Stock  ...  Palantir's Class A Common Stock is traded unde...\n",
       "2                                    PLTR  ...  The PLTR ticker is listed on The Nasdaq Stock ...\n",
       "3              Palantir Technologies Inc.  ...  Palantir Technologies Inc. files an annual 10K...\n",
       "4                              10K report  ...  The 10K report is submitted to the SEC as requ...\n",
       "...                                   ...  ...                                                ...\n",
       "4994                    Twelfth Amendment  ...  The Twelfth Amendment modifies the terms of th...\n",
       "4995                         Exhibit 10.1  ...  Exhibit 10.1 includes the full text of the Twe...\n",
       "4996                Palantir Technologies  ...  As of the report date, Palantir Technologies h...\n",
       "4997                    Alexander C. Karp  ...  Alexander C. Karp is the Chief Executive Offic...\n",
       "4998  Morgan Stanley Senior Funding, Inc.  ...  Morgan Stanley Senior Funding, Inc. acts as th...\n",
       "\n",
       "[4999 rows x 9 columns]"
      ]
     },
     "execution_count": 5,
     "metadata": {},
     "output_type": "execute_result"
    }
   ],
   "source": [
    "from src.helper_functions import kg_relations_to_df\n",
    "kg_relations_to_df(index, save_as_csv = True, filename = \"outputs/8k_10k_kg_relations.csv\")"
   ]
  },
  {
   "cell_type": "markdown",
   "metadata": {},
   "source": [
    "### Example Use case"
   ]
  },
  {
   "cell_type": "code",
   "execution_count": 0,
   "metadata": {
    "application/vnd.databricks.v1+cell": {
     "cellMetadata": {
      "byteLimit": 2048000,
      "rowLimit": 10000
     },
     "inputWidgets": {},
     "nuid": "1bf9463c-6e76-4514-b49f-d63cebd389c5",
     "showTitle": false,
     "tableResultSettingsMap": {},
     "title": ""
    }
   },
   "outputs": [
    {
     "data": {
      "text/plain": [
       "[NodeWithScore(node=TextNode(id_='10940b15-1320-4346-9b28-5c4229112bb8', embedding=None, metadata={'company': 'Palantir Technologies', 'document_type': 'Financial report', 'year': '2022', 'period': 'FY'}, excluded_embed_metadata_keys=[], excluded_llm_metadata_keys=[], relationships={<NodeRelationship.SOURCE: '1'>: RelatedNodeInfo(node_id='2022 FY', node_type='4', metadata={'company': 'Palantir Technologies', 'document_type': 'Financial report', 'year': '2022', 'period': 'FY'}, hash='0df669ed3f4792903f9dd2eec2a8d3218fcc6b2b19f26987e255d6f686545d74'), <NodeRelationship.PREVIOUS: '2'>: RelatedNodeInfo(node_id='aa5da375-da1d-4ec6-b91f-c8b8e803366b', node_type='1', metadata={'company': 'Palantir Technologies', 'document_type': 'Financial report', 'year': '2022', 'period': 'FY'}, hash='aaea765350213aaa14cd7a06c06d7c9a15547f29661bb43621b79e098caa6bcc'), <NodeRelationship.NEXT: '3'>: RelatedNodeInfo(node_id='20ee1a95-4dd0-4bec-b521-ad203cb0594c', node_type='1', metadata={}, hash='f5564e6c8ac2af616a75b19b0dfdcecd54133fde1f062a2245ace2ae104462d0')}, metadata_template='{key}: {value}', metadata_separator='\\n', text=\"Here are some facts extracted from the provided text:\\n\\n$1.9 billion Revenue (2022) -> Government Segment -> 56% Attributed to\\n\\nEach platform is comprised of user-facing applications that are targeted to the specific industries and sectors in which they are used.\\n\\nDespite  their  differences,  Gotham  and  Foundry  both  serve  as  central  operating  systems  for  our  customers. Where  they  vary  in  specific  functionality,  they  align  in approach. Both platforms, backed by Apollo, can be deployed in almost any environment.\\n\\nSimilarly, customers can now use Apollo to enable continuous deployment, configuration management, and central software operations management across almost any environment for their own software products.\\n\\n## Gotham\\n\\nGotham  enables  users  to  identify  patterns  hidden  deep  within  datasets,  ranging  from  signals  intelligence  sources  to  reports  from  confidential  informants.  It  also facilitates the hand-off between analysts and operational users, helping operators plan and execute real-world responses to threats that have been identified within the platform. Gotham is now used broadly across government functions.\\n\\nWe also offer Gotham to our commercial customers, including to those in the financial services industry in connection with fraud investigations.\\n\\n## Foundry\\n\\nFoundry transforms the ways organizations operate by creating a central operating system for their data. Individual users can integrate and analyze the data they need in one place. The speed with which users can experiment and test new ideas is what makes the software stick.\\n\\nData projects often fail because the steps and methods used to build data pipelines are difficult to understand and recreate. We built Foundry's backend to solve the root of this problem. The platform's graphical interface does the rest, allowing users to track and trace their pipelines so they know what the rows and columns in their tables represent and why they are there. All of our commercial customers now use it, as do several of our government customers.\\n\\n## Apollo\\n\\nWe have always prioritized meeting our customers wherever they need us most. We originally built Apollo to enable the continuous delivery of our software wherever our customers are: in the cloud, on-premises, or even more rugged environments. Today, Apollo enables the rapid, secure delivery of our software and updates across our business.\\n\\nIn 2021, we began offering Apollo as a commercial solution to allow our customers to securely deploy their own software in virtually any environment. Apollo provides a single control layer to coordinate ongoing delivery of new features, security updates, and platform configurations.\\n\\n## Our Customers\\n\\nWe work with many of the world's leading government and commercial institutions. As of December 31, 2022, we had 367 customers.\\n\\nAn overview of those customers and the ways in which they use our software follows below.\\n\\n## Table of Contents\\n\\n## Overview\\n\\nOur software is currently used across more than 60 industries around the world.\\n\\nOf the $1.9 billion in revenue that we generated in 2022, 56% came from customers in the government segment, and 44% came from customers in the commercial segment.\\n\\nOur business continues to have a global presence. In 2022, we earned 61% of our revenue from customers in the United States, and 39% from those abroad.\\n\\nThe average revenue for our top twenty customers during the trailing twelve months ended December 31, 2022 was $49.4 million, and is up from 2021, when the average revenue from our top 20 customers during the trailing twelve months ended December 31, 2021 was $43.6 million, demonstrating our expanding relationships with existing customers.\\n\\n## Our Software at Work\\n\\nOur software is in the hands of factory workers, soldiers, clinicians, prosecutors, investigators, claims adjusters, technicians, intelligence analysts, and social workers around  the  world.  It  is  used  in  a  variety  of  applications  including  by  utility  operations  analysts,  automotive  manufacturing  workers,  oil  and  gas  technicians  and operators, and pharmaceutical researchers in the United States; supply-chain managers in South Korea; assembly workers in France; public health administrators in the United Kingdom and the United States; and special forces personnel and military officials in the United States and abroad.\\n\\n## Industries and Sectors\\n\\nIn addition to supporting individual institutions, our platforms have become central operating systems for entire industries and sectors.\\n\\nOur work with Airbus S.A.S. ('Airbus'), for example, was initially focused on the production of the A350 aircraft. The deployment of our software soon grew into Skywise, our aviation platform that has become the central operating system of the airline industry.\\n\\nSkywise connects more than 10,000 aircraft across a growing community of airlines, maintenance and repair organizations, authorities, and Airbus. Decision makers at each of these institutions use Skywise to more efficiently design, manufacture, service, operate, and maintain their global fleets.\", mimetype='text/plain', start_char_idx=19049, end_char_idx=24044, metadata_seperator='\\n', text_template='{metadata_str}\\n\\n{content}'), score=0.8237512832146352)]"
      ]
     },
     "execution_count": 30,
     "metadata": {},
     "output_type": "execute_result"
    },
    {
     "data": {
      "application/databricks.mlflow.trace": "[\"tr-e719d79487a5415aa31a3d3c3c5d3706\", \"tr-5396ada6523e4d89a5a6fdeb68540ea5\"]",
      "text/plain": [
       "[Trace(request_id=tr-e719d79487a5415aa31a3d3c3c5d3706), Trace(request_id=tr-5396ada6523e4d89a5a6fdeb68540ea5)]"
      ]
     },
     "metadata": {},
     "output_type": "display_data"
    }
   ],
   "source": [
    "query_str = \"What was Palantir's revenue in 2022?\"\n",
    "\n",
    "nodes = index.as_retriever(\n",
    "            similarity_top_k= 8\n",
    "        ).retrieve(query_str)\n",
    "nodes"
   ]
  },
  {
   "cell_type": "markdown",
   "metadata": {
    "application/vnd.databricks.v1+cell": {
     "cellMetadata": {
      "byteLimit": 2048000,
      "rowLimit": 10000
     },
     "inputWidgets": {},
     "nuid": "fdb92c23-e494-4e76-b93a-9762323a946a",
     "showTitle": false,
     "tableResultSettingsMap": {},
     "title": ""
    }
   },
   "source": [
    "### ✅ TODO List:\n",
    "\n",
    "\n",
    "#### 📦 Explore N-tuple Abstraction\n",
    "- Define a flexible `n`-tuple data structure for representing knowledge graph entities and relationships \n",
    "- Extend to support:\n",
    "  - Higher-order relationships (e.g., quads or n-tuples).\n",
    "  - Temporal and contextual metadata.\n",
    "- Provide transformation utilities between `n`-tuples and NetworkX / Neo4j graph formats.\n"
   ]
  }
 ],
 "metadata": {
  "application/vnd.databricks.v1+notebook": {
   "computePreferences": null,
   "dashboards": [],
   "environmentMetadata": null,
   "inputWidgetPreferences": null,
   "language": "python",
   "notebookMetadata": {
    "pythonIndentUnit": 4
   },
   "notebookName": "full_pipeline",
   "widgets": {}
  },
  "kernelspec": {
   "display_name": "Python 3",
   "language": "python",
   "name": "python3"
  },
  "language_info": {
   "name": "python"
  }
 },
 "nbformat": 4,
 "nbformat_minor": 0
}
